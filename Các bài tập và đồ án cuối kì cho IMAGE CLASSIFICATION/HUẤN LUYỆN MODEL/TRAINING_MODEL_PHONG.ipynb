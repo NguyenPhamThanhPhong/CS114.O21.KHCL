{
  "cells": [
    {
      "cell_type": "markdown",
      "source": [
        "# HUẤN LUYỆN MODEL: TRAINING MODEL\n",
        "##_Author_: **Nguyễn Phạm Thanh Phong - 21522458**\n",
        "-Lớp  CS114.O21.KHCL\n",
        "<br>\n",
        "Model used:\n",
        "* MobileNetV3 on split 1,3,4,5\n",
        "* ResNet50 on split 2"
      ],
      "metadata": {
        "id": "nYbKIWOYxwUU"
      },
      "id": "nYbKIWOYxwUU"
    },
    {
      "cell_type": "markdown",
      "source": [
        "## Import các thư viện cần thiết"
      ],
      "metadata": {
        "id": "ZY0FODSv4p-a"
      },
      "id": "ZY0FODSv4p-a"
    },
    {
      "cell_type": "code",
      "execution_count": null,
      "metadata": {
        "id": "ebc5aa75-3829-4abc-888f-8b1249d3290e"
      },
      "outputs": [],
      "source": [
        "import os\n",
        "import random\n",
        "from datetime import datetime\n",
        "from PIL import Image\n",
        "from torchvision import transforms\n",
        "from torch.utils.data import Dataset, DataLoader\n",
        "import matplotlib.pyplot as plt\n",
        "from tqdm import tqdm\n",
        "import pandas as pd"
      ],
      "id": "ebc5aa75-3829-4abc-888f-8b1249d3290e"
    },
    {
      "cell_type": "code",
      "execution_count": null,
      "metadata": {
        "id": "6dcf4dae-b9f4-4764-b058-3ebab4d02005"
      },
      "outputs": [],
      "source": [
        "import torch\n",
        "import torch.nn as nn\n",
        "import torch.optim as optim\n",
        "from torch.utils.data import Dataset, DataLoader, Subset\n",
        "from torchvision import transforms, models\n",
        "from sklearn.model_selection import train_test_split\n",
        "import seaborn as sns\n",
        "from sklearn.metrics import confusion_matrix, precision_recall_fscore_support, accuracy_score\n",
        "import json\n",
        "import matplotlib.pyplot as plt\n",
        "from torch.nn import Dropout"
      ],
      "id": "6dcf4dae-b9f4-4764-b058-3ebab4d02005"
    },
    {
      "cell_type": "code",
      "execution_count": null,
      "metadata": {
        "colab": {
          "base_uri": "https://localhost:8080/"
        },
        "id": "i_0vsUg52_x3",
        "outputId": "c22a60e2-78cf-4fb6-e887-7220862ff0cd"
      },
      "outputs": [
        {
          "output_type": "stream",
          "name": "stdout",
          "text": [
            "Mounted at /content/drive\n"
          ]
        }
      ],
      "source": [
        "from google.colab import drive\n",
        "drive.mount('/content/drive')"
      ],
      "id": "i_0vsUg52_x3"
    },
    {
      "cell_type": "markdown",
      "source": [
        "## Chuẩn bị các biến toàn cục"
      ],
      "metadata": {
        "id": "U8gBrvIn45HF"
      },
      "id": "U8gBrvIn45HF"
    },
    {
      "cell_type": "code",
      "execution_count": null,
      "metadata": {
        "id": "5af36e1d-4537-4164-b0fd-75e666277c8e"
      },
      "outputs": [],
      "source": [
        "label_mapping = {\n",
        "    'Others': 0,\n",
        "    'Honda': 1,\n",
        "    'Suzuki': 2,\n",
        "    'Yamaha': 3,\n",
        "    'VinFast': 4\n",
        "}\n",
        "reverse_label_mapping={\n",
        "    0: 'Others',\n",
        "    1: 'Honda',\n",
        "    2: 'Suzuki',\n",
        "    3: 'Yamaha',\n",
        "    4: 'VinFast'\n",
        "}\n",
        "ORIGINAL_THAYDUY_DIR = \"drive/MyDrive/my_shared_shortcut/Public\""
      ],
      "id": "5af36e1d-4537-4164-b0fd-75e666277c8e"
    },
    {
      "cell_type": "markdown",
      "source": [
        "## Chuẩn bị dataset để load image:\n",
        "Since torch.ImageFolder some how not work though loading image from cleaned set"
      ],
      "metadata": {
        "id": "c_CqPkNB482C"
      },
      "id": "c_CqPkNB482C"
    },
    {
      "cell_type": "code",
      "execution_count": null,
      "metadata": {
        "id": "7aa0d833-1661-484c-9409-f8c62b396a2c"
      },
      "outputs": [],
      "source": [
        "class CustomImageDataset(Dataset):\n",
        "    def __init__(self, df, save_dir, transform=None):\n",
        "        self.df = df\n",
        "        self.save_dir = save_dir\n",
        "        self.transform = transform\n",
        "\n",
        "    def __len__(self):\n",
        "        return len(self.df)\n",
        "\n",
        "    def __getitem__(self, idx):\n",
        "        # print(self.df.iloc[idx]['full_path'])\n",
        "        img_path = os.path.join(self.save_dir , self.df.iloc[idx]['full_path'])\n",
        "        label = self.df.iloc[idx]['label_idx']\n",
        "\n",
        "        # Open the image file\n",
        "        image = Image.open(img_path).convert('RGB')\n",
        "\n",
        "        # Apply transformation if provided\n",
        "        if self.transform:\n",
        "            image = self.transform(image)\n",
        "\n",
        "        return image, label"
      ],
      "id": "7aa0d833-1661-484c-9409-f8c62b396a2c"
    },
    {
      "cell_type": "markdown",
      "source": [
        "## Load danh sách đường dẫn các ảnh và label tương ứng của chúng từ file \".csv\" đã lưu từ trước"
      ],
      "metadata": {
        "id": "gnQRTHhPm8t6"
      },
      "id": "gnQRTHhPm8t6"
    },
    {
      "cell_type": "code",
      "execution_count": null,
      "metadata": {
        "id": "11c4a53c-fef0-4fe6-aed0-b09d4674290a"
      },
      "outputs": [],
      "source": [
        "df_path_1 = pd.read_csv('./SPLITS-CSV/MotocycleDataset-train-clean-1.csv')"
      ],
      "id": "11c4a53c-fef0-4fe6-aed0-b09d4674290a"
    },
    {
      "cell_type": "code",
      "execution_count": null,
      "metadata": {
        "id": "d0144742-7e8c-4e7e-ac6b-08a06ca23e02",
        "outputId": "ebab2dae-3029-4ebe-bc13-bf14a5c2d01b"
      },
      "outputs": [
        {
          "data": {
            "text/html": [
              "<div>\n",
              "<style scoped>\n",
              "    .dataframe tbody tr th:only-of-type {\n",
              "        vertical-align: middle;\n",
              "    }\n",
              "\n",
              "    .dataframe tbody tr th {\n",
              "        vertical-align: top;\n",
              "    }\n",
              "\n",
              "    .dataframe thead th {\n",
              "        text-align: right;\n",
              "    }\n",
              "</style>\n",
              "<table border=\"1\" class=\"dataframe\">\n",
              "  <thead>\n",
              "    <tr style=\"text-align: right;\">\n",
              "      <th></th>\n",
              "      <th>full_path</th>\n",
              "      <th>label_idx</th>\n",
              "    </tr>\n",
              "  </thead>\n",
              "  <tbody>\n",
              "    <tr>\n",
              "      <th>0</th>\n",
              "      <td>./CLASS-IMAGES/Honda/22520968-22520996-2252099...</td>\n",
              "      <td>1</td>\n",
              "    </tr>\n",
              "    <tr>\n",
              "      <th>1</th>\n",
              "      <td>./CLASS-IMAGES/Honda/22520968-22520996-2252099...</td>\n",
              "      <td>1</td>\n",
              "    </tr>\n",
              "  </tbody>\n",
              "</table>\n",
              "</div>"
            ],
            "text/plain": [
              "                                           full_path  label_idx\n",
              "0  ./CLASS-IMAGES/Honda/22520968-22520996-2252099...          1\n",
              "1  ./CLASS-IMAGES/Honda/22520968-22520996-2252099...          1"
            ]
          },
          "execution_count": 8,
          "metadata": {},
          "output_type": "execute_result"
        }
      ],
      "source": [
        "df_path_1.head(2)"
      ],
      "id": "d0144742-7e8c-4e7e-ac6b-08a06ca23e02"
    },
    {
      "cell_type": "code",
      "execution_count": null,
      "metadata": {
        "id": "8a0ea08a-b7af-4a10-87be-0f3fc115c3d5"
      },
      "outputs": [],
      "source": [
        "transform = transforms.Compose([\n",
        "        transforms.Resize((256, 256)),\n",
        "        transforms.ToTensor()\n",
        "    ])\n"
      ],
      "id": "8a0ea08a-b7af-4a10-87be-0f3fc115c3d5"
    },
    {
      "cell_type": "code",
      "execution_count": null,
      "metadata": {
        "id": "0d6dc6c3-f2e6-4dce-b15a-7bba98d86db4"
      },
      "outputs": [],
      "source": [
        "dataset = CustomImageDataset(df_path_1, save_dir='./', transform=transform)"
      ],
      "id": "0d6dc6c3-f2e6-4dce-b15a-7bba98d86db4"
    },
    {
      "cell_type": "markdown",
      "source": [
        "## Hiển thị một vài ảnh từ Dataloader và iterator của Dataloader"
      ],
      "metadata": {
        "id": "E5hob1Kl5tDX"
      },
      "id": "E5hob1Kl5tDX"
    },
    {
      "cell_type": "code",
      "execution_count": null,
      "metadata": {
        "id": "5c0025f1-e98f-442c-afd3-7a75da7f05b7"
      },
      "outputs": [],
      "source": [
        "def show_images(images, labels, n_images=10, mapping={}):\n",
        "    # Denormalize images if needed (assuming ToTensor() was used without normalization)\n",
        "    # Convert from tensor (C, H, W) to numpy (H, W, C) and transpose dimensions\n",
        "    images = images.permute(0, 2, 3, 1).numpy()\n",
        "\n",
        "    # Create a figure to display the images\n",
        "    fig, axes = plt.subplots(1, n_images, figsize=(15, 15))\n",
        "    for i in range(n_images):\n",
        "        image = images[i]\n",
        "        label = mapping[labels[i].item()]\n",
        "        # Show the image\n",
        "        ax = axes[i]\n",
        "        ax.imshow(image)\n",
        "        ax.axis('off')\n",
        "        ax.set_title(label)\n",
        "\n",
        "    plt.show()"
      ],
      "id": "5c0025f1-e98f-442c-afd3-7a75da7f05b7"
    },
    {
      "cell_type": "code",
      "execution_count": null,
      "metadata": {
        "id": "44992ad8-22c2-44ff-84c0-22980ea5ce73",
        "outputId": "f36cef52-56ef-4e13-e024-9e2dfa575c09"
      },
      "outputs": [
        {
          "data": {
            "text/plain": [
              "<torch.utils.data.dataloader.DataLoader at 0x23b588530e0>"
            ]
          },
          "execution_count": 25,
          "metadata": {},
          "output_type": "execute_result"
        }
      ],
      "source": [
        "data_loader_tranformed = DataLoader(dataset, batch_size=32, shuffle=True)\n",
        "data_loader_tranformed"
      ],
      "id": "44992ad8-22c2-44ff-84c0-22980ea5ce73"
    },
    {
      "cell_type": "code",
      "execution_count": null,
      "metadata": {
        "id": "95dda0a6-86a1-4c6b-b0ee-26558d337709"
      },
      "outputs": [],
      "source": [
        "data_iter_transformed = iter(data_loader_tranformed)\n",
        "images, labels = next(data_iter_transformed)"
      ],
      "id": "95dda0a6-86a1-4c6b-b0ee-26558d337709"
    },
    {
      "cell_type": "markdown",
      "source": [
        "### Xem một vài ảnh"
      ],
      "metadata": {
        "id": "r21QLqzFxfxz"
      },
      "id": "r21QLqzFxfxz"
    },
    {
      "cell_type": "code",
      "execution_count": null,
      "metadata": {
        "id": "6b39a072-0352-479d-be93-e2f2ef06800e",
        "outputId": "db46f58d-d38c-4bbb-c0c3-980f0ee68c71"
      },
      "outputs": [
        {
          "data": {
            "image/png": "[encoded data removed]",
            "text/plain": [
              "<Figure size 1500x1500 with 10 Axes>"
            ]
          },
          "metadata": {},
          "output_type": "display_data"
        }
      ],
      "source": [
        "show_images(images, labels, n_images=10,mapping=reverse_label_mapping)"
      ],
      "id": "6b39a072-0352-479d-be93-e2f2ef06800e"
    },
    {
      "cell_type": "markdown",
      "metadata": {
        "id": "6fb5c1b2-1252-4903-9198-40417f4b88c5"
      },
      "source": [
        "## Chuẩn bị cho quá trình train"
      ],
      "id": "6fb5c1b2-1252-4903-9198-40417f4b88c5"
    },
    {
      "cell_type": "markdown",
      "source": [
        "### Chuẩn bị EarlyStopping, nhằm ngừng train sau khi ghi nhận lại validation không cải thiện thêm nữa qua các lần train"
      ],
      "metadata": {
        "id": "mU4_P8TL53B2"
      },
      "id": "mU4_P8TL53B2"
    },
    {
      "cell_type": "code",
      "execution_count": null,
      "metadata": {
        "id": "7bb54914"
      },
      "outputs": [],
      "source": [
        "class EarlyStopping:\n",
        "    def __init__(self, patience=15, verbose=False):\n",
        "        self.patience = patience\n",
        "        self.verbose = verbose\n",
        "        self.counter = 0\n",
        "        self.best_loss = None\n",
        "        self.early_stop = False\n",
        "        # self.val_loss=1000\n",
        "\n",
        "    def consume_loss(self, val_loss, model):\n",
        "        print(f'in early: val_loss vs best_loss: {val_loss} - {self.best_loss}')\n",
        "        if self.best_loss is None or val_loss < self.best_loss:\n",
        "            self.best_loss = val_loss\n",
        "            self.counter = 0\n",
        "            self.save_checkpoint(val_loss, model)\n",
        "        else:\n",
        "            self.counter += 1\n",
        "            if self.verbose:\n",
        "                print(f'EarlyStopping counter: {self.counter} out of {self.patience}')\n",
        "            if self.counter >= self.patience:\n",
        "                self.early_stop = True\n",
        "\n",
        "    def save_checkpoint(self, val_loss, model):\n",
        "        torch.save(model.state_dict(), 'checkpoint.pt')\n",
        "\n"
      ],
      "id": "7bb54914"
    },
    {
      "cell_type": "markdown",
      "source": [
        "### Hàm save_model sẽ lưu lại các thông số của model (model.state_dict()), cũng như các thước đo trong quá trình train model qua từng epoch\n",
        "* model: model đã định nghĩa\n",
        "* train_loader: [Dataloader](https://pytorch.org/tutorials/beginner/basics/data_tutorial.html) của training dataset\n",
        "* val_loader: [Dataloader](https://pytorch.org/tutorials/beginner/basics/data_tutorial.html) của validation dataset\n",
        "* criterion: một module cho phép tính toán loss qua từng epoch, ở đây ta sử dụng [Cross Entropyloss](https://pytorch.org/docs/stable/generated/torch.nn.CrossEntropyLoss.html)\n",
        "* optimizer: một module cho phép cập nhật gradient khi thực hiện [propagation](https://www.geeksforgeeks.org/what-is-forward-propagation-in-neural-networks/) và [backpropagation](https://www.geeksforgeeks.org/backpropagation-in-neural-network/) trên mỗi batch của [Dataloader](https://pytorch.org/tutorials/beginner/basics/data_tutorial.html)\n",
        "* scheduler: an util function, which is vitally support my learning rate updates over epochs, cause the success of this model training\n",
        "* scheduler: một module thiết yếu giúp cập nhật learning rate sau các epoch train nếu vi phạm vào điều kiện và vượt quá patience của module. [Mô tả ở đây](https://pytorch.org/docs/stable/generated/torch.optim.lr_scheduler.ReduceLROnPlateau.html)\n",
        "* current_epoch: Epoch đang train hiện tại, dùng trong trường hợp bị hủy trong quá trình train và cần train tiếp tại epoch trước đó\n",
        "* num_epochs: Số lượng epoch tối đa dùng cho quá trình train hiện tại\n",
        "* checkpoint_savedir: đường dẫn để lưu model và các thước đo trong quá trình train\n",
        "\n",
        "\n",
        "Qua thời gian, đoạn code sẽ giúp lưu lại model tốt nhất dựa trên tiêu chí validation loss, dừng theo điều kiện của EarlyStopping (patience) and và cuối cùng trả về model tốt nhất\n",
        "\n",
        "\n"
      ],
      "metadata": {
        "id": "SB3dGZ2i5_gY"
      },
      "id": "SB3dGZ2i5_gY"
    },
    {
      "cell_type": "code",
      "execution_count": null,
      "metadata": {
        "id": "297f1ce2-b438-43a1-a785-889e095461a7"
      },
      "outputs": [],
      "source": [
        "def save_model(model, epoch, train_loss, val_loss, train_acc, val_acc, checkpoint_savedir):\n",
        "    save_dict = {\n",
        "        \"model\": model.state_dict(),\n",
        "        \"val_loss\": val_loss,\n",
        "        \"train_loss\": train_loss,\n",
        "        \"train_acc\": train_acc,\n",
        "        \"val_acc\": val_acc\n",
        "    }\n",
        "    checkpoint_path = os.path.join(checkpoint_savedir, f'epoch_{epoch}.pth')\n",
        "    torch.save(save_dict, checkpoint_path)\n",
        "    print(f\"saved model at epoch {epoch}: {checkpoint_path}\")\n",
        "\n",
        "def train_model(model, train_loader:DataLoader, val_loader:DataLoader,\n",
        "                criterion, optimizer, scheduler,current_epoch, num_epochs, checkpoint_savedir='./models', early_stopping=None):\n",
        "    device = device = torch.device(\"cuda\" if torch.cuda.is_available() else \"cpu\")\n",
        "    print(f\"device: {device}\")\n",
        "    model.to(device)\n",
        "\n",
        "    best_loss = float('inf')\n",
        "    train_size = len(train_loader.dataset)\n",
        "    val_size = len(val_loader.dataset)\n",
        "    print(f\"train size: {train_size}\")\n",
        "    print(f\"val size: {val_size}\")\n",
        "\n",
        "    for epoch in range(current_epoch,num_epochs+1):\n",
        "        model.train()\n",
        "        running_loss = 0.0\n",
        "\n",
        "        # Training Phase\n",
        "        train_corrects = 0\n",
        "        for inputs, labels in train_loader:\n",
        "            inputs, labels = inputs.to(device), labels.to(device)\n",
        "\n",
        "            optimizer.zero_grad()\n",
        "            outputs = model(inputs)\n",
        "\n",
        "            _, preds = torch.max(outputs, 1)\n",
        "\n",
        "            loss = criterion(outputs, labels)\n",
        "            loss.backward()\n",
        "            optimizer.step()\n",
        "\n",
        "            running_loss += loss.item() * inputs.size(0)\n",
        "            train_corrects += torch.sum(preds == labels.data)\n",
        "\n",
        "        epoch_loss = running_loss / train_size\n",
        "        train_acc = train_corrects*100 / train_size\n",
        "        print(f\"Training Loss: {epoch_loss:.6f} ; Acc: {train_acc:.4f}\")\n",
        "\n",
        "        # Validation Phase\n",
        "        model.eval()\n",
        "        val_loss = 0.0\n",
        "        val_corrects = 0\n",
        "        with torch.no_grad():\n",
        "            for inputs, labels in tqdm(val_loader, desc=f\"Validation Epoch {epoch+1}/{num_epochs}\"):\n",
        "                inputs, labels = inputs.to(device), labels.to(device)\n",
        "                outputs = model(inputs)\n",
        "                _, preds = torch.max(outputs, 1)\n",
        "                loss = criterion(outputs, labels)\n",
        "\n",
        "                val_loss += loss.item() * inputs.size(0)\n",
        "                val_corrects += torch.sum(preds == labels.data)\n",
        "\n",
        "        val_epoch_loss = val_loss / val_size\n",
        "        val_acc = val_corrects*100 / val_size\n",
        "        print(f\"Validation Loss: {val_epoch_loss:.4f}; Acc: {val_acc:.4f}\")\n",
        "\n",
        "        # Update scheduler\n",
        "        scheduler.step(val_epoch_loss)\n",
        "        # Save checkpoint\n",
        "        os.makedirs(checkpoint_savedir, exist_ok=True)\n",
        "        save_model(model, epoch, epoch_loss, val_epoch_loss, train_acc, val_acc, checkpoint_savedir)\n",
        "\n",
        "        if(early_stopping):\n",
        "            early_stopping.consume_loss(val_loss, model)\n",
        "            if early_stopping.early_stop:\n",
        "                print(\"Early stopping!!!!!!!!!!!!!!!!!!\")\n",
        "                break\n",
        "\n",
        "        # Save the best model based on validation loss\n",
        "        if val_epoch_loss < best_loss:\n",
        "            best_loss = val_epoch_loss\n",
        "            best_model_path = os.path.join(checkpoint_savedir, 'best_model.pth')\n",
        "            torch.save(model.state_dict(), best_model_path)\n",
        "            print(f\"Best model updated with validation loss {best_loss:.4f} and saved at {best_model_path}\")"
      ],
      "id": "297f1ce2-b438-43a1-a785-889e095461a7"
    },
    {
      "cell_type": "markdown",
      "source": [
        "## Làm giàu dữ liệu ảnh trực tiếp trên training dataset\n",
        "\n",
        "* Model sẽ cần nhận được nhiều biến thể hơn trong quá trình train, từ đó nâng cao khả năng trích xuất đặc trưng và nhận diện của model khi dự đoán các ảnh trên thực tế\n",
        "* Validation dataset sẽ giả lập các ảnh sẽ dự đoán trong thực tế, do đó chỉ đơn giản nhận một vài biến đổi đơn giản, để đảm bảo model sẽ dự đoán ảnh trên cùng hệ quy chiếu\n",
        "<br>\n",
        "Lưu ý:\n",
        "<br> Hệ quy chiếu ở đây chọn:\n",
        "* Kích cỡ ảnh: IMG_SIZE=360\n",
        "* Cắt phần trung tâm của ảnh: transforms.CenterCrop(IMG_SIZE-24) với IMG_SIZE=360\n",
        "* Kiểu dữ liệu ảnh: [Tensor Image](https://pytorch.org/vision/main/generated/torchvision.tv_tensors.Image.html)\n",
        "* Normalization: transforms.Normalize(mean=[0.485, 0.456, 0.406], std=[0.229, 0.224, 0.225]).\n",
        "<br>\n",
        "\n",
        "Lý do vì sao nên normalize ảnh trước khi train nằm ở bài báo nghiên sau: [ImageNet Classification with Deep Convolutional Neural Networks ](https://proceedings.neurips.cc/paper_files/paper/2012/file/c399862d3b9d6b76c8436e924a68c45b-Paper.pdf)"
      ],
      "metadata": {
        "id": "gOjTu7kQgtQY"
      },
      "id": "gOjTu7kQgtQY"
    },
    {
      "cell_type": "code",
      "execution_count": null,
      "metadata": {
        "id": "4e939ba4-81b6-4348-9b03-dc7eb18c2d72"
      },
      "outputs": [],
      "source": [
        "IMG_SIZE = 360\n",
        "train_transform = transforms.Compose([\n",
        "    transforms.RandomResizedCrop(IMG_SIZE),\n",
        "    transforms.RandomHorizontalFlip(),\n",
        "    transforms.RandomRotation(15),\n",
        "    transforms.ColorJitter(brightness=0.2, contrast=0.2, saturation=0.2),\n",
        "    transforms.RandomPerspective(distortion_scale=0.2, p=0.5),\n",
        "    transforms.RandomGrayscale(p=0.1),\n",
        "    transforms.ToTensor(),\n",
        "    transforms.Normalize(mean=[0.485, 0.456, 0.406], std=[0.229, 0.224, 0.225]),\n",
        "])\n",
        "\n",
        "val_transform = transforms.Compose([\n",
        "    transforms.Resize(IMG_SIZE),\n",
        "    transforms.CenterCrop(IMG_SIZE-24),\n",
        "    transforms.ToTensor(),\n",
        "    transforms.Normalize(mean=[0.485, 0.456, 0.406], std=[0.229, 0.224, 0.225]),\n",
        "])\n"
      ],
      "id": "4e939ba4-81b6-4348-9b03-dc7eb18c2d72"
    },
    {
      "cell_type": "markdown",
      "metadata": {
        "id": "3d2315aa"
      },
      "source": [
        "## Bắt đầu train model"
      ],
      "id": "3d2315aa"
    },
    {
      "cell_type": "markdown",
      "source": [
        "### Cấu hình model và chuẩn bị các hyper-parameter trước thực thi hàm train:\n",
        "* Bằng cách in ra model [MobileNetV3](https://pytorch.org/vision/main/models/mobilenetv3.html), ta có thể thấy được layer cuối cùng của model\n",
        "* Trong trường hợp này, ta có 5 lớp đại diện cho 5 label. Do đó, out_features của layer cuối cùng của model sẽ là 5\n",
        "* Đồng thời, ta load các weights đã được train sẵn trước trong model [MobileNetV3](https://pytorch.org/vision/main/models/mobilenetv3.html)\n",
        "* Các hyper-parameter dùng để tinh chỉnh trước khi train bao gồm:\n",
        " * criterion: module sẽ được dùng cho việc tính toán [Cross Entropy loss](https://pytorch.org/docs/stable/generated/torch.nn.CrossEntropyLoss.html)\n",
        " * optimizer: sử dụng [ADAM optimizer](https://www.geeksforgeeks.org/adam-optimizer/) được mô tả trong phần \"[Cơ sở lý thuyết](https://colab.research.google.com/drive/14ueaXjzvj-CbaopmHvJ2fTOaUCNs2hdq?authuser=1#scrollTo=GsJhcMshgEuy&line=1&uniqifier=1)\" trên\n",
        " * scheduler: module giúp đưa ra quyết định update learning rate qua các epoch\n",
        "\n",
        "Giải thích thêm về module Scheduler:\n",
        "Các parameter khi dùng scheduler trong trường hợp này gồm:\n",
        "<br>\n",
        "* optimizer: Optimizer đã khai báo trước đó, nhằm bọc lấy module này\n",
        "<br>\n",
        "* mode: min. Vì ta sẽ chọn giá trị thấp nhất của validation loss làm điều kiện giảm trước khi train\n",
        "<br>\n",
        "* factor: hệ số sẽ được nhân cho learning rate khi thỏa mãn điều kiện của module\n",
        "<br>\n",
        "* patience: số lần chờ đợi khi điều kiện của module bị vi phạm\n",
        "<br>\n",
        "\n",
        "Chi tiết về module scheduler có thể xem ở đây [Reduce Lr On Plateau](https://pytorch.org/docs/stable/generated/torch.optim.lr_scheduler.ReduceLROnPlateau.html)"
      ],
      "metadata": {
        "id": "sMewIX-IY5vb"
      },
      "id": "sMewIX-IY5vb"
    },
    {
      "cell_type": "code",
      "execution_count": null,
      "metadata": {
        "id": "296a3b87-36cb-4f33-a9f7-56c7769b3b89",
        "outputId": "b3e7cbb6-8687-47ed-dba2-dab5572c07bd"
      },
      "outputs": [
        {
          "name": "stdout",
          "output_type": "stream",
          "text": [
            "cuda\n"
          ]
        },
        {
          "name": "stderr",
          "output_type": "stream",
          "text": [
            "/home/treerspeaking/my_python_3.11.7/lib/python3.11/site-packages/torch/optim/lr_scheduler.py:28: UserWarning: The verbose parameter is deprecated. Please use get_last_lr() to access the learning rate.\n",
            "  warnings.warn(\"The verbose parameter is deprecated. Please use get_last_lr() \"\n"
          ]
        }
      ],
      "source": [
        "num_classes = 5  # Number of classes in your dataset\n",
        "model = models.mobilenet_v3_large(weights='DEFAULT')\n",
        "# print(model)\n",
        "# num_ftrs = model.fc.in_features\n",
        "# model.fc = nn.Linear(num_ftrs, num_classes)\n",
        "model.classifier = nn.Sequential(\n",
        "    nn.Linear(in_features=960, out_features=1280, bias=True),\n",
        "    nn.Hardswish(),\n",
        "    nn.Dropout(p=0.2),\n",
        "    nn.Linear(in_features=1280, out_features=5, bias=True)\n",
        ")\n",
        "\n",
        "device = torch.device(\"cuda\" if torch.cuda.is_available() else \"cpu\")\n",
        "print(device)\n",
        "model.to(device)\n",
        "\n",
        "# Define criterion, optimizer, and scheduler\n",
        "criterion = nn.CrossEntropyLoss()\n",
        "optimizer = optim.AdamW(model.parameters(), lr=5e-5)\n",
        "scheduler = torch.optim.lr_scheduler.ReduceLROnPlateau(optimizer, mode='min', factor=0.1, patience=10, verbose=True)\n",
        "# early_stopping = EarlyStopping(patience=25, verbose=True)\n"
      ],
      "id": "296a3b87-36cb-4f33-a9f7-56c7769b3b89"
    },
    {
      "cell_type": "markdown",
      "source": [
        "### Load danh sách đường dẫn các ảnh và label tương ứng của chúng thành Dataframe"
      ],
      "metadata": {
        "id": "2QP5VBoqBJ3Q"
      },
      "id": "2QP5VBoqBJ3Q"
    },
    {
      "cell_type": "code",
      "execution_count": null,
      "metadata": {
        "id": "d3da010e-e704-4b5c-9976-03107c06f621"
      },
      "outputs": [],
      "source": [
        "train_df = pd.read_csv('./split-1-train.csv')\n",
        "val_df = pd.read_csv('./split-1-val.csv')"
      ],
      "id": "d3da010e-e704-4b5c-9976-03107c06f621"
    },
    {
      "cell_type": "markdown",
      "source": [
        "### Chuẩn bị Training Dataset và Validation Dataset.\n",
        "#### Chuẩn bị DataLoader để load Image từ danh sách đường dẫn các ảnh đã chuẩn bị từ trước"
      ],
      "metadata": {
        "id": "MLslzzwmBWKC"
      },
      "id": "MLslzzwmBWKC"
    },
    {
      "cell_type": "code",
      "execution_count": null,
      "metadata": {
        "id": "9c81438e-a25d-4798-b622-958cbee794a4"
      },
      "outputs": [],
      "source": [
        "train_dataset = CustomImageDataset(train_df,save_dir='./',transform=train_transform)\n",
        "val_dataset=CustomImageDataset(val_df,save_dir='./',transform=val_transform)\n",
        "# Create DataLoaders\n",
        "train_loader = DataLoader(train_dataset, batch_size=32, shuffle=True,  num_workers=6)\n",
        "val_loader = DataLoader(val_dataset, batch_size=32, shuffle=False,num_workers=6)"
      ],
      "id": "9c81438e-a25d-4798-b622-958cbee794a4"
    },
    {
      "cell_type": "markdown",
      "source": [
        "### Train model cho Split 1\n",
        "* Số epoch sẽ train: 80\n",
        "* epoch bắt đầu: 1\n",
        "* train model từ các module đã chuẩn bị từ trước và sử dụng hàm train_model để train"
      ],
      "metadata": {
        "id": "6anyvckphCyO"
      },
      "id": "6anyvckphCyO"
    },
    {
      "cell_type": "code",
      "execution_count": null,
      "metadata": {
        "id": "551d06c7-d033-438a-9458-e095be4fd6af",
        "outputId": "b39724f1-bd80-45bf-a885-a212be633bbe",
        "scrolled": true
      },
      "outputs": [
        {
          "name": "stdout",
          "output_type": "stream",
          "text": [
            "device: cuda\n",
            "train size: 22223\n",
            "val size: 5556\n"
          ]
        },
        {
          "name": "stderr",
          "output_type": "stream",
          "text": [
            "/home/treerspeaking/my_python_3.11.7/lib/python3.11/site-packages/PIL/Image.py:981: UserWarning: Palette images with Transparency expressed in bytes should be converted to RGBA images\n",
            "  warnings.warn(\n",
            "/home/treerspeaking/my_python_3.11.7/lib/python3.11/site-packages/PIL/Image.py:981: UserWarning: Palette images with Transparency expressed in bytes should be converted to RGBA images\n",
            "  warnings.warn(\n",
            "/home/treerspeaking/my_python_3.11.7/lib/python3.11/site-packages/PIL/Image.py:981: UserWarning: Palette images with Transparency expressed in bytes should be converted to RGBA images\n",
            "  warnings.warn(\n",
            "/home/treerspeaking/my_python_3.11.7/lib/python3.11/site-packages/PIL/Image.py:981: UserWarning: Palette images with Transparency expressed in bytes should be converted to RGBA images\n",
            "  warnings.warn(\n",
            "/home/treerspeaking/my_python_3.11.7/lib/python3.11/site-packages/PIL/Image.py:981: UserWarning: Palette images with Transparency expressed in bytes should be converted to RGBA images\n",
            "  warnings.warn(\n",
            "/home/treerspeaking/my_python_3.11.7/lib/python3.11/site-packages/PIL/Image.py:981: UserWarning: Palette images with Transparency expressed in bytes should be converted to RGBA images\n",
            "  warnings.warn(\n"
          ]
        },
        {
          "name": "stdout",
          "output_type": "stream",
          "text": [
            "Training Loss: 1.251844 ; Acc: 46.7399\n"
          ]
        },
        {
          "name": "stderr",
          "output_type": "stream",
          "text": [
            "Validation Epoch 2/80:   1%|          | 2/174 [00:00<00:41,  4.14it/s]/home/treerspeaking/my_python_3.11.7/lib/python3.11/site-packages/PIL/Image.py:981: UserWarning: Palette images with Transparency expressed in bytes should be converted to RGBA images\n",
            "  warnings.warn(\n",
            "Validation Epoch 2/80:  17%|█▋        | 30/174 [00:02<00:09, 15.77it/s]/home/treerspeaking/my_python_3.11.7/lib/python3.11/site-packages/PIL/Image.py:981: UserWarning: Palette images with Transparency expressed in bytes should be converted to RGBA images\n",
            "  warnings.warn(\n",
            "Validation Epoch 2/80:  21%|██        | 36/174 [00:02<00:07, 17.95it/s]/home/treerspeaking/my_python_3.11.7/lib/python3.11/site-packages/PIL/Image.py:981: UserWarning: Palette images with Transparency expressed in bytes should be converted to RGBA images\n",
            "  warnings.warn(\n",
            "Validation Epoch 2/80:  25%|██▌       | 44/174 [00:03<00:06, 19.21it/s]/home/treerspeaking/my_python_3.11.7/lib/python3.11/site-packages/PIL/Image.py:981: UserWarning: Palette images with Transparency expressed in bytes should be converted to RGBA images\n",
            "  warnings.warn(\n",
            "Validation Epoch 2/80:  32%|███▏      | 56/174 [00:03<00:05, 19.94it/s]/home/treerspeaking/my_python_3.11.7/lib/python3.11/site-packages/PIL/Image.py:981: UserWarning: Palette images with Transparency expressed in bytes should be converted to RGBA images\n",
            "  warnings.warn(\n",
            "Validation Epoch 2/80:  67%|██████▋   | 116/174 [00:06<00:02, 20.11it/s]/home/treerspeaking/my_python_3.11.7/lib/python3.11/site-packages/PIL/Image.py:981: UserWarning: Palette images with Transparency expressed in bytes should be converted to RGBA images\n",
            "  warnings.warn(\n",
            "Validation Epoch 2/80: 100%|██████████| 174/174 [00:09<00:00, 17.64it/s]\n"
          ]
        },
        {
          "name": "stdout",
          "output_type": "stream",
          "text": [
            "Validation Loss: 1.0017; Acc: 58.8553\n",
            "saved model at epoch 1: ./models/epoch_1.pth\n",
            "Best model updated with validation loss 1.0017 and saved at ./models/best_model.pth\n"
          ]
        },
        {
          "name": "stderr",
          "output_type": "stream",
          "text": [
            "/home/treerspeaking/my_python_3.11.7/lib/python3.11/site-packages/PIL/Image.py:981: UserWarning: Palette images with Transparency expressed in bytes should be converted to RGBA images\n",
            "  warnings.warn(\n",
            "/home/treerspeaking/my_python_3.11.7/lib/python3.11/site-packages/PIL/Image.py:981: UserWarning: Palette images with Transparency expressed in bytes should be converted to RGBA images\n",
            "  warnings.warn(\n",
            "/home/treerspeaking/my_python_3.11.7/lib/python3.11/site-packages/PIL/Image.py:981: UserWarning: Palette images with Transparency expressed in bytes should be converted to RGBA images\n",
            "  warnings.warn(\n",
            "/home/treerspeaking/my_python_3.11.7/lib/python3.11/site-packages/PIL/Image.py:981: UserWarning: Palette images with Transparency expressed in bytes should be converted to RGBA images\n",
            "  warnings.warn(\n",
            "/home/treerspeaking/my_python_3.11.7/lib/python3.11/site-packages/PIL/Image.py:981: UserWarning: Palette images with Transparency expressed in bytes should be converted to RGBA images\n",
            "  warnings.warn(\n",
            "/home/treerspeaking/my_python_3.11.7/lib/python3.11/site-packages/PIL/Image.py:981: UserWarning: Palette images with Transparency expressed in bytes should be converted to RGBA images\n",
            "  warnings.warn(\n"
          ]
        },
        {
          "name": "stdout",
          "output_type": "stream",
          "text": [
            "Training Loss: 0.990243 ; Acc: 60.3429\n"
          ]
        },
        {
          "name": "stderr",
          "output_type": "stream",
          "text": [
            "Validation Epoch 3/80:   1%|          | 2/174 [00:00<00:40,  4.20it/s]/home/treerspeaking/my_python_3.11.7/lib/python3.11/site-packages/PIL/Image.py:981: UserWarning: Palette images with Transparency expressed in bytes should be converted to RGBA images\n",
            "  warnings.warn(\n",
            "Validation Epoch 3/80:  17%|█▋        | 30/174 [00:02<00:08, 16.04it/s]/home/treerspeaking/my_python_3.11.7/lib/python3.11/site-packages/PIL/Image.py:981: UserWarning: Palette images with Transparency expressed in bytes should be converted to RGBA images\n",
            "  warnings.warn(\n",
            "Validation Epoch 3/80:  21%|██        | 36/174 [00:02<00:07, 17.98it/s]/home/treerspeaking/my_python_3.11.7/lib/python3.11/site-packages/PIL/Image.py:981: UserWarning: Palette images with Transparency expressed in bytes should be converted to RGBA images\n",
            "  warnings.warn(\n",
            "Validation Epoch 3/80:  25%|██▍       | 43/174 [00:02<00:06, 19.07it/s]/home/treerspeaking/my_python_3.11.7/lib/python3.11/site-packages/PIL/Image.py:981: UserWarning: Palette images with Transparency expressed in bytes should be converted to RGBA images\n",
            "  warnings.warn(\n",
            "Validation Epoch 3/80:  32%|███▏      | 55/174 [00:03<00:06, 19.81it/s]/home/treerspeaking/my_python_3.11.7/lib/python3.11/site-packages/PIL/Image.py:981: UserWarning: Palette images with Transparency expressed in bytes should be converted to RGBA images\n",
            "  warnings.warn(\n",
            "Validation Epoch 3/80:  67%|██████▋   | 117/174 [00:06<00:02, 19.97it/s]/home/treerspeaking/my_python_3.11.7/lib/python3.11/site-packages/PIL/Image.py:981: UserWarning: Palette images with Transparency expressed in bytes should be converted to RGBA images\n",
            "  warnings.warn(\n",
            "Validation Epoch 3/80: 100%|██████████| 174/174 [00:09<00:00, 17.61it/s]\n"
          ]
        },
        {
          "name": "stdout",
          "output_type": "stream",
          "text": [
            "Validation Loss: 0.8002; Acc: 68.9525\n",
            "saved model at epoch 2: ./models/epoch_2.pth\n",
            "Best model updated with validation loss 0.8002 and saved at ./models/best_model.pth\n"
          ]
        },
        {
          "name": "stderr",
          "output_type": "stream",
          "text": [
            "/home/treerspeaking/my_python_3.11.7/lib/python3.11/site-packages/PIL/Image.py:981: UserWarning: Palette images with Transparency expressed in bytes should be converted to RGBA images\n",
            "  warnings.warn(\n",
            "/home/treerspeaking/my_python_3.11.7/lib/python3.11/site-packages/PIL/Image.py:981: UserWarning: Palette images with Transparency expressed in bytes should be converted to RGBA images\n",
            "  warnings.warn(\n",
            "/home/treerspeaking/my_python_3.11.7/lib/python3.11/site-packages/PIL/Image.py:981: UserWarning: Palette images with Transparency expressed in bytes should be converted to RGBA images\n",
            "  warnings.warn(\n",
            "/home/treerspeaking/my_python_3.11.7/lib/python3.11/site-packages/PIL/Image.py:981: UserWarning: Palette images with Transparency expressed in bytes should be converted to RGBA images\n",
            "  warnings.warn(\n",
            "/home/treerspeaking/my_python_3.11.7/lib/python3.11/site-packages/PIL/Image.py:981: UserWarning: Palette images with Transparency expressed in bytes should be converted to RGBA images\n",
            "  warnings.warn(\n",
            "/home/treerspeaking/my_python_3.11.7/lib/python3.11/site-packages/PIL/Image.py:981: UserWarning: Palette images with Transparency expressed in bytes should be converted to RGBA images\n",
            "  warnings.warn(\n"
          ]
        },
        {
          "name": "stdout",
          "output_type": "stream",
          "text": [
            "Training Loss: 0.866134 ; Acc: 65.7967\n"
          ]
        },
        {
          "name": "stderr",
          "output_type": "stream",
          "text": [
            "Validation Epoch 4/80:   1%|          | 2/174 [00:00<00:42,  4.03it/s]/home/treerspeaking/my_python_3.11.7/lib/python3.11/site-packages/PIL/Image.py:981: UserWarning: Palette images with Transparency expressed in bytes should be converted to RGBA images\n",
            "  warnings.warn(\n",
            "Validation Epoch 4/80:  17%|█▋        | 30/174 [00:02<00:08, 16.64it/s]/home/treerspeaking/my_python_3.11.7/lib/python3.11/site-packages/PIL/Image.py:981: UserWarning: Palette images with Transparency expressed in bytes should be converted to RGBA images\n",
            "  warnings.warn(\n",
            "Validation Epoch 4/80:  21%|██        | 36/174 [00:02<00:07, 18.33it/s]/home/treerspeaking/my_python_3.11.7/lib/python3.11/site-packages/PIL/Image.py:981: UserWarning: Palette images with Transparency expressed in bytes should be converted to RGBA images\n",
            "  warnings.warn(\n",
            "Validation Epoch 4/80:  25%|██▌       | 44/174 [00:02<00:06, 19.28it/s]/home/treerspeaking/my_python_3.11.7/lib/python3.11/site-packages/PIL/Image.py:981: UserWarning: Palette images with Transparency expressed in bytes should be converted to RGBA images\n",
            "  warnings.warn(\n",
            "Validation Epoch 4/80:  32%|███▏      | 56/174 [00:03<00:05, 19.76it/s]/home/treerspeaking/my_python_3.11.7/lib/python3.11/site-packages/PIL/Image.py:981: UserWarning: Palette images with Transparency expressed in bytes should be converted to RGBA images\n",
            "  warnings.warn(\n",
            "Validation Epoch 4/80:  68%|██████▊   | 118/174 [00:06<00:02, 20.04it/s]/home/treerspeaking/my_python_3.11.7/lib/python3.11/site-packages/PIL/Image.py:981: UserWarning: Palette images with Transparency expressed in bytes should be converted to RGBA images\n",
            "  warnings.warn(\n",
            "Validation Epoch 4/80: 100%|██████████| 174/174 [00:09<00:00, 17.68it/s]\n"
          ]
        },
        {
          "name": "stdout",
          "output_type": "stream",
          "text": [
            "Validation Loss: 0.7520; Acc: 71.0223\n",
            "saved model at epoch 3: ./models/epoch_3.pth\n",
            "Best model updated with validation loss 0.7520 and saved at ./models/best_model.pth\n"
          ]
        },
        {
          "name": "stderr",
          "output_type": "stream",
          "text": [
            "/home/treerspeaking/my_python_3.11.7/lib/python3.11/site-packages/PIL/Image.py:981: UserWarning: Palette images with Transparency expressed in bytes should be converted to RGBA images\n",
            "  warnings.warn(\n",
            "/home/treerspeaking/my_python_3.11.7/lib/python3.11/site-packages/PIL/Image.py:981: UserWarning: Palette images with Transparency expressed in bytes should be converted to RGBA images\n",
            "  warnings.warn(\n",
            "/home/treerspeaking/my_python_3.11.7/lib/python3.11/site-packages/PIL/Image.py:981: UserWarning: Palette images with Transparency expressed in bytes should be converted to RGBA images\n",
            "  warnings.warn(\n",
            "/home/treerspeaking/my_python_3.11.7/lib/python3.11/site-packages/PIL/Image.py:981: UserWarning: Palette images with Transparency expressed in bytes should be converted to RGBA images\n",
            "  warnings.warn(\n",
            "/home/treerspeaking/my_python_3.11.7/lib/python3.11/site-packages/PIL/Image.py:981: UserWarning: Palette images with Transparency expressed in bytes should be converted to RGBA images\n",
            "  warnings.warn(\n",
            "/home/treerspeaking/my_python_3.11.7/lib/python3.11/site-packages/PIL/Image.py:981: UserWarning: Palette images with Transparency expressed in bytes should be converted to RGBA images\n",
            "  warnings.warn(\n"
          ]
        },
        {
          "name": "stdout",
          "output_type": "stream",
          "text": [
            "Training Loss: 0.807132 ; Acc: 68.4336\n"
          ]
        },
        {
          "name": "stderr",
          "output_type": "stream",
          "text": [
            "Validation Epoch 5/80:   1%|          | 2/174 [00:00<00:40,  4.28it/s]/home/treerspeaking/my_python_3.11.7/lib/python3.11/site-packages/PIL/Image.py:981: UserWarning: Palette images with Transparency expressed in bytes should be converted to RGBA images\n",
            "  warnings.warn(\n",
            "Validation Epoch 5/80:  17%|█▋        | 30/174 [00:02<00:08, 16.04it/s]/home/treerspeaking/my_python_3.11.7/lib/python3.11/site-packages/PIL/Image.py:981: UserWarning: Palette images with Transparency expressed in bytes should be converted to RGBA images\n",
            "  warnings.warn(\n",
            "Validation Epoch 5/80:  21%|██        | 36/174 [00:02<00:07, 18.03it/s]/home/treerspeaking/my_python_3.11.7/lib/python3.11/site-packages/PIL/Image.py:981: UserWarning: Palette images with Transparency expressed in bytes should be converted to RGBA images\n",
            "  warnings.warn(\n",
            "Validation Epoch 5/80:  25%|██▌       | 44/174 [00:02<00:06, 19.28it/s]/home/treerspeaking/my_python_3.11.7/lib/python3.11/site-packages/PIL/Image.py:981: UserWarning: Palette images with Transparency expressed in bytes should be converted to RGBA images\n",
            "  warnings.warn(\n",
            "Validation Epoch 5/80:  32%|███▏      | 56/174 [00:03<00:05, 19.78it/s]/home/treerspeaking/my_python_3.11.7/lib/python3.11/site-packages/PIL/Image.py:981: UserWarning: Palette images with Transparency expressed in bytes should be converted to RGBA images\n",
            "  warnings.warn(\n",
            "Validation Epoch 5/80:  68%|██████▊   | 118/174 [00:06<00:02, 19.93it/s]/home/treerspeaking/my_python_3.11.7/lib/python3.11/site-packages/PIL/Image.py:981: UserWarning: Palette images with Transparency expressed in bytes should be converted to RGBA images\n",
            "  warnings.warn(\n",
            "Validation Epoch 5/80: 100%|██████████| 174/174 [00:09<00:00, 17.72it/s]\n"
          ]
        },
        {
          "name": "stdout",
          "output_type": "stream",
          "text": [
            "Validation Loss: 0.6351; Acc: 76.5479\n",
            "saved model at epoch 4: ./models/epoch_4.pth\n",
            "Best model updated with validation loss 0.6351 and saved at ./models/best_model.pth\n"
          ]
        },
        {
          "name": "stderr",
          "output_type": "stream",
          "text": [
            "/home/treerspeaking/my_python_3.11.7/lib/python3.11/site-packages/PIL/Image.py:981: UserWarning: Palette images with Transparency expressed in bytes should be converted to RGBA images\n",
            "  warnings.warn(\n",
            "/home/treerspeaking/my_python_3.11.7/lib/python3.11/site-packages/PIL/Image.py:981: UserWarning: Palette images with Transparency expressed in bytes should be converted to RGBA images\n",
            "  warnings.warn(\n",
            "/home/treerspeaking/my_python_3.11.7/lib/python3.11/site-packages/PIL/Image.py:981: UserWarning: Palette images with Transparency expressed in bytes should be converted to RGBA images\n",
            "  warnings.warn(\n",
            "/home/treerspeaking/my_python_3.11.7/lib/python3.11/site-packages/PIL/Image.py:981: UserWarning: Palette images with Transparency expressed in bytes should be converted to RGBA images\n",
            "  warnings.warn(\n",
            "/home/treerspeaking/my_python_3.11.7/lib/python3.11/site-packages/PIL/Image.py:981: UserWarning: Palette images with Transparency expressed in bytes should be converted to RGBA images\n",
            "  warnings.warn(\n",
            "/home/treerspeaking/my_python_3.11.7/lib/python3.11/site-packages/PIL/Image.py:981: UserWarning: Palette images with Transparency expressed in bytes should be converted to RGBA images\n",
            "  warnings.warn(\n"
          ]
        },
        {
          "name": "stdout",
          "output_type": "stream",
          "text": [
            "Training Loss: 0.750212 ; Acc: 71.1785\n"
          ]
        },
        {
          "name": "stderr",
          "output_type": "stream",
          "text": [
            "Validation Epoch 6/80:   1%|          | 2/174 [00:00<00:40,  4.30it/s]/home/treerspeaking/my_python_3.11.7/lib/python3.11/site-packages/PIL/Image.py:981: UserWarning: Palette images with Transparency expressed in bytes should be converted to RGBA images\n",
            "  warnings.warn(\n",
            "Validation Epoch 6/80:  18%|█▊        | 32/174 [00:02<00:08, 16.96it/s]/home/treerspeaking/my_python_3.11.7/lib/python3.11/site-packages/PIL/Image.py:981: UserWarning: Palette images with Transparency expressed in bytes should be converted to RGBA images\n",
            "  warnings.warn(\n",
            "Validation Epoch 6/80:  20%|██        | 35/174 [00:02<00:07, 17.93it/s]/home/treerspeaking/my_python_3.11.7/lib/python3.11/site-packages/PIL/Image.py:981: UserWarning: Palette images with Transparency expressed in bytes should be converted to RGBA images\n",
            "  warnings.warn(\n",
            "Validation Epoch 6/80:  24%|██▍       | 42/174 [00:02<00:06, 19.30it/s]/home/treerspeaking/my_python_3.11.7/lib/python3.11/site-packages/PIL/Image.py:981: UserWarning: Palette images with Transparency expressed in bytes should be converted to RGBA images\n",
            "  warnings.warn(\n",
            "Validation Epoch 6/80:  31%|███       | 54/174 [00:03<00:06, 19.95it/s]/home/treerspeaking/my_python_3.11.7/lib/python3.11/site-packages/PIL/Image.py:981: UserWarning: Palette images with Transparency expressed in bytes should be converted to RGBA images\n",
            "  warnings.warn(\n",
            "Validation Epoch 6/80:  67%|██████▋   | 116/174 [00:06<00:02, 20.01it/s]/home/treerspeaking/my_python_3.11.7/lib/python3.11/site-packages/PIL/Image.py:981: UserWarning: Palette images with Transparency expressed in bytes should be converted to RGBA images\n",
            "  warnings.warn(\n",
            "Validation Epoch 6/80: 100%|██████████| 174/174 [00:09<00:00, 17.71it/s]\n"
          ]
        },
        {
          "name": "stdout",
          "output_type": "stream",
          "text": [
            "Validation Loss: 0.5939; Acc: 78.5097\n",
            "saved model at epoch 5: ./models/epoch_5.pth\n",
            "Best model updated with validation loss 0.5939 and saved at ./models/best_model.pth\n"
          ]
        },
        {
          "name": "stderr",
          "output_type": "stream",
          "text": [
            "/home/treerspeaking/my_python_3.11.7/lib/python3.11/site-packages/PIL/Image.py:981: UserWarning: Palette images with Transparency expressed in bytes should be converted to RGBA images\n",
            "  warnings.warn(\n",
            "/home/treerspeaking/my_python_3.11.7/lib/python3.11/site-packages/PIL/Image.py:981: UserWarning: Palette images with Transparency expressed in bytes should be converted to RGBA images\n",
            "  warnings.warn(\n",
            "/home/treerspeaking/my_python_3.11.7/lib/python3.11/site-packages/PIL/Image.py:981: UserWarning: Palette images with Transparency expressed in bytes should be converted to RGBA images\n",
            "  warnings.warn(\n",
            "/home/treerspeaking/my_python_3.11.7/lib/python3.11/site-packages/PIL/Image.py:981: UserWarning: Palette images with Transparency expressed in bytes should be converted to RGBA images\n",
            "  warnings.warn(\n",
            "/home/treerspeaking/my_python_3.11.7/lib/python3.11/site-packages/PIL/Image.py:981: UserWarning: Palette images with Transparency expressed in bytes should be converted to RGBA images\n",
            "  warnings.warn(\n",
            "/home/treerspeaking/my_python_3.11.7/lib/python3.11/site-packages/PIL/Image.py:981: UserWarning: Palette images with Transparency expressed in bytes should be converted to RGBA images\n",
            "  warnings.warn(\n"
          ]
        },
        {
          "name": "stdout",
          "output_type": "stream",
          "text": [
            "Training Loss: 0.703381 ; Acc: 72.9064\n"
          ]
        },
        {
          "name": "stderr",
          "output_type": "stream",
          "text": [
            "Validation Epoch 7/80:   1%|          | 2/174 [00:00<00:41,  4.16it/s]/home/treerspeaking/my_python_3.11.7/lib/python3.11/site-packages/PIL/Image.py:981: UserWarning: Palette images with Transparency expressed in bytes should be converted to RGBA images\n",
            "  warnings.warn(\n",
            "Validation Epoch 7/80:  18%|█▊        | 32/174 [00:02<00:08, 17.00it/s]/home/treerspeaking/my_python_3.11.7/lib/python3.11/site-packages/PIL/Image.py:981: UserWarning: Palette images with Transparency expressed in bytes should be converted to RGBA images\n",
            "  warnings.warn(\n",
            "Validation Epoch 7/80:  20%|█▉        | 34/174 [00:02<00:07, 17.58it/s]/home/treerspeaking/my_python_3.11.7/lib/python3.11/site-packages/PIL/Image.py:981: UserWarning: Palette images with Transparency expressed in bytes should be converted to RGBA images\n",
            "  warnings.warn(\n",
            "Validation Epoch 7/80:  24%|██▍       | 42/174 [00:02<00:06, 19.19it/s]/home/treerspeaking/my_python_3.11.7/lib/python3.11/site-packages/PIL/Image.py:981: UserWarning: Palette images with Transparency expressed in bytes should be converted to RGBA images\n",
            "  warnings.warn(\n",
            "Validation Epoch 7/80:  33%|███▎      | 57/174 [00:03<00:05, 19.83it/s]/home/treerspeaking/my_python_3.11.7/lib/python3.11/site-packages/PIL/Image.py:981: UserWarning: Palette images with Transparency expressed in bytes should be converted to RGBA images\n",
            "  warnings.warn(\n",
            "Validation Epoch 7/80:  67%|██████▋   | 116/174 [00:06<00:02, 19.94it/s]/home/treerspeaking/my_python_3.11.7/lib/python3.11/site-packages/PIL/Image.py:981: UserWarning: Palette images with Transparency expressed in bytes should be converted to RGBA images\n",
            "  warnings.warn(\n",
            "Validation Epoch 7/80: 100%|██████████| 174/174 [00:09<00:00, 17.68it/s]\n"
          ]
        },
        {
          "name": "stdout",
          "output_type": "stream",
          "text": [
            "Validation Loss: 0.5813; Acc: 78.5997\n",
            "saved model at epoch 6: ./models/epoch_6.pth\n",
            "Best model updated with validation loss 0.5813 and saved at ./models/best_model.pth\n"
          ]
        },
        {
          "name": "stderr",
          "output_type": "stream",
          "text": [
            "/home/treerspeaking/my_python_3.11.7/lib/python3.11/site-packages/PIL/Image.py:981: UserWarning: Palette images with Transparency expressed in bytes should be converted to RGBA images\n",
            "  warnings.warn(\n",
            "/home/treerspeaking/my_python_3.11.7/lib/python3.11/site-packages/PIL/Image.py:981: UserWarning: Palette images with Transparency expressed in bytes should be converted to RGBA images\n",
            "  warnings.warn(\n",
            "/home/treerspeaking/my_python_3.11.7/lib/python3.11/site-packages/PIL/Image.py:981: UserWarning: Palette images with Transparency expressed in bytes should be converted to RGBA images\n",
            "  warnings.warn(\n",
            "/home/treerspeaking/my_python_3.11.7/lib/python3.11/site-packages/PIL/Image.py:981: UserWarning: Palette images with Transparency expressed in bytes should be converted to RGBA images\n",
            "  warnings.warn(\n",
            "/home/treerspeaking/my_python_3.11.7/lib/python3.11/site-packages/PIL/Image.py:981: UserWarning: Palette images with Transparency expressed in bytes should be converted to RGBA images\n",
            "  warnings.warn(\n",
            "/home/treerspeaking/my_python_3.11.7/lib/python3.11/site-packages/PIL/Image.py:981: UserWarning: Palette images with Transparency expressed in bytes should be converted to RGBA images\n",
            "  warnings.warn(\n"
          ]
        },
        {
          "name": "stdout",
          "output_type": "stream",
          "text": [
            "Training Loss: 0.671230 ; Acc: 74.3194\n"
          ]
        },
        {
          "name": "stderr",
          "output_type": "stream",
          "text": [
            "Validation Epoch 8/80:   1%|          | 2/174 [00:00<00:41,  4.14it/s]/home/treerspeaking/my_python_3.11.7/lib/python3.11/site-packages/PIL/Image.py:981: UserWarning: Palette images with Transparency expressed in bytes should be converted to RGBA images\n",
            "  warnings.warn(\n",
            "Validation Epoch 8/80:  18%|█▊        | 31/174 [00:02<00:08, 16.51it/s]/home/treerspeaking/my_python_3.11.7/lib/python3.11/site-packages/PIL/Image.py:981: UserWarning: Palette images with Transparency expressed in bytes should be converted to RGBA images\n",
            "  warnings.warn(\n",
            "Validation Epoch 8/80:  20%|██        | 35/174 [00:02<00:07, 17.81it/s]/home/treerspeaking/my_python_3.11.7/lib/python3.11/site-packages/PIL/Image.py:981: UserWarning: Palette images with Transparency expressed in bytes should be converted to RGBA images\n",
            "  warnings.warn(\n",
            "Validation Epoch 8/80:  25%|██▌       | 44/174 [00:02<00:06, 19.32it/s]/home/treerspeaking/my_python_3.11.7/lib/python3.11/site-packages/PIL/Image.py:981: UserWarning: Palette images with Transparency expressed in bytes should be converted to RGBA images\n",
            "  warnings.warn(\n",
            "Validation Epoch 8/80:  32%|███▏      | 56/174 [00:03<00:05, 19.71it/s]/home/treerspeaking/my_python_3.11.7/lib/python3.11/site-packages/PIL/Image.py:981: UserWarning: Palette images with Transparency expressed in bytes should be converted to RGBA images\n",
            "  warnings.warn(\n",
            "Validation Epoch 8/80:  68%|██████▊   | 118/174 [00:06<00:02, 19.85it/s]/home/treerspeaking/my_python_3.11.7/lib/python3.11/site-packages/PIL/Image.py:981: UserWarning: Palette images with Transparency expressed in bytes should be converted to RGBA images\n",
            "  warnings.warn(\n",
            "Validation Epoch 8/80: 100%|██████████| 174/174 [00:09<00:00, 17.64it/s]"
          ]
        },
        {
          "name": "stdout",
          "output_type": "stream",
          "text": [
            "Validation Loss: 0.5882; Acc: 79.1937\n",
            "saved model at epoch 7: ./models/epoch_7.pth\n"
          ]
        },
        {
          "name": "stderr",
          "output_type": "stream",
          "text": [
            "\n",
            "/home/treerspeaking/my_python_3.11.7/lib/python3.11/site-packages/PIL/Image.py:981: UserWarning: Palette images with Transparency expressed in bytes should be converted to RGBA images\n",
            "  warnings.warn(\n",
            "/home/treerspeaking/my_python_3.11.7/lib/python3.11/site-packages/PIL/Image.py:981: UserWarning: Palette images with Transparency expressed in bytes should be converted to RGBA images\n",
            "  warnings.warn(\n",
            "/home/treerspeaking/my_python_3.11.7/lib/python3.11/site-packages/PIL/Image.py:981: UserWarning: Palette images with Transparency expressed in bytes should be converted to RGBA images\n",
            "  warnings.warn(\n",
            "/home/treerspeaking/my_python_3.11.7/lib/python3.11/site-packages/PIL/Image.py:981: UserWarning: Palette images with Transparency expressed in bytes should be converted to RGBA images\n",
            "  warnings.warn(\n",
            "/home/treerspeaking/my_python_3.11.7/lib/python3.11/site-packages/PIL/Image.py:981: UserWarning: Palette images with Transparency expressed in bytes should be converted to RGBA images\n",
            "  warnings.warn(\n",
            "/home/treerspeaking/my_python_3.11.7/lib/python3.11/site-packages/PIL/Image.py:981: UserWarning: Palette images with Transparency expressed in bytes should be converted to RGBA images\n",
            "  warnings.warn(\n"
          ]
        },
        {
          "name": "stdout",
          "output_type": "stream",
          "text": [
            "Training Loss: 0.626579 ; Acc: 76.2183\n"
          ]
        },
        {
          "name": "stderr",
          "output_type": "stream",
          "text": [
            "Validation Epoch 9/80:   1%|          | 2/174 [00:00<00:40,  4.30it/s]/home/treerspeaking/my_python_3.11.7/lib/python3.11/site-packages/PIL/Image.py:981: UserWarning: Palette images with Transparency expressed in bytes should be converted to RGBA images\n",
            "  warnings.warn(\n",
            "Validation Epoch 9/80:  17%|█▋        | 30/174 [00:02<00:09, 15.76it/s]/home/treerspeaking/my_python_3.11.7/lib/python3.11/site-packages/PIL/Image.py:981: UserWarning: Palette images with Transparency expressed in bytes should be converted to RGBA images\n",
            "  warnings.warn(\n",
            "Validation Epoch 9/80:  21%|██        | 36/174 [00:02<00:07, 17.82it/s]/home/treerspeaking/my_python_3.11.7/lib/python3.11/site-packages/PIL/Image.py:981: UserWarning: Palette images with Transparency expressed in bytes should be converted to RGBA images\n",
            "  warnings.warn(\n",
            "Validation Epoch 9/80:  24%|██▍       | 42/174 [00:02<00:06, 18.89it/s]/home/treerspeaking/my_python_3.11.7/lib/python3.11/site-packages/PIL/Image.py:981: UserWarning: Palette images with Transparency expressed in bytes should be converted to RGBA images\n",
            "  warnings.warn(\n",
            "Validation Epoch 9/80:  32%|███▏      | 56/174 [00:03<00:05, 19.86it/s]/home/treerspeaking/my_python_3.11.7/lib/python3.11/site-packages/PIL/Image.py:981: UserWarning: Palette images with Transparency expressed in bytes should be converted to RGBA images\n",
            "  warnings.warn(\n",
            "Validation Epoch 9/80:  67%|██████▋   | 117/174 [00:06<00:02, 20.04it/s]/home/treerspeaking/my_python_3.11.7/lib/python3.11/site-packages/PIL/Image.py:981: UserWarning: Palette images with Transparency expressed in bytes should be converted to RGBA images\n",
            "  warnings.warn(\n",
            "Validation Epoch 9/80: 100%|██████████| 174/174 [00:09<00:00, 17.68it/s]\n"
          ]
        },
        {
          "name": "stdout",
          "output_type": "stream",
          "text": [
            "Validation Loss: 0.5437; Acc: 81.5515\n",
            "saved model at epoch 8: ./models/epoch_8.pth\n",
            "Best model updated with validation loss 0.5437 and saved at ./models/best_model.pth\n"
          ]
        },
        {
          "name": "stderr",
          "output_type": "stream",
          "text": [
            "/home/treerspeaking/my_python_3.11.7/lib/python3.11/site-packages/PIL/Image.py:981: UserWarning: Palette images with Transparency expressed in bytes should be converted to RGBA images\n",
            "  warnings.warn(\n",
            "/home/treerspeaking/my_python_3.11.7/lib/python3.11/site-packages/PIL/Image.py:981: UserWarning: Palette images with Transparency expressed in bytes should be converted to RGBA images\n",
            "  warnings.warn(\n",
            "/home/treerspeaking/my_python_3.11.7/lib/python3.11/site-packages/PIL/Image.py:981: UserWarning: Palette images with Transparency expressed in bytes should be converted to RGBA images\n",
            "  warnings.warn(\n",
            "/home/treerspeaking/my_python_3.11.7/lib/python3.11/site-packages/PIL/Image.py:981: UserWarning: Palette images with Transparency expressed in bytes should be converted to RGBA images\n",
            "  warnings.warn(\n",
            "/home/treerspeaking/my_python_3.11.7/lib/python3.11/site-packages/PIL/Image.py:981: UserWarning: Palette images with Transparency expressed in bytes should be converted to RGBA images\n",
            "  warnings.warn(\n",
            "/home/treerspeaking/my_python_3.11.7/lib/python3.11/site-packages/PIL/Image.py:981: UserWarning: Palette images with Transparency expressed in bytes should be converted to RGBA images\n",
            "  warnings.warn(\n"
          ]
        },
        {
          "name": "stdout",
          "output_type": "stream",
          "text": [
            "Training Loss: 0.602880 ; Acc: 77.2263\n"
          ]
        },
        {
          "name": "stderr",
          "output_type": "stream",
          "text": [
            "Validation Epoch 10/80:   2%|▏         | 3/174 [00:00<00:28,  6.11it/s]/home/treerspeaking/my_python_3.11.7/lib/python3.11/site-packages/PIL/Image.py:981: UserWarning: Palette images with Transparency expressed in bytes should be converted to RGBA images\n",
            "  warnings.warn(\n",
            "Validation Epoch 10/80:  18%|█▊        | 32/174 [00:02<00:08, 16.74it/s]/home/treerspeaking/my_python_3.11.7/lib/python3.11/site-packages/PIL/Image.py:981: UserWarning: Palette images with Transparency expressed in bytes should be converted to RGBA images\n",
            "  warnings.warn(\n",
            "Validation Epoch 10/80:  20%|█▉        | 34/174 [00:02<00:08, 17.49it/s]/home/treerspeaking/my_python_3.11.7/lib/python3.11/site-packages/PIL/Image.py:981: UserWarning: Palette images with Transparency expressed in bytes should be converted to RGBA images\n",
            "  warnings.warn(\n",
            "Validation Epoch 10/80:  25%|██▍       | 43/174 [00:02<00:06, 19.19it/s]/home/treerspeaking/my_python_3.11.7/lib/python3.11/site-packages/PIL/Image.py:981: UserWarning: Palette images with Transparency expressed in bytes should be converted to RGBA images\n",
            "  warnings.warn(\n",
            "Validation Epoch 10/80:  32%|███▏      | 56/174 [00:03<00:05, 19.74it/s]/home/treerspeaking/my_python_3.11.7/lib/python3.11/site-packages/PIL/Image.py:981: UserWarning: Palette images with Transparency expressed in bytes should be converted to RGBA images\n",
            "  warnings.warn(\n",
            "Validation Epoch 10/80:  67%|██████▋   | 116/174 [00:06<00:02, 19.95it/s]/home/treerspeaking/my_python_3.11.7/lib/python3.11/site-packages/PIL/Image.py:981: UserWarning: Palette images with Transparency expressed in bytes should be converted to RGBA images\n",
            "  warnings.warn(\n",
            "Validation Epoch 10/80: 100%|██████████| 174/174 [00:09<00:00, 17.64it/s]\n"
          ]
        },
        {
          "name": "stdout",
          "output_type": "stream",
          "text": [
            "Validation Loss: 0.5348; Acc: 81.4075\n",
            "saved model at epoch 9: ./models/epoch_9.pth\n",
            "Best model updated with validation loss 0.5348 and saved at ./models/best_model.pth\n"
          ]
        },
        {
          "name": "stderr",
          "output_type": "stream",
          "text": [
            "/home/treerspeaking/my_python_3.11.7/lib/python3.11/site-packages/PIL/Image.py:981: UserWarning: Palette images with Transparency expressed in bytes should be converted to RGBA images\n",
            "  warnings.warn(\n",
            "/home/treerspeaking/my_python_3.11.7/lib/python3.11/site-packages/PIL/Image.py:981: UserWarning: Palette images with Transparency expressed in bytes should be converted to RGBA images\n",
            "  warnings.warn(\n",
            "/home/treerspeaking/my_python_3.11.7/lib/python3.11/site-packages/PIL/Image.py:981: UserWarning: Palette images with Transparency expressed in bytes should be converted to RGBA images\n",
            "  warnings.warn(\n",
            "/home/treerspeaking/my_python_3.11.7/lib/python3.11/site-packages/PIL/Image.py:981: UserWarning: Palette images with Transparency expressed in bytes should be converted to RGBA images\n",
            "  warnings.warn(\n",
            "/home/treerspeaking/my_python_3.11.7/lib/python3.11/site-packages/PIL/Image.py:981: UserWarning: Palette images with Transparency expressed in bytes should be converted to RGBA images\n",
            "  warnings.warn(\n",
            "/home/treerspeaking/my_python_3.11.7/lib/python3.11/site-packages/PIL/Image.py:981: UserWarning: Palette images with Transparency expressed in bytes should be converted to RGBA images\n",
            "  warnings.warn(\n"
          ]
        },
        {
          "name": "stdout",
          "output_type": "stream",
          "text": [
            "Training Loss: 0.579442 ; Acc: 78.0723\n"
          ]
        },
        {
          "name": "stderr",
          "output_type": "stream",
          "text": [
            "Validation Epoch 11/80:   1%|          | 2/174 [00:00<00:41,  4.15it/s]/home/treerspeaking/my_python_3.11.7/lib/python3.11/site-packages/PIL/Image.py:981: UserWarning: Palette images with Transparency expressed in bytes should be converted to RGBA images\n",
            "  warnings.warn(\n",
            "Validation Epoch 11/80:  17%|█▋        | 30/174 [00:02<00:09, 15.77it/s]/home/treerspeaking/my_python_3.11.7/lib/python3.11/site-packages/PIL/Image.py:981: UserWarning: Palette images with Transparency expressed in bytes should be converted to RGBA images\n",
            "  warnings.warn(\n",
            "Validation Epoch 11/80:  20%|██        | 35/174 [00:02<00:07, 17.56it/s]/home/treerspeaking/my_python_3.11.7/lib/python3.11/site-packages/PIL/Image.py:981: UserWarning: Palette images with Transparency expressed in bytes should be converted to RGBA images\n",
            "  warnings.warn(\n",
            "Validation Epoch 11/80:  24%|██▍       | 42/174 [00:02<00:06, 18.97it/s]/home/treerspeaking/my_python_3.11.7/lib/python3.11/site-packages/PIL/Image.py:981: UserWarning: Palette images with Transparency expressed in bytes should be converted to RGBA images\n",
            "  warnings.warn(\n",
            "Validation Epoch 11/80:  33%|███▎      | 57/174 [00:03<00:05, 19.68it/s]/home/treerspeaking/my_python_3.11.7/lib/python3.11/site-packages/PIL/Image.py:981: UserWarning: Palette images with Transparency expressed in bytes should be converted to RGBA images\n",
            "  warnings.warn(\n",
            "Validation Epoch 11/80:  67%|██████▋   | 117/174 [00:06<00:02, 19.86it/s]/home/treerspeaking/my_python_3.11.7/lib/python3.11/site-packages/PIL/Image.py:981: UserWarning: Palette images with Transparency expressed in bytes should be converted to RGBA images\n",
            "  warnings.warn(\n",
            "Validation Epoch 11/80: 100%|██████████| 174/174 [00:09<00:00, 17.59it/s]"
          ]
        },
        {
          "name": "stdout",
          "output_type": "stream",
          "text": [
            "Validation Loss: 0.5137; Acc: 82.4514\n",
            "saved model at epoch 10: ./models/epoch_10.pth\n",
            "Best model updated with validation loss 0.5137 and saved at ./models/best_model.pth\n"
          ]
        },
        {
          "name": "stderr",
          "output_type": "stream",
          "text": [
            "\n",
            "/home/treerspeaking/my_python_3.11.7/lib/python3.11/site-packages/PIL/Image.py:981: UserWarning: Palette images with Transparency expressed in bytes should be converted to RGBA images\n",
            "  warnings.warn(\n",
            "/home/treerspeaking/my_python_3.11.7/lib/python3.11/site-packages/PIL/Image.py:981: UserWarning: Palette images with Transparency expressed in bytes should be converted to RGBA images\n",
            "  warnings.warn(\n",
            "/home/treerspeaking/my_python_3.11.7/lib/python3.11/site-packages/PIL/Image.py:981: UserWarning: Palette images with Transparency expressed in bytes should be converted to RGBA images\n",
            "  warnings.warn(\n",
            "/home/treerspeaking/my_python_3.11.7/lib/python3.11/site-packages/PIL/Image.py:981: UserWarning: Palette images with Transparency expressed in bytes should be converted to RGBA images\n",
            "  warnings.warn(\n",
            "/home/treerspeaking/my_python_3.11.7/lib/python3.11/site-packages/PIL/Image.py:981: UserWarning: Palette images with Transparency expressed in bytes should be converted to RGBA images\n",
            "  warnings.warn(\n",
            "/home/treerspeaking/my_python_3.11.7/lib/python3.11/site-packages/PIL/Image.py:981: UserWarning: Palette images with Transparency expressed in bytes should be converted to RGBA images\n",
            "  warnings.warn(\n"
          ]
        },
        {
          "name": "stdout",
          "output_type": "stream",
          "text": [
            "Training Loss: 0.562678 ; Acc: 78.4323\n"
          ]
        },
        {
          "name": "stderr",
          "output_type": "stream",
          "text": [
            "Validation Epoch 12/80:   1%|          | 2/174 [00:00<00:40,  4.30it/s]/home/treerspeaking/my_python_3.11.7/lib/python3.11/site-packages/PIL/Image.py:981: UserWarning: Palette images with Transparency expressed in bytes should be converted to RGBA images\n",
            "  warnings.warn(\n",
            "Validation Epoch 12/80:  18%|█▊        | 32/174 [00:02<00:08, 16.73it/s]/home/treerspeaking/my_python_3.11.7/lib/python3.11/site-packages/PIL/Image.py:981: UserWarning: Palette images with Transparency expressed in bytes should be converted to RGBA images\n",
            "  warnings.warn(\n",
            "Validation Epoch 12/80:  21%|██        | 36/174 [00:02<00:07, 18.00it/s]/home/treerspeaking/my_python_3.11.7/lib/python3.11/site-packages/PIL/Image.py:981: UserWarning: Palette images with Transparency expressed in bytes should be converted to RGBA images\n",
            "  warnings.warn(\n",
            "Validation Epoch 12/80:  25%|██▍       | 43/174 [00:02<00:06, 19.10it/s]/home/treerspeaking/my_python_3.11.7/lib/python3.11/site-packages/PIL/Image.py:981: UserWarning: Palette images with Transparency expressed in bytes should be converted to RGBA images\n",
            "  warnings.warn(\n",
            "Validation Epoch 12/80:  32%|███▏      | 56/174 [00:03<00:05, 19.67it/s]/home/treerspeaking/my_python_3.11.7/lib/python3.11/site-packages/PIL/Image.py:981: UserWarning: Palette images with Transparency expressed in bytes should be converted to RGBA images\n",
            "  warnings.warn(\n",
            "Validation Epoch 12/80:  68%|██████▊   | 118/174 [00:06<00:02, 19.83it/s]/home/treerspeaking/my_python_3.11.7/lib/python3.11/site-packages/PIL/Image.py:981: UserWarning: Palette images with Transparency expressed in bytes should be converted to RGBA images\n",
            "  warnings.warn(\n",
            "Validation Epoch 12/80: 100%|██████████| 174/174 [00:09<00:00, 17.55it/s]\n"
          ]
        },
        {
          "name": "stdout",
          "output_type": "stream",
          "text": [
            "Validation Loss: 0.5123; Acc: 83.2613\n",
            "saved model at epoch 11: ./models/epoch_11.pth\n",
            "Best model updated with validation loss 0.5123 and saved at ./models/best_model.pth\n"
          ]
        },
        {
          "name": "stderr",
          "output_type": "stream",
          "text": [
            "/home/treerspeaking/my_python_3.11.7/lib/python3.11/site-packages/PIL/Image.py:981: UserWarning: Palette images with Transparency expressed in bytes should be converted to RGBA images\n",
            "  warnings.warn(\n",
            "/home/treerspeaking/my_python_3.11.7/lib/python3.11/site-packages/PIL/Image.py:981: UserWarning: Palette images with Transparency expressed in bytes should be converted to RGBA images\n",
            "  warnings.warn(\n",
            "/home/treerspeaking/my_python_3.11.7/lib/python3.11/site-packages/PIL/Image.py:981: UserWarning: Palette images with Transparency expressed in bytes should be converted to RGBA images\n",
            "  warnings.warn(\n",
            "/home/treerspeaking/my_python_3.11.7/lib/python3.11/site-packages/PIL/Image.py:981: UserWarning: Palette images with Transparency expressed in bytes should be converted to RGBA images\n",
            "  warnings.warn(\n",
            "/home/treerspeaking/my_python_3.11.7/lib/python3.11/site-packages/PIL/Image.py:981: UserWarning: Palette images with Transparency expressed in bytes should be converted to RGBA images\n",
            "  warnings.warn(\n",
            "/home/treerspeaking/my_python_3.11.7/lib/python3.11/site-packages/PIL/Image.py:981: UserWarning: Palette images with Transparency expressed in bytes should be converted to RGBA images\n",
            "  warnings.warn(\n"
          ]
        },
        {
          "name": "stdout",
          "output_type": "stream",
          "text": [
            "Training Loss: 0.545088 ; Acc: 79.2377\n"
          ]
        },
        {
          "name": "stderr",
          "output_type": "stream",
          "text": [
            "Validation Epoch 13/80:   2%|▏         | 3/174 [00:00<00:28,  6.07it/s]/home/treerspeaking/my_python_3.11.7/lib/python3.11/site-packages/PIL/Image.py:981: UserWarning: Palette images with Transparency expressed in bytes should be converted to RGBA images\n",
            "  warnings.warn(\n",
            "Validation Epoch 13/80:  18%|█▊        | 32/174 [00:02<00:08, 16.80it/s]/home/treerspeaking/my_python_3.11.7/lib/python3.11/site-packages/PIL/Image.py:981: UserWarning: Palette images with Transparency expressed in bytes should be converted to RGBA images\n",
            "  warnings.warn(\n",
            "Validation Epoch 13/80:  21%|██        | 36/174 [00:02<00:07, 18.03it/s]/home/treerspeaking/my_python_3.11.7/lib/python3.11/site-packages/PIL/Image.py:981: UserWarning: Palette images with Transparency expressed in bytes should be converted to RGBA images\n",
            "  warnings.warn(\n",
            "Validation Epoch 13/80:  25%|██▍       | 43/174 [00:02<00:06, 19.22it/s]/home/treerspeaking/my_python_3.11.7/lib/python3.11/site-packages/PIL/Image.py:981: UserWarning: Palette images with Transparency expressed in bytes should be converted to RGBA images\n",
            "  warnings.warn(\n",
            "Validation Epoch 13/80:  32%|███▏      | 55/174 [00:03<00:06, 19.76it/s]/home/treerspeaking/my_python_3.11.7/lib/python3.11/site-packages/PIL/Image.py:981: UserWarning: Palette images with Transparency expressed in bytes should be converted to RGBA images\n",
            "  warnings.warn(\n",
            "Validation Epoch 13/80:  67%|██████▋   | 117/174 [00:06<00:02, 19.93it/s]/home/treerspeaking/my_python_3.11.7/lib/python3.11/site-packages/PIL/Image.py:981: UserWarning: Palette images with Transparency expressed in bytes should be converted to RGBA images\n",
            "  warnings.warn(\n",
            "Validation Epoch 13/80: 100%|██████████| 174/174 [00:09<00:00, 17.62it/s]"
          ]
        },
        {
          "name": "stdout",
          "output_type": "stream",
          "text": [
            "Validation Loss: 0.4911; Acc: 83.4953\n",
            "saved model at epoch 12: ./models/epoch_12.pth\n",
            "Best model updated with validation loss 0.4911 and saved at ./models/best_model.pth\n"
          ]
        },
        {
          "name": "stderr",
          "output_type": "stream",
          "text": [
            "\n",
            "/home/treerspeaking/my_python_3.11.7/lib/python3.11/site-packages/PIL/Image.py:981: UserWarning: Palette images with Transparency expressed in bytes should be converted to RGBA images\n",
            "  warnings.warn(\n",
            "/home/treerspeaking/my_python_3.11.7/lib/python3.11/site-packages/PIL/Image.py:981: UserWarning: Palette images with Transparency expressed in bytes should be converted to RGBA images\n",
            "  warnings.warn(\n",
            "/home/treerspeaking/my_python_3.11.7/lib/python3.11/site-packages/PIL/Image.py:981: UserWarning: Palette images with Transparency expressed in bytes should be converted to RGBA images\n",
            "  warnings.warn(\n",
            "/home/treerspeaking/my_python_3.11.7/lib/python3.11/site-packages/PIL/Image.py:981: UserWarning: Palette images with Transparency expressed in bytes should be converted to RGBA images\n",
            "  warnings.warn(\n",
            "/home/treerspeaking/my_python_3.11.7/lib/python3.11/site-packages/PIL/Image.py:981: UserWarning: Palette images with Transparency expressed in bytes should be converted to RGBA images\n",
            "  warnings.warn(\n",
            "/home/treerspeaking/my_python_3.11.7/lib/python3.11/site-packages/PIL/Image.py:981: UserWarning: Palette images with Transparency expressed in bytes should be converted to RGBA images\n",
            "  warnings.warn(\n"
          ]
        },
        {
          "name": "stdout",
          "output_type": "stream",
          "text": [
            "Training Loss: 0.524275 ; Acc: 80.5697\n"
          ]
        },
        {
          "name": "stderr",
          "output_type": "stream",
          "text": [
            "Validation Epoch 14/80:   1%|          | 2/174 [00:00<00:40,  4.21it/s]/home/treerspeaking/my_python_3.11.7/lib/python3.11/site-packages/PIL/Image.py:981: UserWarning: Palette images with Transparency expressed in bytes should be converted to RGBA images\n",
            "  warnings.warn(\n",
            "Validation Epoch 14/80:  18%|█▊        | 32/174 [00:02<00:08, 16.87it/s]/home/treerspeaking/my_python_3.11.7/lib/python3.11/site-packages/PIL/Image.py:981: UserWarning: Palette images with Transparency expressed in bytes should be converted to RGBA images\n",
            "  warnings.warn(\n",
            "Validation Epoch 14/80:  20%|█▉        | 34/174 [00:02<00:07, 17.56it/s]/home/treerspeaking/my_python_3.11.7/lib/python3.11/site-packages/PIL/Image.py:981: UserWarning: Palette images with Transparency expressed in bytes should be converted to RGBA images\n",
            "  warnings.warn(\n",
            "Validation Epoch 14/80:  25%|██▍       | 43/174 [00:02<00:06, 19.19it/s]/home/treerspeaking/my_python_3.11.7/lib/python3.11/site-packages/PIL/Image.py:981: UserWarning: Palette images with Transparency expressed in bytes should be converted to RGBA images\n",
            "  warnings.warn(\n",
            "Validation Epoch 14/80:  32%|███▏      | 55/174 [00:03<00:06, 19.75it/s]/home/treerspeaking/my_python_3.11.7/lib/python3.11/site-packages/PIL/Image.py:981: UserWarning: Palette images with Transparency expressed in bytes should be converted to RGBA images\n",
            "  warnings.warn(\n",
            "Validation Epoch 14/80:  68%|██████▊   | 118/174 [00:06<00:02, 19.91it/s]/home/treerspeaking/my_python_3.11.7/lib/python3.11/site-packages/PIL/Image.py:981: UserWarning: Palette images with Transparency expressed in bytes should be converted to RGBA images\n",
            "  warnings.warn(\n",
            "Validation Epoch 14/80: 100%|██████████| 174/174 [00:09<00:00, 17.60it/s]\n"
          ]
        },
        {
          "name": "stdout",
          "output_type": "stream",
          "text": [
            "Validation Loss: 0.4849; Acc: 84.2513\n",
            "saved model at epoch 13: ./models/epoch_13.pth\n",
            "Best model updated with validation loss 0.4849 and saved at ./models/best_model.pth\n"
          ]
        },
        {
          "name": "stderr",
          "output_type": "stream",
          "text": [
            "/home/treerspeaking/my_python_3.11.7/lib/python3.11/site-packages/PIL/Image.py:981: UserWarning: Palette images with Transparency expressed in bytes should be converted to RGBA images\n",
            "  warnings.warn(\n",
            "/home/treerspeaking/my_python_3.11.7/lib/python3.11/site-packages/PIL/Image.py:981: UserWarning: Palette images with Transparency expressed in bytes should be converted to RGBA images\n",
            "  warnings.warn(\n",
            "/home/treerspeaking/my_python_3.11.7/lib/python3.11/site-packages/PIL/Image.py:981: UserWarning: Palette images with Transparency expressed in bytes should be converted to RGBA images\n",
            "  warnings.warn(\n",
            "/home/treerspeaking/my_python_3.11.7/lib/python3.11/site-packages/PIL/Image.py:981: UserWarning: Palette images with Transparency expressed in bytes should be converted to RGBA images\n",
            "  warnings.warn(\n",
            "/home/treerspeaking/my_python_3.11.7/lib/python3.11/site-packages/PIL/Image.py:981: UserWarning: Palette images with Transparency expressed in bytes should be converted to RGBA images\n",
            "  warnings.warn(\n",
            "/home/treerspeaking/my_python_3.11.7/lib/python3.11/site-packages/PIL/Image.py:981: UserWarning: Palette images with Transparency expressed in bytes should be converted to RGBA images\n",
            "  warnings.warn(\n"
          ]
        },
        {
          "name": "stdout",
          "output_type": "stream",
          "text": [
            "Training Loss: 0.504535 ; Acc: 81.1097\n"
          ]
        },
        {
          "name": "stderr",
          "output_type": "stream",
          "text": [
            "Validation Epoch 15/80:   2%|▏         | 3/174 [00:00<00:27,  6.13it/s]/home/treerspeaking/my_python_3.11.7/lib/python3.11/site-packages/PIL/Image.py:981: UserWarning: Palette images with Transparency expressed in bytes should be converted to RGBA images\n",
            "  warnings.warn(\n",
            "Validation Epoch 15/80:  18%|█▊        | 32/174 [00:02<00:08, 16.79it/s]/home/treerspeaking/my_python_3.11.7/lib/python3.11/site-packages/PIL/Image.py:981: UserWarning: Palette images with Transparency expressed in bytes should be converted to RGBA images\n",
            "  warnings.warn(\n",
            "Validation Epoch 15/80:  21%|██        | 36/174 [00:02<00:07, 17.98it/s]/home/treerspeaking/my_python_3.11.7/lib/python3.11/site-packages/PIL/Image.py:981: UserWarning: Palette images with Transparency expressed in bytes should be converted to RGBA images\n",
            "  warnings.warn(\n",
            "Validation Epoch 15/80:  24%|██▍       | 42/174 [00:02<00:06, 19.08it/s]/home/treerspeaking/my_python_3.11.7/lib/python3.11/site-packages/PIL/Image.py:981: UserWarning: Palette images with Transparency expressed in bytes should be converted to RGBA images\n",
            "  warnings.warn(\n",
            "Validation Epoch 15/80:  32%|███▏      | 55/174 [00:03<00:06, 19.66it/s]/home/treerspeaking/my_python_3.11.7/lib/python3.11/site-packages/PIL/Image.py:981: UserWarning: Palette images with Transparency expressed in bytes should be converted to RGBA images\n",
            "  warnings.warn(\n",
            "Validation Epoch 15/80:  67%|██████▋   | 117/174 [00:06<00:02, 19.87it/s]/home/treerspeaking/my_python_3.11.7/lib/python3.11/site-packages/PIL/Image.py:981: UserWarning: Palette images with Transparency expressed in bytes should be converted to RGBA images\n",
            "  warnings.warn(\n",
            "Validation Epoch 15/80: 100%|██████████| 174/174 [00:09<00:00, 17.53it/s]\n"
          ]
        },
        {
          "name": "stdout",
          "output_type": "stream",
          "text": [
            "Validation Loss: 0.4935; Acc: 83.6753\n",
            "saved model at epoch 14: ./models/epoch_14.pth\n"
          ]
        },
        {
          "name": "stderr",
          "output_type": "stream",
          "text": [
            "/home/treerspeaking/my_python_3.11.7/lib/python3.11/site-packages/PIL/Image.py:981: UserWarning: Palette images with Transparency expressed in bytes should be converted to RGBA images\n",
            "  warnings.warn(\n",
            "/home/treerspeaking/my_python_3.11.7/lib/python3.11/site-packages/PIL/Image.py:981: UserWarning: Palette images with Transparency expressed in bytes should be converted to RGBA images\n",
            "  warnings.warn(\n",
            "/home/treerspeaking/my_python_3.11.7/lib/python3.11/site-packages/PIL/Image.py:981: UserWarning: Palette images with Transparency expressed in bytes should be converted to RGBA images\n",
            "  warnings.warn(\n",
            "/home/treerspeaking/my_python_3.11.7/lib/python3.11/site-packages/PIL/Image.py:981: UserWarning: Palette images with Transparency expressed in bytes should be converted to RGBA images\n",
            "  warnings.warn(\n",
            "/home/treerspeaking/my_python_3.11.7/lib/python3.11/site-packages/PIL/Image.py:981: UserWarning: Palette images with Transparency expressed in bytes should be converted to RGBA images\n",
            "  warnings.warn(\n",
            "/home/treerspeaking/my_python_3.11.7/lib/python3.11/site-packages/PIL/Image.py:981: UserWarning: Palette images with Transparency expressed in bytes should be converted to RGBA images\n",
            "  warnings.warn(\n"
          ]
        },
        {
          "name": "stdout",
          "output_type": "stream",
          "text": [
            "Training Loss: 0.495345 ; Acc: 81.2402\n"
          ]
        },
        {
          "name": "stderr",
          "output_type": "stream",
          "text": [
            "Validation Epoch 16/80:   1%|          | 2/174 [00:00<00:40,  4.29it/s]/home/treerspeaking/my_python_3.11.7/lib/python3.11/site-packages/PIL/Image.py:981: UserWarning: Palette images with Transparency expressed in bytes should be converted to RGBA images\n",
            "  warnings.warn(\n",
            "Validation Epoch 16/80:  18%|█▊        | 32/174 [00:02<00:08, 16.84it/s]/home/treerspeaking/my_python_3.11.7/lib/python3.11/site-packages/PIL/Image.py:981: UserWarning: Palette images with Transparency expressed in bytes should be converted to RGBA images\n",
            "  warnings.warn(\n",
            "Validation Epoch 16/80:  20%|█▉        | 34/174 [00:02<00:08, 17.48it/s]/home/treerspeaking/my_python_3.11.7/lib/python3.11/site-packages/PIL/Image.py:981: UserWarning: Palette images with Transparency expressed in bytes should be converted to RGBA images\n",
            "  warnings.warn(\n",
            "Validation Epoch 16/80:  25%|██▍       | 43/174 [00:02<00:06, 19.17it/s]/home/treerspeaking/my_python_3.11.7/lib/python3.11/site-packages/PIL/Image.py:981: UserWarning: Palette images with Transparency expressed in bytes should be converted to RGBA images\n",
            "  warnings.warn(\n",
            "Validation Epoch 16/80:  32%|███▏      | 55/174 [00:03<00:06, 19.82it/s]/home/treerspeaking/my_python_3.11.7/lib/python3.11/site-packages/PIL/Image.py:981: UserWarning: Palette images with Transparency expressed in bytes should be converted to RGBA images\n",
            "  warnings.warn(\n",
            "Validation Epoch 16/80:  67%|██████▋   | 117/174 [00:06<00:02, 19.89it/s]/home/treerspeaking/my_python_3.11.7/lib/python3.11/site-packages/PIL/Image.py:981: UserWarning: Palette images with Transparency expressed in bytes should be converted to RGBA images\n",
            "  warnings.warn(\n",
            "Validation Epoch 16/80: 100%|██████████| 174/174 [00:09<00:00, 17.67it/s]\n"
          ]
        },
        {
          "name": "stdout",
          "output_type": "stream",
          "text": [
            "Validation Loss: 0.5035; Acc: 83.2253\n",
            "saved model at epoch 15: ./models/epoch_15.pth\n"
          ]
        },
        {
          "name": "stderr",
          "output_type": "stream",
          "text": [
            "/home/treerspeaking/my_python_3.11.7/lib/python3.11/site-packages/PIL/Image.py:981: UserWarning: Palette images with Transparency expressed in bytes should be converted to RGBA images\n",
            "  warnings.warn(\n",
            "/home/treerspeaking/my_python_3.11.7/lib/python3.11/site-packages/PIL/Image.py:981: UserWarning: Palette images with Transparency expressed in bytes should be converted to RGBA images\n",
            "  warnings.warn(\n",
            "/home/treerspeaking/my_python_3.11.7/lib/python3.11/site-packages/PIL/Image.py:981: UserWarning: Palette images with Transparency expressed in bytes should be converted to RGBA images\n",
            "  warnings.warn(\n",
            "/home/treerspeaking/my_python_3.11.7/lib/python3.11/site-packages/PIL/Image.py:981: UserWarning: Palette images with Transparency expressed in bytes should be converted to RGBA images\n",
            "  warnings.warn(\n",
            "/home/treerspeaking/my_python_3.11.7/lib/python3.11/site-packages/PIL/Image.py:981: UserWarning: Palette images with Transparency expressed in bytes should be converted to RGBA images\n",
            "  warnings.warn(\n",
            "/home/treerspeaking/my_python_3.11.7/lib/python3.11/site-packages/PIL/Image.py:981: UserWarning: Palette images with Transparency expressed in bytes should be converted to RGBA images\n",
            "  warnings.warn(\n"
          ]
        },
        {
          "name": "stdout",
          "output_type": "stream",
          "text": [
            "Training Loss: 0.480113 ; Acc: 82.1176\n"
          ]
        },
        {
          "name": "stderr",
          "output_type": "stream",
          "text": [
            "Validation Epoch 17/80:   1%|          | 2/174 [00:00<00:40,  4.25it/s]/home/treerspeaking/my_python_3.11.7/lib/python3.11/site-packages/PIL/Image.py:981: UserWarning: Palette images with Transparency expressed in bytes should be converted to RGBA images\n",
            "  warnings.warn(\n",
            "Validation Epoch 17/80:  18%|█▊        | 32/174 [00:02<00:08, 16.58it/s]/home/treerspeaking/my_python_3.11.7/lib/python3.11/site-packages/PIL/Image.py:981: UserWarning: Palette images with Transparency expressed in bytes should be converted to RGBA images\n",
            "  warnings.warn(\n",
            "Validation Epoch 17/80:  20%|█▉        | 34/174 [00:02<00:08, 17.33it/s]/home/treerspeaking/my_python_3.11.7/lib/python3.11/site-packages/PIL/Image.py:981: UserWarning: Palette images with Transparency expressed in bytes should be converted to RGBA images\n",
            "  warnings.warn(\n",
            "Validation Epoch 17/80:  25%|██▍       | 43/174 [00:02<00:06, 19.16it/s]/home/treerspeaking/my_python_3.11.7/lib/python3.11/site-packages/PIL/Image.py:981: UserWarning: Palette images with Transparency expressed in bytes should be converted to RGBA images\n",
            "  warnings.warn(\n",
            "Validation Epoch 17/80:  32%|███▏      | 55/174 [00:03<00:06, 19.77it/s]/home/treerspeaking/my_python_3.11.7/lib/python3.11/site-packages/PIL/Image.py:981: UserWarning: Palette images with Transparency expressed in bytes should be converted to RGBA images\n",
            "  warnings.warn(\n",
            "Validation Epoch 17/80:  67%|██████▋   | 117/174 [00:06<00:02, 19.98it/s]/home/treerspeaking/my_python_3.11.7/lib/python3.11/site-packages/PIL/Image.py:981: UserWarning: Palette images with Transparency expressed in bytes should be converted to RGBA images\n",
            "  warnings.warn(\n",
            "Validation Epoch 17/80: 100%|██████████| 174/174 [00:09<00:00, 17.62it/s]"
          ]
        },
        {
          "name": "stdout",
          "output_type": "stream",
          "text": [
            "Validation Loss: 0.5137; Acc: 82.9194\n",
            "saved model at epoch 16: ./models/epoch_16.pth\n"
          ]
        },
        {
          "name": "stderr",
          "output_type": "stream",
          "text": [
            "\n",
            "/home/treerspeaking/my_python_3.11.7/lib/python3.11/site-packages/PIL/Image.py:981: UserWarning: Palette images with Transparency expressed in bytes should be converted to RGBA images\n",
            "  warnings.warn(\n",
            "/home/treerspeaking/my_python_3.11.7/lib/python3.11/site-packages/PIL/Image.py:981: UserWarning: Palette images with Transparency expressed in bytes should be converted to RGBA images\n",
            "  warnings.warn(\n",
            "/home/treerspeaking/my_python_3.11.7/lib/python3.11/site-packages/PIL/Image.py:981: UserWarning: Palette images with Transparency expressed in bytes should be converted to RGBA images\n",
            "  warnings.warn(\n",
            "/home/treerspeaking/my_python_3.11.7/lib/python3.11/site-packages/PIL/Image.py:981: UserWarning: Palette images with Transparency expressed in bytes should be converted to RGBA images\n",
            "  warnings.warn(\n",
            "/home/treerspeaking/my_python_3.11.7/lib/python3.11/site-packages/PIL/Image.py:981: UserWarning: Palette images with Transparency expressed in bytes should be converted to RGBA images\n",
            "  warnings.warn(\n",
            "/home/treerspeaking/my_python_3.11.7/lib/python3.11/site-packages/PIL/Image.py:981: UserWarning: Palette images with Transparency expressed in bytes should be converted to RGBA images\n",
            "  warnings.warn(\n"
          ]
        },
        {
          "name": "stdout",
          "output_type": "stream",
          "text": [
            "Training Loss: 0.460377 ; Acc: 82.8151\n"
          ]
        },
        {
          "name": "stderr",
          "output_type": "stream",
          "text": [
            "Validation Epoch 18/80:   1%|          | 2/174 [00:00<00:40,  4.28it/s]/home/treerspeaking/my_python_3.11.7/lib/python3.11/site-packages/PIL/Image.py:981: UserWarning: Palette images with Transparency expressed in bytes should be converted to RGBA images\n",
            "  warnings.warn(\n",
            "Validation Epoch 18/80:  18%|█▊        | 32/174 [00:02<00:08, 16.62it/s]/home/treerspeaking/my_python_3.11.7/lib/python3.11/site-packages/PIL/Image.py:981: UserWarning: Palette images with Transparency expressed in bytes should be converted to RGBA images\n",
            "  warnings.warn(\n",
            "Validation Epoch 18/80:  20%|█▉        | 34/174 [00:02<00:08, 17.35it/s]/home/treerspeaking/my_python_3.11.7/lib/python3.11/site-packages/PIL/Image.py:981: UserWarning: Palette images with Transparency expressed in bytes should be converted to RGBA images\n",
            "  warnings.warn(\n",
            "Validation Epoch 18/80:  24%|██▍       | 42/174 [00:02<00:06, 19.05it/s]/home/treerspeaking/my_python_3.11.7/lib/python3.11/site-packages/PIL/Image.py:981: UserWarning: Palette images with Transparency expressed in bytes should be converted to RGBA images\n",
            "  warnings.warn(\n",
            "Validation Epoch 18/80:  32%|███▏      | 56/174 [00:03<00:06, 19.64it/s]/home/treerspeaking/my_python_3.11.7/lib/python3.11/site-packages/PIL/Image.py:981: UserWarning: Palette images with Transparency expressed in bytes should be converted to RGBA images\n",
            "  warnings.warn(\n",
            "Validation Epoch 18/80:  67%|██████▋   | 117/174 [00:06<00:02, 19.77it/s]/home/treerspeaking/my_python_3.11.7/lib/python3.11/site-packages/PIL/Image.py:981: UserWarning: Palette images with Transparency expressed in bytes should be converted to RGBA images\n",
            "  warnings.warn(\n",
            "Validation Epoch 18/80: 100%|██████████| 174/174 [00:09<00:00, 17.62it/s]\n"
          ]
        },
        {
          "name": "stdout",
          "output_type": "stream",
          "text": [
            "Validation Loss: 0.4794; Acc: 85.2772\n",
            "saved model at epoch 17: ./models/epoch_17.pth\n",
            "Best model updated with validation loss 0.4794 and saved at ./models/best_model.pth\n"
          ]
        },
        {
          "name": "stderr",
          "output_type": "stream",
          "text": [
            "/home/treerspeaking/my_python_3.11.7/lib/python3.11/site-packages/PIL/Image.py:981: UserWarning: Palette images with Transparency expressed in bytes should be converted to RGBA images\n",
            "  warnings.warn(\n",
            "/home/treerspeaking/my_python_3.11.7/lib/python3.11/site-packages/PIL/Image.py:981: UserWarning: Palette images with Transparency expressed in bytes should be converted to RGBA images\n",
            "  warnings.warn(\n",
            "/home/treerspeaking/my_python_3.11.7/lib/python3.11/site-packages/PIL/Image.py:981: UserWarning: Palette images with Transparency expressed in bytes should be converted to RGBA images\n",
            "  warnings.warn(\n",
            "/home/treerspeaking/my_python_3.11.7/lib/python3.11/site-packages/PIL/Image.py:981: UserWarning: Palette images with Transparency expressed in bytes should be converted to RGBA images\n",
            "  warnings.warn(\n",
            "/home/treerspeaking/my_python_3.11.7/lib/python3.11/site-packages/PIL/Image.py:981: UserWarning: Palette images with Transparency expressed in bytes should be converted to RGBA images\n",
            "  warnings.warn(\n",
            "/home/treerspeaking/my_python_3.11.7/lib/python3.11/site-packages/PIL/Image.py:981: UserWarning: Palette images with Transparency expressed in bytes should be converted to RGBA images\n",
            "  warnings.warn(\n"
          ]
        },
        {
          "name": "stdout",
          "output_type": "stream",
          "text": [
            "Training Loss: 0.440766 ; Acc: 83.7286\n"
          ]
        },
        {
          "name": "stderr",
          "output_type": "stream",
          "text": [
            "Validation Epoch 19/80:   1%|          | 1/174 [00:00<01:14,  2.33it/s]/home/treerspeaking/my_python_3.11.7/lib/python3.11/site-packages/PIL/Image.py:981: UserWarning: Palette images with Transparency expressed in bytes should be converted to RGBA images\n",
            "  warnings.warn(\n",
            "Validation Epoch 19/80:  18%|█▊        | 31/174 [00:02<00:08, 16.21it/s]/home/treerspeaking/my_python_3.11.7/lib/python3.11/site-packages/PIL/Image.py:981: UserWarning: Palette images with Transparency expressed in bytes should be converted to RGBA images\n",
            "  warnings.warn(\n",
            "Validation Epoch 19/80:  21%|██        | 36/174 [00:02<00:07, 18.08it/s]/home/treerspeaking/my_python_3.11.7/lib/python3.11/site-packages/PIL/Image.py:981: UserWarning: Palette images with Transparency expressed in bytes should be converted to RGBA images\n",
            "  warnings.warn(\n",
            "Validation Epoch 19/80:  25%|██▍       | 43/174 [00:02<00:06, 19.14it/s]/home/treerspeaking/my_python_3.11.7/lib/python3.11/site-packages/PIL/Image.py:981: UserWarning: Palette images with Transparency expressed in bytes should be converted to RGBA images\n",
            "  warnings.warn(\n",
            "Validation Epoch 19/80:  33%|███▎      | 57/174 [00:03<00:05, 19.76it/s]/home/treerspeaking/my_python_3.11.7/lib/python3.11/site-packages/PIL/Image.py:981: UserWarning: Palette images with Transparency expressed in bytes should be converted to RGBA images\n",
            "  warnings.warn(\n",
            "Validation Epoch 19/80:  68%|██████▊   | 118/174 [00:06<00:02, 19.97it/s]/home/treerspeaking/my_python_3.11.7/lib/python3.11/site-packages/PIL/Image.py:981: UserWarning: Palette images with Transparency expressed in bytes should be converted to RGBA images\n",
            "  warnings.warn(\n",
            "Validation Epoch 19/80: 100%|██████████| 174/174 [00:09<00:00, 17.56it/s]"
          ]
        },
        {
          "name": "stdout",
          "output_type": "stream",
          "text": [
            "Validation Loss: 0.4822; Acc: 85.0792\n",
            "saved model at epoch 18: ./models/epoch_18.pth\n"
          ]
        },
        {
          "name": "stderr",
          "output_type": "stream",
          "text": [
            "\n",
            "/home/treerspeaking/my_python_3.11.7/lib/python3.11/site-packages/PIL/Image.py:981: UserWarning: Palette images with Transparency expressed in bytes should be converted to RGBA images\n",
            "  warnings.warn(\n",
            "/home/treerspeaking/my_python_3.11.7/lib/python3.11/site-packages/PIL/Image.py:981: UserWarning: Palette images with Transparency expressed in bytes should be converted to RGBA images\n",
            "  warnings.warn(\n",
            "/home/treerspeaking/my_python_3.11.7/lib/python3.11/site-packages/PIL/Image.py:981: UserWarning: Palette images with Transparency expressed in bytes should be converted to RGBA images\n",
            "  warnings.warn(\n",
            "/home/treerspeaking/my_python_3.11.7/lib/python3.11/site-packages/PIL/Image.py:981: UserWarning: Palette images with Transparency expressed in bytes should be converted to RGBA images\n",
            "  warnings.warn(\n",
            "/home/treerspeaking/my_python_3.11.7/lib/python3.11/site-packages/PIL/Image.py:981: UserWarning: Palette images with Transparency expressed in bytes should be converted to RGBA images\n",
            "  warnings.warn(\n",
            "/home/treerspeaking/my_python_3.11.7/lib/python3.11/site-packages/PIL/Image.py:981: UserWarning: Palette images with Transparency expressed in bytes should be converted to RGBA images\n",
            "  warnings.warn(\n"
          ]
        },
        {
          "name": "stdout",
          "output_type": "stream",
          "text": [
            "Training Loss: 0.432517 ; Acc: 83.7691\n"
          ]
        },
        {
          "name": "stderr",
          "output_type": "stream",
          "text": [
            "Validation Epoch 20/80:   1%|          | 2/174 [00:00<00:40,  4.20it/s]/home/treerspeaking/my_python_3.11.7/lib/python3.11/site-packages/PIL/Image.py:981: UserWarning: Palette images with Transparency expressed in bytes should be converted to RGBA images\n",
            "  warnings.warn(\n",
            "Validation Epoch 20/80:  18%|█▊        | 32/174 [00:02<00:08, 16.38it/s]/home/treerspeaking/my_python_3.11.7/lib/python3.11/site-packages/PIL/Image.py:981: UserWarning: Palette images with Transparency expressed in bytes should be converted to RGBA images\n",
            "  warnings.warn(\n",
            "Validation Epoch 20/80:  20%|█▉        | 34/174 [00:02<00:08, 17.15it/s]/home/treerspeaking/my_python_3.11.7/lib/python3.11/site-packages/PIL/Image.py:981: UserWarning: Palette images with Transparency expressed in bytes should be converted to RGBA images\n",
            "  warnings.warn(\n",
            "Validation Epoch 20/80:  25%|██▍       | 43/174 [00:02<00:06, 19.05it/s]/home/treerspeaking/my_python_3.11.7/lib/python3.11/site-packages/PIL/Image.py:981: UserWarning: Palette images with Transparency expressed in bytes should be converted to RGBA images\n",
            "  warnings.warn(\n",
            "Validation Epoch 20/80:  32%|███▏      | 55/174 [00:03<00:06, 19.69it/s]/home/treerspeaking/my_python_3.11.7/lib/python3.11/site-packages/PIL/Image.py:981: UserWarning: Palette images with Transparency expressed in bytes should be converted to RGBA images\n",
            "  warnings.warn(\n",
            "Validation Epoch 20/80:  67%|██████▋   | 117/174 [00:06<00:02, 19.80it/s]/home/treerspeaking/my_python_3.11.7/lib/python3.11/site-packages/PIL/Image.py:981: UserWarning: Palette images with Transparency expressed in bytes should be converted to RGBA images\n",
            "  warnings.warn(\n",
            "Validation Epoch 20/80: 100%|██████████| 174/174 [00:09<00:00, 17.45it/s]"
          ]
        },
        {
          "name": "stdout",
          "output_type": "stream",
          "text": [
            "Validation Loss: 0.4915; Acc: 85.1332\n",
            "saved model at epoch 19: ./models/epoch_19.pth\n"
          ]
        },
        {
          "name": "stderr",
          "output_type": "stream",
          "text": [
            "\n",
            "/home/treerspeaking/my_python_3.11.7/lib/python3.11/site-packages/PIL/Image.py:981: UserWarning: Palette images with Transparency expressed in bytes should be converted to RGBA images\n",
            "  warnings.warn(\n",
            "/home/treerspeaking/my_python_3.11.7/lib/python3.11/site-packages/PIL/Image.py:981: UserWarning: Palette images with Transparency expressed in bytes should be converted to RGBA images\n",
            "  warnings.warn(\n",
            "/home/treerspeaking/my_python_3.11.7/lib/python3.11/site-packages/PIL/Image.py:981: UserWarning: Palette images with Transparency expressed in bytes should be converted to RGBA images\n",
            "  warnings.warn(\n",
            "/home/treerspeaking/my_python_3.11.7/lib/python3.11/site-packages/PIL/Image.py:981: UserWarning: Palette images with Transparency expressed in bytes should be converted to RGBA images\n",
            "  warnings.warn(\n",
            "/home/treerspeaking/my_python_3.11.7/lib/python3.11/site-packages/PIL/Image.py:981: UserWarning: Palette images with Transparency expressed in bytes should be converted to RGBA images\n",
            "  warnings.warn(\n",
            "/home/treerspeaking/my_python_3.11.7/lib/python3.11/site-packages/PIL/Image.py:981: UserWarning: Palette images with Transparency expressed in bytes should be converted to RGBA images\n",
            "  warnings.warn(\n"
          ]
        },
        {
          "name": "stdout",
          "output_type": "stream",
          "text": [
            "Training Loss: 0.423948 ; Acc: 84.0346\n"
          ]
        },
        {
          "name": "stderr",
          "output_type": "stream",
          "text": [
            "Validation Epoch 21/80:   1%|          | 2/174 [00:00<00:39,  4.35it/s]/home/treerspeaking/my_python_3.11.7/lib/python3.11/site-packages/PIL/Image.py:981: UserWarning: Palette images with Transparency expressed in bytes should be converted to RGBA images\n",
            "  warnings.warn(\n",
            "Validation Epoch 21/80:  18%|█▊        | 32/174 [00:02<00:08, 16.74it/s]/home/treerspeaking/my_python_3.11.7/lib/python3.11/site-packages/PIL/Image.py:981: UserWarning: Palette images with Transparency expressed in bytes should be converted to RGBA images\n",
            "  warnings.warn(\n",
            "Validation Epoch 21/80:  20%|█▉        | 34/174 [00:02<00:08, 17.47it/s]/home/treerspeaking/my_python_3.11.7/lib/python3.11/site-packages/PIL/Image.py:981: UserWarning: Palette images with Transparency expressed in bytes should be converted to RGBA images\n",
            "  warnings.warn(\n",
            "Validation Epoch 21/80:  25%|██▌       | 44/174 [00:02<00:06, 19.29it/s]/home/treerspeaking/my_python_3.11.7/lib/python3.11/site-packages/PIL/Image.py:981: UserWarning: Palette images with Transparency expressed in bytes should be converted to RGBA images\n",
            "  warnings.warn(\n",
            "Validation Epoch 21/80:  32%|███▏      | 56/174 [00:03<00:05, 19.82it/s]/home/treerspeaking/my_python_3.11.7/lib/python3.11/site-packages/PIL/Image.py:981: UserWarning: Palette images with Transparency expressed in bytes should be converted to RGBA images\n",
            "  warnings.warn(\n",
            "Validation Epoch 21/80:  67%|██████▋   | 117/174 [00:06<00:02, 19.95it/s]/home/treerspeaking/my_python_3.11.7/lib/python3.11/site-packages/PIL/Image.py:981: UserWarning: Palette images with Transparency expressed in bytes should be converted to RGBA images\n",
            "  warnings.warn(\n",
            "Validation Epoch 21/80: 100%|██████████| 174/174 [00:09<00:00, 17.66it/s]\n"
          ]
        },
        {
          "name": "stdout",
          "output_type": "stream",
          "text": [
            "Validation Loss: 0.4812; Acc: 85.4932\n",
            "saved model at epoch 20: ./models/epoch_20.pth\n"
          ]
        },
        {
          "name": "stderr",
          "output_type": "stream",
          "text": [
            "/home/treerspeaking/my_python_3.11.7/lib/python3.11/site-packages/PIL/Image.py:981: UserWarning: Palette images with Transparency expressed in bytes should be converted to RGBA images\n",
            "  warnings.warn(\n",
            "/home/treerspeaking/my_python_3.11.7/lib/python3.11/site-packages/PIL/Image.py:981: UserWarning: Palette images with Transparency expressed in bytes should be converted to RGBA images\n",
            "  warnings.warn(\n",
            "/home/treerspeaking/my_python_3.11.7/lib/python3.11/site-packages/PIL/Image.py:981: UserWarning: Palette images with Transparency expressed in bytes should be converted to RGBA images\n",
            "  warnings.warn(\n",
            "/home/treerspeaking/my_python_3.11.7/lib/python3.11/site-packages/PIL/Image.py:981: UserWarning: Palette images with Transparency expressed in bytes should be converted to RGBA images\n",
            "  warnings.warn(\n",
            "/home/treerspeaking/my_python_3.11.7/lib/python3.11/site-packages/PIL/Image.py:981: UserWarning: Palette images with Transparency expressed in bytes should be converted to RGBA images\n",
            "  warnings.warn(\n",
            "/home/treerspeaking/my_python_3.11.7/lib/python3.11/site-packages/PIL/Image.py:981: UserWarning: Palette images with Transparency expressed in bytes should be converted to RGBA images\n",
            "  warnings.warn(\n"
          ]
        },
        {
          "name": "stdout",
          "output_type": "stream",
          "text": [
            "Training Loss: 0.410851 ; Acc: 84.5160\n"
          ]
        },
        {
          "name": "stderr",
          "output_type": "stream",
          "text": [
            "Validation Epoch 22/80:   2%|▏         | 3/174 [00:00<00:28,  6.11it/s]/home/treerspeaking/my_python_3.11.7/lib/python3.11/site-packages/PIL/Image.py:981: UserWarning: Palette images with Transparency expressed in bytes should be converted to RGBA images\n",
            "  warnings.warn(\n",
            "Validation Epoch 22/80:  18%|█▊        | 32/174 [00:02<00:08, 16.89it/s]/home/treerspeaking/my_python_3.11.7/lib/python3.11/site-packages/PIL/Image.py:981: UserWarning: Palette images with Transparency expressed in bytes should be converted to RGBA images\n",
            "  warnings.warn(\n",
            "Validation Epoch 22/80:  21%|██        | 36/174 [00:02<00:07, 18.03it/s]/home/treerspeaking/my_python_3.11.7/lib/python3.11/site-packages/PIL/Image.py:981: UserWarning: Palette images with Transparency expressed in bytes should be converted to RGBA images\n",
            "  warnings.warn(\n",
            "Validation Epoch 22/80:  24%|██▍       | 42/174 [00:02<00:06, 19.03it/s]/home/treerspeaking/my_python_3.11.7/lib/python3.11/site-packages/PIL/Image.py:981: UserWarning: Palette images with Transparency expressed in bytes should be converted to RGBA images\n",
            "  warnings.warn(\n",
            "Validation Epoch 22/80:  32%|███▏      | 56/174 [00:03<00:05, 19.72it/s]/home/treerspeaking/my_python_3.11.7/lib/python3.11/site-packages/PIL/Image.py:981: UserWarning: Palette images with Transparency expressed in bytes should be converted to RGBA images\n",
            "  warnings.warn(\n",
            "Validation Epoch 22/80:  67%|██████▋   | 117/174 [00:06<00:02, 20.00it/s]/home/treerspeaking/my_python_3.11.7/lib/python3.11/site-packages/PIL/Image.py:981: UserWarning: Palette images with Transparency expressed in bytes should be converted to RGBA images\n",
            "  warnings.warn(\n",
            "Validation Epoch 22/80: 100%|██████████| 174/174 [00:09<00:00, 17.59it/s]\n"
          ]
        },
        {
          "name": "stdout",
          "output_type": "stream",
          "text": [
            "Validation Loss: 0.4728; Acc: 85.7631\n",
            "saved model at epoch 21: ./models/epoch_21.pth\n",
            "Best model updated with validation loss 0.4728 and saved at ./models/best_model.pth\n"
          ]
        },
        {
          "name": "stderr",
          "output_type": "stream",
          "text": [
            "/home/treerspeaking/my_python_3.11.7/lib/python3.11/site-packages/PIL/Image.py:981: UserWarning: Palette images with Transparency expressed in bytes should be converted to RGBA images\n",
            "  warnings.warn(\n",
            "/home/treerspeaking/my_python_3.11.7/lib/python3.11/site-packages/PIL/Image.py:981: UserWarning: Palette images with Transparency expressed in bytes should be converted to RGBA images\n",
            "  warnings.warn(\n",
            "/home/treerspeaking/my_python_3.11.7/lib/python3.11/site-packages/PIL/Image.py:981: UserWarning: Palette images with Transparency expressed in bytes should be converted to RGBA images\n",
            "  warnings.warn(\n",
            "/home/treerspeaking/my_python_3.11.7/lib/python3.11/site-packages/PIL/Image.py:981: UserWarning: Palette images with Transparency expressed in bytes should be converted to RGBA images\n",
            "  warnings.warn(\n",
            "/home/treerspeaking/my_python_3.11.7/lib/python3.11/site-packages/PIL/Image.py:981: UserWarning: Palette images with Transparency expressed in bytes should be converted to RGBA images\n",
            "  warnings.warn(\n",
            "/home/treerspeaking/my_python_3.11.7/lib/python3.11/site-packages/PIL/Image.py:981: UserWarning: Palette images with Transparency expressed in bytes should be converted to RGBA images\n",
            "  warnings.warn(\n"
          ]
        },
        {
          "name": "stdout",
          "output_type": "stream",
          "text": [
            "Training Loss: 0.399485 ; Acc: 84.8985\n"
          ]
        },
        {
          "name": "stderr",
          "output_type": "stream",
          "text": [
            "Validation Epoch 23/80:   1%|          | 2/174 [00:00<00:41,  4.11it/s]/home/treerspeaking/my_python_3.11.7/lib/python3.11/site-packages/PIL/Image.py:981: UserWarning: Palette images with Transparency expressed in bytes should be converted to RGBA images\n",
            "  warnings.warn(\n",
            "Validation Epoch 23/80:  17%|█▋        | 30/174 [00:02<00:09, 15.88it/s]/home/treerspeaking/my_python_3.11.7/lib/python3.11/site-packages/PIL/Image.py:981: UserWarning: Palette images with Transparency expressed in bytes should be converted to RGBA images\n",
            "  warnings.warn(\n",
            "Validation Epoch 23/80:  21%|██        | 36/174 [00:02<00:07, 17.96it/s]/home/treerspeaking/my_python_3.11.7/lib/python3.11/site-packages/PIL/Image.py:981: UserWarning: Palette images with Transparency expressed in bytes should be converted to RGBA images\n",
            "  warnings.warn(\n",
            "Validation Epoch 23/80:  25%|██▍       | 43/174 [00:02<00:06, 19.07it/s]/home/treerspeaking/my_python_3.11.7/lib/python3.11/site-packages/PIL/Image.py:981: UserWarning: Palette images with Transparency expressed in bytes should be converted to RGBA images\n",
            "  warnings.warn(\n",
            "Validation Epoch 23/80:  32%|███▏      | 55/174 [00:03<00:06, 19.76it/s]/home/treerspeaking/my_python_3.11.7/lib/python3.11/site-packages/PIL/Image.py:981: UserWarning: Palette images with Transparency expressed in bytes should be converted to RGBA images\n",
            "  warnings.warn(\n",
            "Validation Epoch 23/80:  67%|██████▋   | 117/174 [00:06<00:02, 19.78it/s]/home/treerspeaking/my_python_3.11.7/lib/python3.11/site-packages/PIL/Image.py:981: UserWarning: Palette images with Transparency expressed in bytes should be converted to RGBA images\n",
            "  warnings.warn(\n",
            "Validation Epoch 23/80: 100%|██████████| 174/174 [00:09<00:00, 17.61it/s]\n"
          ]
        },
        {
          "name": "stdout",
          "output_type": "stream",
          "text": [
            "Validation Loss: 0.5017; Acc: 85.4572\n",
            "saved model at epoch 22: ./models/epoch_22.pth\n"
          ]
        },
        {
          "name": "stderr",
          "output_type": "stream",
          "text": [
            "/home/treerspeaking/my_python_3.11.7/lib/python3.11/site-packages/PIL/Image.py:981: UserWarning: Palette images with Transparency expressed in bytes should be converted to RGBA images\n",
            "  warnings.warn(\n",
            "/home/treerspeaking/my_python_3.11.7/lib/python3.11/site-packages/PIL/Image.py:981: UserWarning: Palette images with Transparency expressed in bytes should be converted to RGBA images\n",
            "  warnings.warn(\n",
            "/home/treerspeaking/my_python_3.11.7/lib/python3.11/site-packages/PIL/Image.py:981: UserWarning: Palette images with Transparency expressed in bytes should be converted to RGBA images\n",
            "  warnings.warn(\n",
            "/home/treerspeaking/my_python_3.11.7/lib/python3.11/site-packages/PIL/Image.py:981: UserWarning: Palette images with Transparency expressed in bytes should be converted to RGBA images\n",
            "  warnings.warn(\n",
            "/home/treerspeaking/my_python_3.11.7/lib/python3.11/site-packages/PIL/Image.py:981: UserWarning: Palette images with Transparency expressed in bytes should be converted to RGBA images\n",
            "  warnings.warn(\n",
            "/home/treerspeaking/my_python_3.11.7/lib/python3.11/site-packages/PIL/Image.py:981: UserWarning: Palette images with Transparency expressed in bytes should be converted to RGBA images\n",
            "  warnings.warn(\n"
          ]
        },
        {
          "name": "stdout",
          "output_type": "stream",
          "text": [
            "Training Loss: 0.398068 ; Acc: 85.3260\n"
          ]
        },
        {
          "name": "stderr",
          "output_type": "stream",
          "text": [
            "Validation Epoch 24/80:   1%|          | 2/174 [00:00<00:41,  4.10it/s]/home/treerspeaking/my_python_3.11.7/lib/python3.11/site-packages/PIL/Image.py:981: UserWarning: Palette images with Transparency expressed in bytes should be converted to RGBA images\n",
            "  warnings.warn(\n",
            "Validation Epoch 24/80:  18%|█▊        | 31/174 [00:02<00:08, 16.20it/s]/home/treerspeaking/my_python_3.11.7/lib/python3.11/site-packages/PIL/Image.py:981: UserWarning: Palette images with Transparency expressed in bytes should be converted to RGBA images\n",
            "  warnings.warn(\n",
            "Validation Epoch 24/80:  21%|██        | 36/174 [00:02<00:07, 17.88it/s]/home/treerspeaking/my_python_3.11.7/lib/python3.11/site-packages/PIL/Image.py:981: UserWarning: Palette images with Transparency expressed in bytes should be converted to RGBA images\n",
            "  warnings.warn(\n",
            "Validation Epoch 24/80:  25%|██▍       | 43/174 [00:02<00:06, 19.01it/s]/home/treerspeaking/my_python_3.11.7/lib/python3.11/site-packages/PIL/Image.py:981: UserWarning: Palette images with Transparency expressed in bytes should be converted to RGBA images\n",
            "  warnings.warn(\n",
            "Validation Epoch 24/80:  32%|███▏      | 55/174 [00:03<00:06, 19.73it/s]/home/treerspeaking/my_python_3.11.7/lib/python3.11/site-packages/PIL/Image.py:981: UserWarning: Palette images with Transparency expressed in bytes should be converted to RGBA images\n",
            "  warnings.warn(\n",
            "Validation Epoch 24/80:  67%|██████▋   | 117/174 [00:06<00:02, 19.82it/s]/home/treerspeaking/my_python_3.11.7/lib/python3.11/site-packages/PIL/Image.py:981: UserWarning: Palette images with Transparency expressed in bytes should be converted to RGBA images\n",
            "  warnings.warn(\n",
            "Validation Epoch 24/80: 100%|██████████| 174/174 [00:09<00:00, 17.57it/s]"
          ]
        },
        {
          "name": "stdout",
          "output_type": "stream",
          "text": [
            "Validation Loss: 0.4767; Acc: 86.3391\n",
            "saved model at epoch 23: ./models/epoch_23.pth\n"
          ]
        },
        {
          "name": "stderr",
          "output_type": "stream",
          "text": [
            "\n",
            "/home/treerspeaking/my_python_3.11.7/lib/python3.11/site-packages/PIL/Image.py:981: UserWarning: Palette images with Transparency expressed in bytes should be converted to RGBA images\n",
            "  warnings.warn(\n",
            "/home/treerspeaking/my_python_3.11.7/lib/python3.11/site-packages/PIL/Image.py:981: UserWarning: Palette images with Transparency expressed in bytes should be converted to RGBA images\n",
            "  warnings.warn(\n",
            "/home/treerspeaking/my_python_3.11.7/lib/python3.11/site-packages/PIL/Image.py:981: UserWarning: Palette images with Transparency expressed in bytes should be converted to RGBA images\n",
            "  warnings.warn(\n",
            "/home/treerspeaking/my_python_3.11.7/lib/python3.11/site-packages/PIL/Image.py:981: UserWarning: Palette images with Transparency expressed in bytes should be converted to RGBA images\n",
            "  warnings.warn(\n",
            "/home/treerspeaking/my_python_3.11.7/lib/python3.11/site-packages/PIL/Image.py:981: UserWarning: Palette images with Transparency expressed in bytes should be converted to RGBA images\n",
            "  warnings.warn(\n",
            "/home/treerspeaking/my_python_3.11.7/lib/python3.11/site-packages/PIL/Image.py:981: UserWarning: Palette images with Transparency expressed in bytes should be converted to RGBA images\n",
            "  warnings.warn(\n"
          ]
        },
        {
          "name": "stdout",
          "output_type": "stream",
          "text": [
            "Training Loss: 0.381378 ; Acc: 85.7805\n"
          ]
        },
        {
          "name": "stderr",
          "output_type": "stream",
          "text": [
            "Validation Epoch 25/80:   1%|          | 2/174 [00:00<00:42,  4.08it/s]/home/treerspeaking/my_python_3.11.7/lib/python3.11/site-packages/PIL/Image.py:981: UserWarning: Palette images with Transparency expressed in bytes should be converted to RGBA images\n",
            "  warnings.warn(\n",
            "Validation Epoch 25/80:  18%|█▊        | 32/174 [00:02<00:08, 17.03it/s]/home/treerspeaking/my_python_3.11.7/lib/python3.11/site-packages/PIL/Image.py:981: UserWarning: Palette images with Transparency expressed in bytes should be converted to RGBA images\n",
            "  warnings.warn(\n",
            "Validation Epoch 25/80:  21%|██        | 36/174 [00:02<00:07, 18.19it/s]/home/treerspeaking/my_python_3.11.7/lib/python3.11/site-packages/PIL/Image.py:981: UserWarning: Palette images with Transparency expressed in bytes should be converted to RGBA images\n",
            "  warnings.warn(\n",
            "Validation Epoch 25/80:  25%|██▌       | 44/174 [00:02<00:06, 19.24it/s]/home/treerspeaking/my_python_3.11.7/lib/python3.11/site-packages/PIL/Image.py:981: UserWarning: Palette images with Transparency expressed in bytes should be converted to RGBA images\n",
            "  warnings.warn(\n",
            "Validation Epoch 25/80:  32%|███▏      | 56/174 [00:03<00:05, 19.67it/s]/home/treerspeaking/my_python_3.11.7/lib/python3.11/site-packages/PIL/Image.py:981: UserWarning: Palette images with Transparency expressed in bytes should be converted to RGBA images\n",
            "  warnings.warn(\n",
            "Validation Epoch 25/80:  67%|██████▋   | 117/174 [00:06<00:02, 19.78it/s]/home/treerspeaking/my_python_3.11.7/lib/python3.11/site-packages/PIL/Image.py:981: UserWarning: Palette images with Transparency expressed in bytes should be converted to RGBA images\n",
            "  warnings.warn(\n",
            "Validation Epoch 25/80: 100%|██████████| 174/174 [00:09<00:00, 17.55it/s]"
          ]
        },
        {
          "name": "stdout",
          "output_type": "stream",
          "text": [
            "Validation Loss: 0.5113; Acc: 85.9071\n",
            "saved model at epoch 24: ./models/epoch_24.pth\n"
          ]
        },
        {
          "name": "stderr",
          "output_type": "stream",
          "text": [
            "\n",
            "/home/treerspeaking/my_python_3.11.7/lib/python3.11/site-packages/PIL/Image.py:981: UserWarning: Palette images with Transparency expressed in bytes should be converted to RGBA images\n",
            "  warnings.warn(\n",
            "/home/treerspeaking/my_python_3.11.7/lib/python3.11/site-packages/PIL/Image.py:981: UserWarning: Palette images with Transparency expressed in bytes should be converted to RGBA images\n",
            "  warnings.warn(\n",
            "/home/treerspeaking/my_python_3.11.7/lib/python3.11/site-packages/PIL/Image.py:981: UserWarning: Palette images with Transparency expressed in bytes should be converted to RGBA images\n",
            "  warnings.warn(\n",
            "/home/treerspeaking/my_python_3.11.7/lib/python3.11/site-packages/PIL/Image.py:981: UserWarning: Palette images with Transparency expressed in bytes should be converted to RGBA images\n",
            "  warnings.warn(\n",
            "/home/treerspeaking/my_python_3.11.7/lib/python3.11/site-packages/PIL/Image.py:981: UserWarning: Palette images with Transparency expressed in bytes should be converted to RGBA images\n",
            "  warnings.warn(\n",
            "/home/treerspeaking/my_python_3.11.7/lib/python3.11/site-packages/PIL/Image.py:981: UserWarning: Palette images with Transparency expressed in bytes should be converted to RGBA images\n",
            "  warnings.warn(\n"
          ]
        },
        {
          "name": "stdout",
          "output_type": "stream",
          "text": [
            "Training Loss: 0.381484 ; Acc: 85.7130\n"
          ]
        },
        {
          "name": "stderr",
          "output_type": "stream",
          "text": [
            "Validation Epoch 26/80:   1%|          | 2/174 [00:00<00:41,  4.14it/s]/home/treerspeaking/my_python_3.11.7/lib/python3.11/site-packages/PIL/Image.py:981: UserWarning: Palette images with Transparency expressed in bytes should be converted to RGBA images\n",
            "  warnings.warn(\n",
            "Validation Epoch 26/80:  17%|█▋        | 30/174 [00:02<00:09, 15.52it/s]/home/treerspeaking/my_python_3.11.7/lib/python3.11/site-packages/PIL/Image.py:981: UserWarning: Palette images with Transparency expressed in bytes should be converted to RGBA images\n",
            "  warnings.warn(\n",
            "Validation Epoch 26/80:  20%|██        | 35/174 [00:02<00:08, 17.34it/s]/home/treerspeaking/my_python_3.11.7/lib/python3.11/site-packages/PIL/Image.py:981: UserWarning: Palette images with Transparency expressed in bytes should be converted to RGBA images\n",
            "  warnings.warn(\n",
            "Validation Epoch 26/80:  25%|██▍       | 43/174 [00:03<00:06, 18.99it/s]/home/treerspeaking/my_python_3.11.7/lib/python3.11/site-packages/PIL/Image.py:981: UserWarning: Palette images with Transparency expressed in bytes should be converted to RGBA images\n",
            "  warnings.warn(\n",
            "Validation Epoch 26/80:  32%|███▏      | 55/174 [00:03<00:05, 19.85it/s]/home/treerspeaking/my_python_3.11.7/lib/python3.11/site-packages/PIL/Image.py:981: UserWarning: Palette images with Transparency expressed in bytes should be converted to RGBA images\n",
            "  warnings.warn(\n",
            "Validation Epoch 26/80:  67%|██████▋   | 117/174 [00:06<00:02, 19.82it/s]/home/treerspeaking/my_python_3.11.7/lib/python3.11/site-packages/PIL/Image.py:981: UserWarning: Palette images with Transparency expressed in bytes should be converted to RGBA images\n",
            "  warnings.warn(\n",
            "Validation Epoch 26/80: 100%|██████████| 174/174 [00:09<00:00, 17.43it/s]"
          ]
        },
        {
          "name": "stdout",
          "output_type": "stream",
          "text": [
            "Validation Loss: 0.4987; Acc: 85.8351\n",
            "saved model at epoch 25: ./models/epoch_25.pth\n"
          ]
        },
        {
          "name": "stderr",
          "output_type": "stream",
          "text": [
            "\n",
            "/home/treerspeaking/my_python_3.11.7/lib/python3.11/site-packages/PIL/Image.py:981: UserWarning: Palette images with Transparency expressed in bytes should be converted to RGBA images\n",
            "  warnings.warn(\n",
            "/home/treerspeaking/my_python_3.11.7/lib/python3.11/site-packages/PIL/Image.py:981: UserWarning: Palette images with Transparency expressed in bytes should be converted to RGBA images\n",
            "  warnings.warn(\n",
            "/home/treerspeaking/my_python_3.11.7/lib/python3.11/site-packages/PIL/Image.py:981: UserWarning: Palette images with Transparency expressed in bytes should be converted to RGBA images\n",
            "  warnings.warn(\n",
            "/home/treerspeaking/my_python_3.11.7/lib/python3.11/site-packages/PIL/Image.py:981: UserWarning: Palette images with Transparency expressed in bytes should be converted to RGBA images\n",
            "  warnings.warn(\n",
            "/home/treerspeaking/my_python_3.11.7/lib/python3.11/site-packages/PIL/Image.py:981: UserWarning: Palette images with Transparency expressed in bytes should be converted to RGBA images\n",
            "  warnings.warn(\n",
            "/home/treerspeaking/my_python_3.11.7/lib/python3.11/site-packages/PIL/Image.py:981: UserWarning: Palette images with Transparency expressed in bytes should be converted to RGBA images\n",
            "  warnings.warn(\n"
          ]
        },
        {
          "name": "stdout",
          "output_type": "stream",
          "text": [
            "Training Loss: 0.370803 ; Acc: 86.1225\n"
          ]
        },
        {
          "name": "stderr",
          "output_type": "stream",
          "text": [
            "Validation Epoch 27/80:   1%|          | 2/174 [00:00<00:39,  4.32it/s]/home/treerspeaking/my_python_3.11.7/lib/python3.11/site-packages/PIL/Image.py:981: UserWarning: Palette images with Transparency expressed in bytes should be converted to RGBA images\n",
            "  warnings.warn(\n",
            "Validation Epoch 27/80:  17%|█▋        | 30/174 [00:02<00:09, 15.98it/s]/home/treerspeaking/my_python_3.11.7/lib/python3.11/site-packages/PIL/Image.py:981: UserWarning: Palette images with Transparency expressed in bytes should be converted to RGBA images\n",
            "  warnings.warn(\n",
            "Validation Epoch 27/80:  21%|██        | 36/174 [00:02<00:07, 17.91it/s]/home/treerspeaking/my_python_3.11.7/lib/python3.11/site-packages/PIL/Image.py:981: UserWarning: Palette images with Transparency expressed in bytes should be converted to RGBA images\n",
            "  warnings.warn(\n",
            "Validation Epoch 27/80:  24%|██▍       | 42/174 [00:02<00:07, 18.71it/s]/home/treerspeaking/my_python_3.11.7/lib/python3.11/site-packages/PIL/Image.py:981: UserWarning: Palette images with Transparency expressed in bytes should be converted to RGBA images\n",
            "  warnings.warn(\n",
            "Validation Epoch 27/80:  32%|███▏      | 56/174 [00:03<00:05, 19.70it/s]/home/treerspeaking/my_python_3.11.7/lib/python3.11/site-packages/PIL/Image.py:981: UserWarning: Palette images with Transparency expressed in bytes should be converted to RGBA images\n",
            "  warnings.warn(\n",
            "Validation Epoch 27/80:  67%|██████▋   | 117/174 [00:06<00:02, 19.93it/s]/home/treerspeaking/my_python_3.11.7/lib/python3.11/site-packages/PIL/Image.py:981: UserWarning: Palette images with Transparency expressed in bytes should be converted to RGBA images\n",
            "  warnings.warn(\n",
            "Validation Epoch 27/80: 100%|██████████| 174/174 [00:09<00:00, 17.67it/s]\n"
          ]
        },
        {
          "name": "stdout",
          "output_type": "stream",
          "text": [
            "Validation Loss: 0.4694; Acc: 86.4831\n",
            "saved model at epoch 26: ./models/epoch_26.pth\n",
            "Best model updated with validation loss 0.4694 and saved at ./models/best_model.pth\n"
          ]
        },
        {
          "name": "stderr",
          "output_type": "stream",
          "text": [
            "/home/treerspeaking/my_python_3.11.7/lib/python3.11/site-packages/PIL/Image.py:981: UserWarning: Palette images with Transparency expressed in bytes should be converted to RGBA images\n",
            "  warnings.warn(\n",
            "/home/treerspeaking/my_python_3.11.7/lib/python3.11/site-packages/PIL/Image.py:981: UserWarning: Palette images with Transparency expressed in bytes should be converted to RGBA images\n",
            "  warnings.warn(\n",
            "/home/treerspeaking/my_python_3.11.7/lib/python3.11/site-packages/PIL/Image.py:981: UserWarning: Palette images with Transparency expressed in bytes should be converted to RGBA images\n",
            "  warnings.warn(\n",
            "/home/treerspeaking/my_python_3.11.7/lib/python3.11/site-packages/PIL/Image.py:981: UserWarning: Palette images with Transparency expressed in bytes should be converted to RGBA images\n",
            "  warnings.warn(\n",
            "/home/treerspeaking/my_python_3.11.7/lib/python3.11/site-packages/PIL/Image.py:981: UserWarning: Palette images with Transparency expressed in bytes should be converted to RGBA images\n",
            "  warnings.warn(\n",
            "/home/treerspeaking/my_python_3.11.7/lib/python3.11/site-packages/PIL/Image.py:981: UserWarning: Palette images with Transparency expressed in bytes should be converted to RGBA images\n",
            "  warnings.warn(\n"
          ]
        },
        {
          "name": "stdout",
          "output_type": "stream",
          "text": [
            "Training Loss: 0.354531 ; Acc: 86.9910\n"
          ]
        },
        {
          "name": "stderr",
          "output_type": "stream",
          "text": [
            "Validation Epoch 28/80:   1%|          | 2/174 [00:00<00:41,  4.13it/s]/home/treerspeaking/my_python_3.11.7/lib/python3.11/site-packages/PIL/Image.py:981: UserWarning: Palette images with Transparency expressed in bytes should be converted to RGBA images\n",
            "  warnings.warn(\n",
            "Validation Epoch 28/80:  17%|█▋        | 30/174 [00:02<00:09, 15.93it/s]/home/treerspeaking/my_python_3.11.7/lib/python3.11/site-packages/PIL/Image.py:981: UserWarning: Palette images with Transparency expressed in bytes should be converted to RGBA images\n",
            "  warnings.warn(\n",
            "Validation Epoch 28/80:  20%|██        | 35/174 [00:02<00:07, 17.62it/s]/home/treerspeaking/my_python_3.11.7/lib/python3.11/site-packages/PIL/Image.py:981: UserWarning: Palette images with Transparency expressed in bytes should be converted to RGBA images\n",
            "  warnings.warn(\n",
            "Validation Epoch 28/80:  25%|██▍       | 43/174 [00:02<00:06, 19.08it/s]/home/treerspeaking/my_python_3.11.7/lib/python3.11/site-packages/PIL/Image.py:981: UserWarning: Palette images with Transparency expressed in bytes should be converted to RGBA images\n",
            "  warnings.warn(\n",
            "Validation Epoch 28/80:  32%|███▏      | 56/174 [00:03<00:06, 19.62it/s]/home/treerspeaking/my_python_3.11.7/lib/python3.11/site-packages/PIL/Image.py:981: UserWarning: Palette images with Transparency expressed in bytes should be converted to RGBA images\n",
            "  warnings.warn(\n",
            "Validation Epoch 28/80:  67%|██████▋   | 116/174 [00:06<00:02, 19.79it/s]/home/treerspeaking/my_python_3.11.7/lib/python3.11/site-packages/PIL/Image.py:981: UserWarning: Palette images with Transparency expressed in bytes should be converted to RGBA images\n",
            "  warnings.warn(\n",
            "Validation Epoch 28/80: 100%|██████████| 174/174 [00:09<00:00, 17.45it/s]"
          ]
        },
        {
          "name": "stdout",
          "output_type": "stream",
          "text": [
            "Validation Loss: 0.4946; Acc: 85.9251\n",
            "saved model at epoch 27: ./models/epoch_27.pth\n"
          ]
        },
        {
          "name": "stderr",
          "output_type": "stream",
          "text": [
            "\n",
            "/home/treerspeaking/my_python_3.11.7/lib/python3.11/site-packages/PIL/Image.py:981: UserWarning: Palette images with Transparency expressed in bytes should be converted to RGBA images\n",
            "  warnings.warn(\n",
            "/home/treerspeaking/my_python_3.11.7/lib/python3.11/site-packages/PIL/Image.py:981: UserWarning: Palette images with Transparency expressed in bytes should be converted to RGBA images\n",
            "  warnings.warn(\n",
            "/home/treerspeaking/my_python_3.11.7/lib/python3.11/site-packages/PIL/Image.py:981: UserWarning: Palette images with Transparency expressed in bytes should be converted to RGBA images\n",
            "  warnings.warn(\n",
            "/home/treerspeaking/my_python_3.11.7/lib/python3.11/site-packages/PIL/Image.py:981: UserWarning: Palette images with Transparency expressed in bytes should be converted to RGBA images\n",
            "  warnings.warn(\n",
            "/home/treerspeaking/my_python_3.11.7/lib/python3.11/site-packages/PIL/Image.py:981: UserWarning: Palette images with Transparency expressed in bytes should be converted to RGBA images\n",
            "  warnings.warn(\n",
            "/home/treerspeaking/my_python_3.11.7/lib/python3.11/site-packages/PIL/Image.py:981: UserWarning: Palette images with Transparency expressed in bytes should be converted to RGBA images\n",
            "  warnings.warn(\n"
          ]
        },
        {
          "name": "stdout",
          "output_type": "stream",
          "text": [
            "Training Loss: 0.361575 ; Acc: 86.5860\n"
          ]
        },
        {
          "name": "stderr",
          "output_type": "stream",
          "text": [
            "Validation Epoch 29/80:   1%|          | 2/174 [00:00<00:42,  4.09it/s]/home/treerspeaking/my_python_3.11.7/lib/python3.11/site-packages/PIL/Image.py:981: UserWarning: Palette images with Transparency expressed in bytes should be converted to RGBA images\n",
            "  warnings.warn(\n",
            "Validation Epoch 29/80:  17%|█▋        | 30/174 [00:02<00:08, 16.03it/s]/home/treerspeaking/my_python_3.11.7/lib/python3.11/site-packages/PIL/Image.py:981: UserWarning: Palette images with Transparency expressed in bytes should be converted to RGBA images\n",
            "  warnings.warn(\n",
            "Validation Epoch 29/80:  20%|██        | 35/174 [00:02<00:07, 17.70it/s]/home/treerspeaking/my_python_3.11.7/lib/python3.11/site-packages/PIL/Image.py:981: UserWarning: Palette images with Transparency expressed in bytes should be converted to RGBA images\n",
            "  warnings.warn(\n",
            "Validation Epoch 29/80:  25%|██▍       | 43/174 [00:02<00:06, 19.19it/s]/home/treerspeaking/my_python_3.11.7/lib/python3.11/site-packages/PIL/Image.py:981: UserWarning: Palette images with Transparency expressed in bytes should be converted to RGBA images\n",
            "  warnings.warn(\n",
            "Validation Epoch 29/80:  32%|███▏      | 55/174 [00:03<00:05, 19.85it/s]/home/treerspeaking/my_python_3.11.7/lib/python3.11/site-packages/PIL/Image.py:981: UserWarning: Palette images with Transparency expressed in bytes should be converted to RGBA images\n",
            "  warnings.warn(\n",
            "Validation Epoch 29/80:  67%|██████▋   | 116/174 [00:06<00:02, 19.85it/s]/home/treerspeaking/my_python_3.11.7/lib/python3.11/site-packages/PIL/Image.py:981: UserWarning: Palette images with Transparency expressed in bytes should be converted to RGBA images\n",
            "  warnings.warn(\n",
            "Validation Epoch 29/80: 100%|██████████| 174/174 [00:09<00:00, 17.63it/s]"
          ]
        },
        {
          "name": "stdout",
          "output_type": "stream",
          "text": [
            "Validation Loss: 0.4879; Acc: 86.2311\n",
            "saved model at epoch 28: ./models/epoch_28.pth\n"
          ]
        },
        {
          "name": "stderr",
          "output_type": "stream",
          "text": [
            "\n",
            "/home/treerspeaking/my_python_3.11.7/lib/python3.11/site-packages/PIL/Image.py:981: UserWarning: Palette images with Transparency expressed in bytes should be converted to RGBA images\n",
            "  warnings.warn(\n",
            "/home/treerspeaking/my_python_3.11.7/lib/python3.11/site-packages/PIL/Image.py:981: UserWarning: Palette images with Transparency expressed in bytes should be converted to RGBA images\n",
            "  warnings.warn(\n",
            "/home/treerspeaking/my_python_3.11.7/lib/python3.11/site-packages/PIL/Image.py:981: UserWarning: Palette images with Transparency expressed in bytes should be converted to RGBA images\n",
            "  warnings.warn(\n",
            "/home/treerspeaking/my_python_3.11.7/lib/python3.11/site-packages/PIL/Image.py:981: UserWarning: Palette images with Transparency expressed in bytes should be converted to RGBA images\n",
            "  warnings.warn(\n",
            "/home/treerspeaking/my_python_3.11.7/lib/python3.11/site-packages/PIL/Image.py:981: UserWarning: Palette images with Transparency expressed in bytes should be converted to RGBA images\n",
            "  warnings.warn(\n",
            "/home/treerspeaking/my_python_3.11.7/lib/python3.11/site-packages/PIL/Image.py:981: UserWarning: Palette images with Transparency expressed in bytes should be converted to RGBA images\n",
            "  warnings.warn(\n"
          ]
        },
        {
          "name": "stdout",
          "output_type": "stream",
          "text": [
            "Training Loss: 0.351642 ; Acc: 86.9325\n"
          ]
        },
        {
          "name": "stderr",
          "output_type": "stream",
          "text": [
            "Validation Epoch 30/80:   2%|▏         | 3/174 [00:00<00:27,  6.18it/s]/home/treerspeaking/my_python_3.11.7/lib/python3.11/site-packages/PIL/Image.py:981: UserWarning: Palette images with Transparency expressed in bytes should be converted to RGBA images\n",
            "  warnings.warn(\n",
            "Validation Epoch 30/80:  17%|█▋        | 30/174 [00:02<00:09, 15.91it/s]/home/treerspeaking/my_python_3.11.7/lib/python3.11/site-packages/PIL/Image.py:981: UserWarning: Palette images with Transparency expressed in bytes should be converted to RGBA images\n",
            "  warnings.warn(\n",
            "Validation Epoch 30/80:  21%|██        | 36/174 [00:02<00:07, 17.87it/s]/home/treerspeaking/my_python_3.11.7/lib/python3.11/site-packages/PIL/Image.py:981: UserWarning: Palette images with Transparency expressed in bytes should be converted to RGBA images\n",
            "  warnings.warn(\n",
            "Validation Epoch 30/80:  25%|██▍       | 43/174 [00:02<00:06, 19.01it/s]/home/treerspeaking/my_python_3.11.7/lib/python3.11/site-packages/PIL/Image.py:981: UserWarning: Palette images with Transparency expressed in bytes should be converted to RGBA images\n",
            "  warnings.warn(\n",
            "Validation Epoch 30/80:  32%|███▏      | 55/174 [00:03<00:06, 19.61it/s]/home/treerspeaking/my_python_3.11.7/lib/python3.11/site-packages/PIL/Image.py:981: UserWarning: Palette images with Transparency expressed in bytes should be converted to RGBA images\n",
            "  warnings.warn(\n",
            "Validation Epoch 30/80:  67%|██████▋   | 117/174 [00:06<00:02, 19.89it/s]/home/treerspeaking/my_python_3.11.7/lib/python3.11/site-packages/PIL/Image.py:981: UserWarning: Palette images with Transparency expressed in bytes should be converted to RGBA images\n",
            "  warnings.warn(\n",
            "Validation Epoch 30/80: 100%|██████████| 174/174 [00:09<00:00, 17.50it/s]\n"
          ]
        },
        {
          "name": "stdout",
          "output_type": "stream",
          "text": [
            "Validation Loss: 0.4601; Acc: 86.4111\n",
            "saved model at epoch 29: ./models/epoch_29.pth\n",
            "Best model updated with validation loss 0.4601 and saved at ./models/best_model.pth\n"
          ]
        },
        {
          "name": "stderr",
          "output_type": "stream",
          "text": [
            "/home/treerspeaking/my_python_3.11.7/lib/python3.11/site-packages/PIL/Image.py:981: UserWarning: Palette images with Transparency expressed in bytes should be converted to RGBA images\n",
            "  warnings.warn(\n",
            "/home/treerspeaking/my_python_3.11.7/lib/python3.11/site-packages/PIL/Image.py:981: UserWarning: Palette images with Transparency expressed in bytes should be converted to RGBA images\n",
            "  warnings.warn(\n",
            "/home/treerspeaking/my_python_3.11.7/lib/python3.11/site-packages/PIL/Image.py:981: UserWarning: Palette images with Transparency expressed in bytes should be converted to RGBA images\n",
            "  warnings.warn(\n",
            "/home/treerspeaking/my_python_3.11.7/lib/python3.11/site-packages/PIL/Image.py:981: UserWarning: Palette images with Transparency expressed in bytes should be converted to RGBA images\n",
            "  warnings.warn(\n",
            "/home/treerspeaking/my_python_3.11.7/lib/python3.11/site-packages/PIL/Image.py:981: UserWarning: Palette images with Transparency expressed in bytes should be converted to RGBA images\n",
            "  warnings.warn(\n",
            "/home/treerspeaking/my_python_3.11.7/lib/python3.11/site-packages/PIL/Image.py:981: UserWarning: Palette images with Transparency expressed in bytes should be converted to RGBA images\n",
            "  warnings.warn(\n"
          ]
        },
        {
          "name": "stdout",
          "output_type": "stream",
          "text": [
            "Training Loss: 0.338776 ; Acc: 87.4814\n"
          ]
        },
        {
          "name": "stderr",
          "output_type": "stream",
          "text": [
            "Validation Epoch 31/80:   1%|          | 2/174 [00:00<00:41,  4.19it/s]/home/treerspeaking/my_python_3.11.7/lib/python3.11/site-packages/PIL/Image.py:981: UserWarning: Palette images with Transparency expressed in bytes should be converted to RGBA images\n",
            "  warnings.warn(\n",
            "Validation Epoch 31/80:  18%|█▊        | 32/174 [00:02<00:08, 16.88it/s]/home/treerspeaking/my_python_3.11.7/lib/python3.11/site-packages/PIL/Image.py:981: UserWarning: Palette images with Transparency expressed in bytes should be converted to RGBA images\n",
            "  warnings.warn(\n",
            "Validation Epoch 31/80:  21%|██        | 36/174 [00:02<00:07, 18.11it/s]/home/treerspeaking/my_python_3.11.7/lib/python3.11/site-packages/PIL/Image.py:981: UserWarning: Palette images with Transparency expressed in bytes should be converted to RGBA images\n",
            "  warnings.warn(\n",
            "Validation Epoch 31/80:  25%|██▌       | 44/174 [00:02<00:06, 19.16it/s]/home/treerspeaking/my_python_3.11.7/lib/python3.11/site-packages/PIL/Image.py:981: UserWarning: Palette images with Transparency expressed in bytes should be converted to RGBA images\n",
            "  warnings.warn(\n",
            "Validation Epoch 31/80:  32%|███▏      | 55/174 [00:03<00:06, 19.75it/s]/home/treerspeaking/my_python_3.11.7/lib/python3.11/site-packages/PIL/Image.py:981: UserWarning: Palette images with Transparency expressed in bytes should be converted to RGBA images\n",
            "  warnings.warn(\n",
            "Validation Epoch 31/80:  67%|██████▋   | 117/174 [00:06<00:02, 19.83it/s]/home/treerspeaking/my_python_3.11.7/lib/python3.11/site-packages/PIL/Image.py:981: UserWarning: Palette images with Transparency expressed in bytes should be converted to RGBA images\n",
            "  warnings.warn(\n",
            "Validation Epoch 31/80: 100%|██████████| 174/174 [00:09<00:00, 17.54it/s]"
          ]
        },
        {
          "name": "stdout",
          "output_type": "stream",
          "text": [
            "Validation Loss: 0.4782; Acc: 86.4471\n",
            "saved model at epoch 30: ./models/epoch_30.pth\n"
          ]
        },
        {
          "name": "stderr",
          "output_type": "stream",
          "text": [
            "\n",
            "/home/treerspeaking/my_python_3.11.7/lib/python3.11/site-packages/PIL/Image.py:981: UserWarning: Palette images with Transparency expressed in bytes should be converted to RGBA images\n",
            "  warnings.warn(\n",
            "/home/treerspeaking/my_python_3.11.7/lib/python3.11/site-packages/PIL/Image.py:981: UserWarning: Palette images with Transparency expressed in bytes should be converted to RGBA images\n",
            "  warnings.warn(\n",
            "/home/treerspeaking/my_python_3.11.7/lib/python3.11/site-packages/PIL/Image.py:981: UserWarning: Palette images with Transparency expressed in bytes should be converted to RGBA images\n",
            "  warnings.warn(\n",
            "/home/treerspeaking/my_python_3.11.7/lib/python3.11/site-packages/PIL/Image.py:981: UserWarning: Palette images with Transparency expressed in bytes should be converted to RGBA images\n",
            "  warnings.warn(\n",
            "/home/treerspeaking/my_python_3.11.7/lib/python3.11/site-packages/PIL/Image.py:981: UserWarning: Palette images with Transparency expressed in bytes should be converted to RGBA images\n",
            "  warnings.warn(\n",
            "/home/treerspeaking/my_python_3.11.7/lib/python3.11/site-packages/PIL/Image.py:981: UserWarning: Palette images with Transparency expressed in bytes should be converted to RGBA images\n",
            "  warnings.warn(\n"
          ]
        },
        {
          "name": "stdout",
          "output_type": "stream",
          "text": [
            "Training Loss: 0.332655 ; Acc: 87.9359\n"
          ]
        },
        {
          "name": "stderr",
          "output_type": "stream",
          "text": [
            "Validation Epoch 32/80:   1%|          | 2/174 [00:00<00:41,  4.11it/s]/home/treerspeaking/my_python_3.11.7/lib/python3.11/site-packages/PIL/Image.py:981: UserWarning: Palette images with Transparency expressed in bytes should be converted to RGBA images\n",
            "  warnings.warn(\n",
            "Validation Epoch 32/80:  18%|█▊        | 32/174 [00:02<00:08, 16.88it/s]/home/treerspeaking/my_python_3.11.7/lib/python3.11/site-packages/PIL/Image.py:981: UserWarning: Palette images with Transparency expressed in bytes should be converted to RGBA images\n",
            "  warnings.warn(\n",
            "Validation Epoch 32/80:  21%|██        | 36/174 [00:02<00:07, 18.14it/s]/home/treerspeaking/my_python_3.11.7/lib/python3.11/site-packages/PIL/Image.py:981: UserWarning: Palette images with Transparency expressed in bytes should be converted to RGBA images\n",
            "  warnings.warn(\n",
            "Validation Epoch 32/80:  26%|██▌       | 45/174 [00:03<00:06, 19.33it/s]/home/treerspeaking/my_python_3.11.7/lib/python3.11/site-packages/PIL/Image.py:981: UserWarning: Palette images with Transparency expressed in bytes should be converted to RGBA images\n",
            "  warnings.warn(\n",
            "Validation Epoch 32/80:  32%|███▏      | 55/174 [00:03<00:06, 19.73it/s]/home/treerspeaking/my_python_3.11.7/lib/python3.11/site-packages/PIL/Image.py:981: UserWarning: Palette images with Transparency expressed in bytes should be converted to RGBA images\n",
            "  warnings.warn(\n",
            "Validation Epoch 32/80:  68%|██████▊   | 118/174 [00:06<00:02, 19.72it/s]/home/treerspeaking/my_python_3.11.7/lib/python3.11/site-packages/PIL/Image.py:981: UserWarning: Palette images with Transparency expressed in bytes should be converted to RGBA images\n",
            "  warnings.warn(\n",
            "Validation Epoch 32/80: 100%|██████████| 174/174 [00:09<00:00, 17.52it/s]"
          ]
        },
        {
          "name": "stdout",
          "output_type": "stream",
          "text": [
            "Validation Loss: 0.4923; Acc: 86.0511\n",
            "saved model at epoch 31: ./models/epoch_31.pth\n"
          ]
        },
        {
          "name": "stderr",
          "output_type": "stream",
          "text": [
            "\n",
            "/home/treerspeaking/my_python_3.11.7/lib/python3.11/site-packages/PIL/Image.py:981: UserWarning: Palette images with Transparency expressed in bytes should be converted to RGBA images\n",
            "  warnings.warn(\n",
            "/home/treerspeaking/my_python_3.11.7/lib/python3.11/site-packages/PIL/Image.py:981: UserWarning: Palette images with Transparency expressed in bytes should be converted to RGBA images\n",
            "  warnings.warn(\n",
            "/home/treerspeaking/my_python_3.11.7/lib/python3.11/site-packages/PIL/Image.py:981: UserWarning: Palette images with Transparency expressed in bytes should be converted to RGBA images\n",
            "  warnings.warn(\n",
            "/home/treerspeaking/my_python_3.11.7/lib/python3.11/site-packages/PIL/Image.py:981: UserWarning: Palette images with Transparency expressed in bytes should be converted to RGBA images\n",
            "  warnings.warn(\n",
            "/home/treerspeaking/my_python_3.11.7/lib/python3.11/site-packages/PIL/Image.py:981: UserWarning: Palette images with Transparency expressed in bytes should be converted to RGBA images\n",
            "  warnings.warn(\n",
            "/home/treerspeaking/my_python_3.11.7/lib/python3.11/site-packages/PIL/Image.py:981: UserWarning: Palette images with Transparency expressed in bytes should be converted to RGBA images\n",
            "  warnings.warn(\n"
          ]
        },
        {
          "name": "stdout",
          "output_type": "stream",
          "text": [
            "Training Loss: 0.324286 ; Acc: 87.8099\n"
          ]
        },
        {
          "name": "stderr",
          "output_type": "stream",
          "text": [
            "Validation Epoch 33/80:   1%|          | 2/174 [00:00<00:41,  4.10it/s]/home/treerspeaking/my_python_3.11.7/lib/python3.11/site-packages/PIL/Image.py:981: UserWarning: Palette images with Transparency expressed in bytes should be converted to RGBA images\n",
            "  warnings.warn(\n",
            "Validation Epoch 33/80:  17%|█▋        | 30/174 [00:02<00:09, 15.75it/s]/home/treerspeaking/my_python_3.11.7/lib/python3.11/site-packages/PIL/Image.py:981: UserWarning: Palette images with Transparency expressed in bytes should be converted to RGBA images\n",
            "  warnings.warn(\n",
            "Validation Epoch 33/80:  21%|██        | 36/174 [00:02<00:07, 17.84it/s]/home/treerspeaking/my_python_3.11.7/lib/python3.11/site-packages/PIL/Image.py:981: UserWarning: Palette images with Transparency expressed in bytes should be converted to RGBA images\n",
            "  warnings.warn(\n",
            "Validation Epoch 33/80:  25%|██▌       | 44/174 [00:03<00:06, 19.13it/s]/home/treerspeaking/my_python_3.11.7/lib/python3.11/site-packages/PIL/Image.py:981: UserWarning: Palette images with Transparency expressed in bytes should be converted to RGBA images\n",
            "  warnings.warn(\n",
            "Validation Epoch 33/80:  33%|███▎      | 57/174 [00:03<00:05, 19.80it/s]/home/treerspeaking/my_python_3.11.7/lib/python3.11/site-packages/PIL/Image.py:981: UserWarning: Palette images with Transparency expressed in bytes should be converted to RGBA images\n",
            "  warnings.warn(\n",
            "Validation Epoch 33/80:  67%|██████▋   | 117/174 [00:06<00:02, 19.83it/s]/home/treerspeaking/my_python_3.11.7/lib/python3.11/site-packages/PIL/Image.py:981: UserWarning: Palette images with Transparency expressed in bytes should be converted to RGBA images\n",
            "  warnings.warn(\n",
            "Validation Epoch 33/80: 100%|██████████| 174/174 [00:09<00:00, 17.54it/s]\n"
          ]
        },
        {
          "name": "stdout",
          "output_type": "stream",
          "text": [
            "Validation Loss: 0.5246; Acc: 85.9791\n",
            "saved model at epoch 32: ./models/epoch_32.pth\n"
          ]
        },
        {
          "name": "stderr",
          "output_type": "stream",
          "text": [
            "/home/treerspeaking/my_python_3.11.7/lib/python3.11/site-packages/PIL/Image.py:981: UserWarning: Palette images with Transparency expressed in bytes should be converted to RGBA images\n",
            "  warnings.warn(\n",
            "/home/treerspeaking/my_python_3.11.7/lib/python3.11/site-packages/PIL/Image.py:981: UserWarning: Palette images with Transparency expressed in bytes should be converted to RGBA images\n",
            "  warnings.warn(\n",
            "/home/treerspeaking/my_python_3.11.7/lib/python3.11/site-packages/PIL/Image.py:981: UserWarning: Palette images with Transparency expressed in bytes should be converted to RGBA images\n",
            "  warnings.warn(\n",
            "/home/treerspeaking/my_python_3.11.7/lib/python3.11/site-packages/PIL/Image.py:981: UserWarning: Palette images with Transparency expressed in bytes should be converted to RGBA images\n",
            "  warnings.warn(\n",
            "/home/treerspeaking/my_python_3.11.7/lib/python3.11/site-packages/PIL/Image.py:981: UserWarning: Palette images with Transparency expressed in bytes should be converted to RGBA images\n",
            "  warnings.warn(\n",
            "/home/treerspeaking/my_python_3.11.7/lib/python3.11/site-packages/PIL/Image.py:981: UserWarning: Palette images with Transparency expressed in bytes should be converted to RGBA images\n",
            "  warnings.warn(\n"
          ]
        },
        {
          "name": "stdout",
          "output_type": "stream",
          "text": [
            "Training Loss: 0.317767 ; Acc: 87.9989\n"
          ]
        },
        {
          "name": "stderr",
          "output_type": "stream",
          "text": [
            "Validation Epoch 34/80:   1%|          | 2/174 [00:00<00:40,  4.21it/s]/home/treerspeaking/my_python_3.11.7/lib/python3.11/site-packages/PIL/Image.py:981: UserWarning: Palette images with Transparency expressed in bytes should be converted to RGBA images\n",
            "  warnings.warn(\n",
            "Validation Epoch 34/80:  18%|█▊        | 31/174 [00:02<00:08, 16.78it/s]/home/treerspeaking/my_python_3.11.7/lib/python3.11/site-packages/PIL/Image.py:981: UserWarning: Palette images with Transparency expressed in bytes should be converted to RGBA images\n",
            "  warnings.warn(\n",
            "Validation Epoch 34/80:  20%|██        | 35/174 [00:02<00:07, 18.11it/s]/home/treerspeaking/my_python_3.11.7/lib/python3.11/site-packages/PIL/Image.py:981: UserWarning: Palette images with Transparency expressed in bytes should be converted to RGBA images\n",
            "  warnings.warn(\n",
            "Validation Epoch 34/80:  25%|██▌       | 44/174 [00:02<00:06, 19.39it/s]/home/treerspeaking/my_python_3.11.7/lib/python3.11/site-packages/PIL/Image.py:981: UserWarning: Palette images with Transparency expressed in bytes should be converted to RGBA images\n",
            "  warnings.warn(\n",
            "Validation Epoch 34/80:  32%|███▏      | 55/174 [00:03<00:06, 19.82it/s]/home/treerspeaking/my_python_3.11.7/lib/python3.11/site-packages/PIL/Image.py:981: UserWarning: Palette images with Transparency expressed in bytes should be converted to RGBA images\n",
            "  warnings.warn(\n",
            "Validation Epoch 34/80:  67%|██████▋   | 116/174 [00:06<00:02, 19.97it/s]/home/treerspeaking/my_python_3.11.7/lib/python3.11/site-packages/PIL/Image.py:981: UserWarning: Palette images with Transparency expressed in bytes should be converted to RGBA images\n",
            "  warnings.warn(\n",
            "Validation Epoch 34/80: 100%|██████████| 174/174 [00:09<00:00, 17.62it/s]"
          ]
        },
        {
          "name": "stdout",
          "output_type": "stream",
          "text": [
            "Validation Loss: 0.4878; Acc: 86.8251\n",
            "saved model at epoch 33: ./models/epoch_33.pth\n"
          ]
        },
        {
          "name": "stderr",
          "output_type": "stream",
          "text": [
            "\n",
            "/home/treerspeaking/my_python_3.11.7/lib/python3.11/site-packages/PIL/Image.py:981: UserWarning: Palette images with Transparency expressed in bytes should be converted to RGBA images\n",
            "  warnings.warn(\n",
            "/home/treerspeaking/my_python_3.11.7/lib/python3.11/site-packages/PIL/Image.py:981: UserWarning: Palette images with Transparency expressed in bytes should be converted to RGBA images\n",
            "  warnings.warn(\n",
            "/home/treerspeaking/my_python_3.11.7/lib/python3.11/site-packages/PIL/Image.py:981: UserWarning: Palette images with Transparency expressed in bytes should be converted to RGBA images\n",
            "  warnings.warn(\n",
            "/home/treerspeaking/my_python_3.11.7/lib/python3.11/site-packages/PIL/Image.py:981: UserWarning: Palette images with Transparency expressed in bytes should be converted to RGBA images\n",
            "  warnings.warn(\n",
            "/home/treerspeaking/my_python_3.11.7/lib/python3.11/site-packages/PIL/Image.py:981: UserWarning: Palette images with Transparency expressed in bytes should be converted to RGBA images\n",
            "  warnings.warn(\n",
            "/home/treerspeaking/my_python_3.11.7/lib/python3.11/site-packages/PIL/Image.py:981: UserWarning: Palette images with Transparency expressed in bytes should be converted to RGBA images\n",
            "  warnings.warn(\n"
          ]
        },
        {
          "name": "stdout",
          "output_type": "stream",
          "text": [
            "Training Loss: 0.312030 ; Acc: 88.3904\n"
          ]
        },
        {
          "name": "stderr",
          "output_type": "stream",
          "text": [
            "Validation Epoch 35/80:   1%|          | 2/174 [00:00<00:42,  4.08it/s]/home/treerspeaking/my_python_3.11.7/lib/python3.11/site-packages/PIL/Image.py:981: UserWarning: Palette images with Transparency expressed in bytes should be converted to RGBA images\n",
            "  warnings.warn(\n",
            "Validation Epoch 35/80:  18%|█▊        | 32/174 [00:02<00:08, 16.84it/s]/home/treerspeaking/my_python_3.11.7/lib/python3.11/site-packages/PIL/Image.py:981: UserWarning: Palette images with Transparency expressed in bytes should be converted to RGBA images\n",
            "  warnings.warn(\n",
            "Validation Epoch 35/80:  20%|█▉        | 34/174 [00:02<00:08, 17.46it/s]/home/treerspeaking/my_python_3.11.7/lib/python3.11/site-packages/PIL/Image.py:981: UserWarning: Palette images with Transparency expressed in bytes should be converted to RGBA images\n",
            "  warnings.warn(\n",
            "Validation Epoch 35/80:  25%|██▍       | 43/174 [00:02<00:06, 19.05it/s]/home/treerspeaking/my_python_3.11.7/lib/python3.11/site-packages/PIL/Image.py:981: UserWarning: Palette images with Transparency expressed in bytes should be converted to RGBA images\n",
            "  warnings.warn(\n",
            "Validation Epoch 35/80:  32%|███▏      | 55/174 [00:03<00:06, 19.70it/s]/home/treerspeaking/my_python_3.11.7/lib/python3.11/site-packages/PIL/Image.py:981: UserWarning: Palette images with Transparency expressed in bytes should be converted to RGBA images\n",
            "  warnings.warn(\n",
            "Validation Epoch 35/80:  67%|██████▋   | 117/174 [00:06<00:02, 19.81it/s]/home/treerspeaking/my_python_3.11.7/lib/python3.11/site-packages/PIL/Image.py:981: UserWarning: Palette images with Transparency expressed in bytes should be converted to RGBA images\n",
            "  warnings.warn(\n",
            "Validation Epoch 35/80: 100%|██████████| 174/174 [00:09<00:00, 17.52it/s]"
          ]
        },
        {
          "name": "stdout",
          "output_type": "stream",
          "text": [
            "Validation Loss: 0.5088; Acc: 86.8430\n",
            "saved model at epoch 34: ./models/epoch_34.pth\n"
          ]
        },
        {
          "name": "stderr",
          "output_type": "stream",
          "text": [
            "\n",
            "/home/treerspeaking/my_python_3.11.7/lib/python3.11/site-packages/PIL/Image.py:981: UserWarning: Palette images with Transparency expressed in bytes should be converted to RGBA images\n",
            "  warnings.warn(\n",
            "/home/treerspeaking/my_python_3.11.7/lib/python3.11/site-packages/PIL/Image.py:981: UserWarning: Palette images with Transparency expressed in bytes should be converted to RGBA images\n",
            "  warnings.warn(\n",
            "/home/treerspeaking/my_python_3.11.7/lib/python3.11/site-packages/PIL/Image.py:981: UserWarning: Palette images with Transparency expressed in bytes should be converted to RGBA images\n",
            "  warnings.warn(\n",
            "/home/treerspeaking/my_python_3.11.7/lib/python3.11/site-packages/PIL/Image.py:981: UserWarning: Palette images with Transparency expressed in bytes should be converted to RGBA images\n",
            "  warnings.warn(\n",
            "/home/treerspeaking/my_python_3.11.7/lib/python3.11/site-packages/PIL/Image.py:981: UserWarning: Palette images with Transparency expressed in bytes should be converted to RGBA images\n",
            "  warnings.warn(\n",
            "/home/treerspeaking/my_python_3.11.7/lib/python3.11/site-packages/PIL/Image.py:981: UserWarning: Palette images with Transparency expressed in bytes should be converted to RGBA images\n",
            "  warnings.warn(\n"
          ]
        },
        {
          "name": "stdout",
          "output_type": "stream",
          "text": [
            "Training Loss: 0.318819 ; Acc: 87.9629\n"
          ]
        },
        {
          "name": "stderr",
          "output_type": "stream",
          "text": [
            "Validation Epoch 36/80:   1%|          | 2/174 [00:00<00:40,  4.25it/s]/home/treerspeaking/my_python_3.11.7/lib/python3.11/site-packages/PIL/Image.py:981: UserWarning: Palette images with Transparency expressed in bytes should be converted to RGBA images\n",
            "  warnings.warn(\n",
            "Validation Epoch 36/80:  18%|█▊        | 32/174 [00:02<00:08, 16.67it/s]/home/treerspeaking/my_python_3.11.7/lib/python3.11/site-packages/PIL/Image.py:981: UserWarning: Palette images with Transparency expressed in bytes should be converted to RGBA images\n",
            "  warnings.warn(\n",
            "Validation Epoch 36/80:  21%|██        | 36/174 [00:02<00:07, 17.96it/s]/home/treerspeaking/my_python_3.11.7/lib/python3.11/site-packages/PIL/Image.py:981: UserWarning: Palette images with Transparency expressed in bytes should be converted to RGBA images\n",
            "  warnings.warn(\n",
            "Validation Epoch 36/80:  25%|██▍       | 43/174 [00:02<00:06, 19.04it/s]/home/treerspeaking/my_python_3.11.7/lib/python3.11/site-packages/PIL/Image.py:981: UserWarning: Palette images with Transparency expressed in bytes should be converted to RGBA images\n",
            "  warnings.warn(\n",
            "Validation Epoch 36/80:  32%|███▏      | 55/174 [00:03<00:06, 19.76it/s]/home/treerspeaking/my_python_3.11.7/lib/python3.11/site-packages/PIL/Image.py:981: UserWarning: Palette images with Transparency expressed in bytes should be converted to RGBA images\n",
            "  warnings.warn(\n",
            "Validation Epoch 36/80:  68%|██████▊   | 118/174 [00:06<00:02, 19.82it/s]/home/treerspeaking/my_python_3.11.7/lib/python3.11/site-packages/PIL/Image.py:981: UserWarning: Palette images with Transparency expressed in bytes should be converted to RGBA images\n",
            "  warnings.warn(\n",
            "Validation Epoch 36/80: 100%|██████████| 174/174 [00:09<00:00, 17.55it/s]\n"
          ]
        },
        {
          "name": "stdout",
          "output_type": "stream",
          "text": [
            "Validation Loss: 0.5181; Acc: 86.0511\n",
            "saved model at epoch 35: ./models/epoch_35.pth\n"
          ]
        },
        {
          "name": "stderr",
          "output_type": "stream",
          "text": [
            "/home/treerspeaking/my_python_3.11.7/lib/python3.11/site-packages/PIL/Image.py:981: UserWarning: Palette images with Transparency expressed in bytes should be converted to RGBA images\n",
            "  warnings.warn(\n",
            "/home/treerspeaking/my_python_3.11.7/lib/python3.11/site-packages/PIL/Image.py:981: UserWarning: Palette images with Transparency expressed in bytes should be converted to RGBA images\n",
            "  warnings.warn(\n",
            "/home/treerspeaking/my_python_3.11.7/lib/python3.11/site-packages/PIL/Image.py:981: UserWarning: Palette images with Transparency expressed in bytes should be converted to RGBA images\n",
            "  warnings.warn(\n",
            "/home/treerspeaking/my_python_3.11.7/lib/python3.11/site-packages/PIL/Image.py:981: UserWarning: Palette images with Transparency expressed in bytes should be converted to RGBA images\n",
            "  warnings.warn(\n",
            "/home/treerspeaking/my_python_3.11.7/lib/python3.11/site-packages/PIL/Image.py:981: UserWarning: Palette images with Transparency expressed in bytes should be converted to RGBA images\n",
            "  warnings.warn(\n",
            "/home/treerspeaking/my_python_3.11.7/lib/python3.11/site-packages/PIL/Image.py:981: UserWarning: Palette images with Transparency expressed in bytes should be converted to RGBA images\n",
            "  warnings.warn(\n"
          ]
        },
        {
          "name": "stdout",
          "output_type": "stream",
          "text": [
            "Training Loss: 0.306645 ; Acc: 88.8134\n"
          ]
        },
        {
          "name": "stderr",
          "output_type": "stream",
          "text": [
            "Validation Epoch 37/80:   1%|          | 2/174 [00:00<00:41,  4.12it/s]/home/treerspeaking/my_python_3.11.7/lib/python3.11/site-packages/PIL/Image.py:981: UserWarning: Palette images with Transparency expressed in bytes should be converted to RGBA images\n",
            "  warnings.warn(\n",
            "Validation Epoch 37/80:  17%|█▋        | 30/174 [00:02<00:09, 15.92it/s]/home/treerspeaking/my_python_3.11.7/lib/python3.11/site-packages/PIL/Image.py:981: UserWarning: Palette images with Transparency expressed in bytes should be converted to RGBA images\n",
            "  warnings.warn(\n",
            "Validation Epoch 37/80:  21%|██        | 36/174 [00:02<00:07, 17.90it/s]/home/treerspeaking/my_python_3.11.7/lib/python3.11/site-packages/PIL/Image.py:981: UserWarning: Palette images with Transparency expressed in bytes should be converted to RGBA images\n",
            "  warnings.warn(\n",
            "Validation Epoch 37/80:  25%|██▍       | 43/174 [00:02<00:06, 18.92it/s]/home/treerspeaking/my_python_3.11.7/lib/python3.11/site-packages/PIL/Image.py:981: UserWarning: Palette images with Transparency expressed in bytes should be converted to RGBA images\n",
            "  warnings.warn(\n",
            "Validation Epoch 37/80:  32%|███▏      | 55/174 [00:03<00:06, 19.75it/s]/home/treerspeaking/my_python_3.11.7/lib/python3.11/site-packages/PIL/Image.py:981: UserWarning: Palette images with Transparency expressed in bytes should be converted to RGBA images\n",
            "  warnings.warn(\n",
            "Validation Epoch 37/80:  67%|██████▋   | 117/174 [00:06<00:02, 19.83it/s]/home/treerspeaking/my_python_3.11.7/lib/python3.11/site-packages/PIL/Image.py:981: UserWarning: Palette images with Transparency expressed in bytes should be converted to RGBA images\n",
            "  warnings.warn(\n",
            "Validation Epoch 37/80: 100%|██████████| 174/174 [00:09<00:00, 17.53it/s]\n"
          ]
        },
        {
          "name": "stdout",
          "output_type": "stream",
          "text": [
            "Validation Loss: 0.4827; Acc: 86.8610\n",
            "saved model at epoch 36: ./models/epoch_36.pth\n"
          ]
        },
        {
          "name": "stderr",
          "output_type": "stream",
          "text": [
            "/home/treerspeaking/my_python_3.11.7/lib/python3.11/site-packages/PIL/Image.py:981: UserWarning: Palette images with Transparency expressed in bytes should be converted to RGBA images\n",
            "  warnings.warn(\n",
            "/home/treerspeaking/my_python_3.11.7/lib/python3.11/site-packages/PIL/Image.py:981: UserWarning: Palette images with Transparency expressed in bytes should be converted to RGBA images\n",
            "  warnings.warn(\n",
            "/home/treerspeaking/my_python_3.11.7/lib/python3.11/site-packages/PIL/Image.py:981: UserWarning: Palette images with Transparency expressed in bytes should be converted to RGBA images\n",
            "  warnings.warn(\n",
            "/home/treerspeaking/my_python_3.11.7/lib/python3.11/site-packages/PIL/Image.py:981: UserWarning: Palette images with Transparency expressed in bytes should be converted to RGBA images\n",
            "  warnings.warn(\n",
            "/home/treerspeaking/my_python_3.11.7/lib/python3.11/site-packages/PIL/Image.py:981: UserWarning: Palette images with Transparency expressed in bytes should be converted to RGBA images\n",
            "  warnings.warn(\n",
            "/home/treerspeaking/my_python_3.11.7/lib/python3.11/site-packages/PIL/Image.py:981: UserWarning: Palette images with Transparency expressed in bytes should be converted to RGBA images\n",
            "  warnings.warn(\n"
          ]
        },
        {
          "name": "stdout",
          "output_type": "stream",
          "text": [
            "Training Loss: 0.309547 ; Acc: 88.5794\n"
          ]
        },
        {
          "name": "stderr",
          "output_type": "stream",
          "text": [
            "Validation Epoch 38/80:   1%|          | 2/174 [00:00<00:40,  4.27it/s]/home/treerspeaking/my_python_3.11.7/lib/python3.11/site-packages/PIL/Image.py:981: UserWarning: Palette images with Transparency expressed in bytes should be converted to RGBA images\n",
            "  warnings.warn(\n",
            "Validation Epoch 38/80:  17%|█▋        | 30/174 [00:02<00:09, 15.53it/s]/home/treerspeaking/my_python_3.11.7/lib/python3.11/site-packages/PIL/Image.py:981: UserWarning: Palette images with Transparency expressed in bytes should be converted to RGBA images\n",
            "  warnings.warn(\n",
            "Validation Epoch 38/80:  21%|██        | 36/174 [00:02<00:07, 17.75it/s]/home/treerspeaking/my_python_3.11.7/lib/python3.11/site-packages/PIL/Image.py:981: UserWarning: Palette images with Transparency expressed in bytes should be converted to RGBA images\n",
            "  warnings.warn(\n",
            "Validation Epoch 38/80:  24%|██▍       | 42/174 [00:02<00:07, 18.73it/s]/home/treerspeaking/my_python_3.11.7/lib/python3.11/site-packages/PIL/Image.py:981: UserWarning: Palette images with Transparency expressed in bytes should be converted to RGBA images\n",
            "  warnings.warn(\n",
            "Validation Epoch 38/80:  32%|███▏      | 55/174 [00:03<00:06, 19.68it/s]/home/treerspeaking/my_python_3.11.7/lib/python3.11/site-packages/PIL/Image.py:981: UserWarning: Palette images with Transparency expressed in bytes should be converted to RGBA images\n",
            "  warnings.warn(\n",
            "Validation Epoch 38/80:  68%|██████▊   | 118/174 [00:06<00:02, 20.05it/s]/home/treerspeaking/my_python_3.11.7/lib/python3.11/site-packages/PIL/Image.py:981: UserWarning: Palette images with Transparency expressed in bytes should be converted to RGBA images\n",
            "  warnings.warn(\n",
            "Validation Epoch 38/80: 100%|██████████| 174/174 [00:09<00:00, 17.52it/s]\n"
          ]
        },
        {
          "name": "stdout",
          "output_type": "stream",
          "text": [
            "Validation Loss: 0.5157; Acc: 86.5371\n",
            "saved model at epoch 37: ./models/epoch_37.pth\n"
          ]
        },
        {
          "name": "stderr",
          "output_type": "stream",
          "text": [
            "/home/treerspeaking/my_python_3.11.7/lib/python3.11/site-packages/PIL/Image.py:981: UserWarning: Palette images with Transparency expressed in bytes should be converted to RGBA images\n",
            "  warnings.warn(\n",
            "/home/treerspeaking/my_python_3.11.7/lib/python3.11/site-packages/PIL/Image.py:981: UserWarning: Palette images with Transparency expressed in bytes should be converted to RGBA images\n",
            "  warnings.warn(\n",
            "/home/treerspeaking/my_python_3.11.7/lib/python3.11/site-packages/PIL/Image.py:981: UserWarning: Palette images with Transparency expressed in bytes should be converted to RGBA images\n",
            "  warnings.warn(\n",
            "/home/treerspeaking/my_python_3.11.7/lib/python3.11/site-packages/PIL/Image.py:981: UserWarning: Palette images with Transparency expressed in bytes should be converted to RGBA images\n",
            "  warnings.warn(\n",
            "/home/treerspeaking/my_python_3.11.7/lib/python3.11/site-packages/PIL/Image.py:981: UserWarning: Palette images with Transparency expressed in bytes should be converted to RGBA images\n",
            "  warnings.warn(\n",
            "/home/treerspeaking/my_python_3.11.7/lib/python3.11/site-packages/PIL/Image.py:981: UserWarning: Palette images with Transparency expressed in bytes should be converted to RGBA images\n",
            "  warnings.warn(\n"
          ]
        },
        {
          "name": "stdout",
          "output_type": "stream",
          "text": [
            "Training Loss: 0.295404 ; Acc: 89.0969\n"
          ]
        },
        {
          "name": "stderr",
          "output_type": "stream",
          "text": [
            "Validation Epoch 39/80:   1%|          | 2/174 [00:00<00:40,  4.21it/s]/home/treerspeaking/my_python_3.11.7/lib/python3.11/site-packages/PIL/Image.py:981: UserWarning: Palette images with Transparency expressed in bytes should be converted to RGBA images\n",
            "  warnings.warn(\n",
            "Validation Epoch 39/80:  18%|█▊        | 32/174 [00:02<00:08, 17.07it/s]/home/treerspeaking/my_python_3.11.7/lib/python3.11/site-packages/PIL/Image.py:981: UserWarning: Palette images with Transparency expressed in bytes should be converted to RGBA images\n",
            "  warnings.warn(\n",
            "Validation Epoch 39/80:  20%|█▉        | 34/174 [00:02<00:07, 17.72it/s]/home/treerspeaking/my_python_3.11.7/lib/python3.11/site-packages/PIL/Image.py:981: UserWarning: Palette images with Transparency expressed in bytes should be converted to RGBA images\n",
            "  warnings.warn(\n",
            "Validation Epoch 39/80:  25%|██▌       | 44/174 [00:02<00:06, 19.29it/s]/home/treerspeaking/my_python_3.11.7/lib/python3.11/site-packages/PIL/Image.py:981: UserWarning: Palette images with Transparency expressed in bytes should be converted to RGBA images\n",
            "  warnings.warn(\n",
            "Validation Epoch 39/80:  32%|███▏      | 56/174 [00:03<00:05, 19.69it/s]/home/treerspeaking/my_python_3.11.7/lib/python3.11/site-packages/PIL/Image.py:981: UserWarning: Palette images with Transparency expressed in bytes should be converted to RGBA images\n",
            "  warnings.warn(\n",
            "Validation Epoch 39/80:  67%|██████▋   | 117/174 [00:06<00:02, 19.91it/s]/home/treerspeaking/my_python_3.11.7/lib/python3.11/site-packages/PIL/Image.py:981: UserWarning: Palette images with Transparency expressed in bytes should be converted to RGBA images\n",
            "  warnings.warn(\n",
            "Validation Epoch 39/80: 100%|██████████| 174/174 [00:09<00:00, 17.66it/s]\n"
          ]
        },
        {
          "name": "stdout",
          "output_type": "stream",
          "text": [
            "Validation Loss: 0.5045; Acc: 87.2390\n",
            "saved model at epoch 38: ./models/epoch_38.pth\n"
          ]
        },
        {
          "name": "stderr",
          "output_type": "stream",
          "text": [
            "/home/treerspeaking/my_python_3.11.7/lib/python3.11/site-packages/PIL/Image.py:981: UserWarning: Palette images with Transparency expressed in bytes should be converted to RGBA images\n",
            "  warnings.warn(\n",
            "/home/treerspeaking/my_python_3.11.7/lib/python3.11/site-packages/PIL/Image.py:981: UserWarning: Palette images with Transparency expressed in bytes should be converted to RGBA images\n",
            "  warnings.warn(\n",
            "/home/treerspeaking/my_python_3.11.7/lib/python3.11/site-packages/PIL/Image.py:981: UserWarning: Palette images with Transparency expressed in bytes should be converted to RGBA images\n",
            "  warnings.warn(\n",
            "/home/treerspeaking/my_python_3.11.7/lib/python3.11/site-packages/PIL/Image.py:981: UserWarning: Palette images with Transparency expressed in bytes should be converted to RGBA images\n",
            "  warnings.warn(\n",
            "/home/treerspeaking/my_python_3.11.7/lib/python3.11/site-packages/PIL/Image.py:981: UserWarning: Palette images with Transparency expressed in bytes should be converted to RGBA images\n",
            "  warnings.warn(\n",
            "/home/treerspeaking/my_python_3.11.7/lib/python3.11/site-packages/PIL/Image.py:981: UserWarning: Palette images with Transparency expressed in bytes should be converted to RGBA images\n",
            "  warnings.warn(\n"
          ]
        },
        {
          "name": "stdout",
          "output_type": "stream",
          "text": [
            "Training Loss: 0.300927 ; Acc: 89.0069\n"
          ]
        },
        {
          "name": "stderr",
          "output_type": "stream",
          "text": [
            "Validation Epoch 40/80:   1%|          | 2/174 [00:00<00:42,  4.05it/s]/home/treerspeaking/my_python_3.11.7/lib/python3.11/site-packages/PIL/Image.py:981: UserWarning: Palette images with Transparency expressed in bytes should be converted to RGBA images\n",
            "  warnings.warn(\n",
            "Validation Epoch 40/80:  18%|█▊        | 32/174 [00:02<00:08, 17.11it/s]/home/treerspeaking/my_python_3.11.7/lib/python3.11/site-packages/PIL/Image.py:981: UserWarning: Palette images with Transparency expressed in bytes should be converted to RGBA images\n",
            "  warnings.warn(\n",
            "Validation Epoch 40/80:  20%|█▉        | 34/174 [00:02<00:07, 17.73it/s]/home/treerspeaking/my_python_3.11.7/lib/python3.11/site-packages/PIL/Image.py:981: UserWarning: Palette images with Transparency expressed in bytes should be converted to RGBA images\n",
            "  warnings.warn(\n",
            "Validation Epoch 40/80:  25%|██▍       | 43/174 [00:02<00:06, 19.25it/s]/home/treerspeaking/my_python_3.11.7/lib/python3.11/site-packages/PIL/Image.py:981: UserWarning: Palette images with Transparency expressed in bytes should be converted to RGBA images\n",
            "  warnings.warn(\n",
            "Validation Epoch 40/80:  32%|███▏      | 55/174 [00:03<00:06, 19.80it/s]/home/treerspeaking/my_python_3.11.7/lib/python3.11/site-packages/PIL/Image.py:981: UserWarning: Palette images with Transparency expressed in bytes should be converted to RGBA images\n",
            "  warnings.warn(\n",
            "Validation Epoch 40/80:  67%|██████▋   | 117/174 [00:06<00:02, 19.89it/s]/home/treerspeaking/my_python_3.11.7/lib/python3.11/site-packages/PIL/Image.py:981: UserWarning: Palette images with Transparency expressed in bytes should be converted to RGBA images\n",
            "  warnings.warn(\n",
            "Validation Epoch 40/80: 100%|██████████| 174/174 [00:09<00:00, 17.54it/s]"
          ]
        },
        {
          "name": "stdout",
          "output_type": "stream",
          "text": [
            "Validation Loss: 0.5370; Acc: 86.5551\n",
            "saved model at epoch 39: ./models/epoch_39.pth\n"
          ]
        },
        {
          "name": "stderr",
          "output_type": "stream",
          "text": [
            "\n",
            "/home/treerspeaking/my_python_3.11.7/lib/python3.11/site-packages/PIL/Image.py:981: UserWarning: Palette images with Transparency expressed in bytes should be converted to RGBA images\n",
            "  warnings.warn(\n",
            "/home/treerspeaking/my_python_3.11.7/lib/python3.11/site-packages/PIL/Image.py:981: UserWarning: Palette images with Transparency expressed in bytes should be converted to RGBA images\n",
            "  warnings.warn(\n",
            "/home/treerspeaking/my_python_3.11.7/lib/python3.11/site-packages/PIL/Image.py:981: UserWarning: Palette images with Transparency expressed in bytes should be converted to RGBA images\n",
            "  warnings.warn(\n",
            "/home/treerspeaking/my_python_3.11.7/lib/python3.11/site-packages/PIL/Image.py:981: UserWarning: Palette images with Transparency expressed in bytes should be converted to RGBA images\n",
            "  warnings.warn(\n",
            "/home/treerspeaking/my_python_3.11.7/lib/python3.11/site-packages/PIL/Image.py:981: UserWarning: Palette images with Transparency expressed in bytes should be converted to RGBA images\n",
            "  warnings.warn(\n",
            "/home/treerspeaking/my_python_3.11.7/lib/python3.11/site-packages/PIL/Image.py:981: UserWarning: Palette images with Transparency expressed in bytes should be converted to RGBA images\n",
            "  warnings.warn(\n"
          ]
        },
        {
          "name": "stdout",
          "output_type": "stream",
          "text": [
            "Training Loss: 0.286571 ; Acc: 89.3624\n"
          ]
        },
        {
          "name": "stderr",
          "output_type": "stream",
          "text": [
            "Validation Epoch 41/80:   1%|          | 2/174 [00:00<00:43,  3.99it/s]/home/treerspeaking/my_python_3.11.7/lib/python3.11/site-packages/PIL/Image.py:981: UserWarning: Palette images with Transparency expressed in bytes should be converted to RGBA images\n",
            "  warnings.warn(\n",
            "Validation Epoch 41/80:  17%|█▋        | 30/174 [00:02<00:08, 16.30it/s]/home/treerspeaking/my_python_3.11.7/lib/python3.11/site-packages/PIL/Image.py:981: UserWarning: Palette images with Transparency expressed in bytes should be converted to RGBA images\n",
            "  warnings.warn(\n",
            "Validation Epoch 41/80:  20%|██        | 35/174 [00:02<00:07, 17.85it/s]/home/treerspeaking/my_python_3.11.7/lib/python3.11/site-packages/PIL/Image.py:981: UserWarning: Palette images with Transparency expressed in bytes should be converted to RGBA images\n",
            "  warnings.warn(\n",
            "Validation Epoch 41/80:  25%|██▍       | 43/174 [00:02<00:06, 19.12it/s]/home/treerspeaking/my_python_3.11.7/lib/python3.11/site-packages/PIL/Image.py:981: UserWarning: Palette images with Transparency expressed in bytes should be converted to RGBA images\n",
            "  warnings.warn(\n",
            "Validation Epoch 41/80:  32%|███▏      | 56/174 [00:03<00:06, 19.65it/s]/home/treerspeaking/my_python_3.11.7/lib/python3.11/site-packages/PIL/Image.py:981: UserWarning: Palette images with Transparency expressed in bytes should be converted to RGBA images\n",
            "  warnings.warn(\n",
            "Validation Epoch 41/80:  68%|██████▊   | 118/174 [00:06<00:02, 19.79it/s]/home/treerspeaking/my_python_3.11.7/lib/python3.11/site-packages/PIL/Image.py:981: UserWarning: Palette images with Transparency expressed in bytes should be converted to RGBA images\n",
            "  warnings.warn(\n",
            "Validation Epoch 41/80: 100%|██████████| 174/174 [00:09<00:00, 17.67it/s]"
          ]
        },
        {
          "name": "stdout",
          "output_type": "stream",
          "text": [
            "Validation Loss: 0.5137; Acc: 87.0050\n",
            "saved model at epoch 40: ./models/epoch_40.pth\n"
          ]
        },
        {
          "name": "stderr",
          "output_type": "stream",
          "text": [
            "\n",
            "/home/treerspeaking/my_python_3.11.7/lib/python3.11/site-packages/PIL/Image.py:981: UserWarning: Palette images with Transparency expressed in bytes should be converted to RGBA images\n",
            "  warnings.warn(\n",
            "/home/treerspeaking/my_python_3.11.7/lib/python3.11/site-packages/PIL/Image.py:981: UserWarning: Palette images with Transparency expressed in bytes should be converted to RGBA images\n",
            "  warnings.warn(\n",
            "/home/treerspeaking/my_python_3.11.7/lib/python3.11/site-packages/PIL/Image.py:981: UserWarning: Palette images with Transparency expressed in bytes should be converted to RGBA images\n",
            "  warnings.warn(\n",
            "/home/treerspeaking/my_python_3.11.7/lib/python3.11/site-packages/PIL/Image.py:981: UserWarning: Palette images with Transparency expressed in bytes should be converted to RGBA images\n",
            "  warnings.warn(\n",
            "/home/treerspeaking/my_python_3.11.7/lib/python3.11/site-packages/PIL/Image.py:981: UserWarning: Palette images with Transparency expressed in bytes should be converted to RGBA images\n",
            "  warnings.warn(\n",
            "/home/treerspeaking/my_python_3.11.7/lib/python3.11/site-packages/PIL/Image.py:981: UserWarning: Palette images with Transparency expressed in bytes should be converted to RGBA images\n",
            "  warnings.warn(\n"
          ]
        },
        {
          "name": "stdout",
          "output_type": "stream",
          "text": [
            "Training Loss: 0.273411 ; Acc: 89.8484\n"
          ]
        },
        {
          "name": "stderr",
          "output_type": "stream",
          "text": [
            "Validation Epoch 42/80:   1%|          | 2/174 [00:00<00:41,  4.18it/s]/home/treerspeaking/my_python_3.11.7/lib/python3.11/site-packages/PIL/Image.py:981: UserWarning: Palette images with Transparency expressed in bytes should be converted to RGBA images\n",
            "  warnings.warn(\n",
            "Validation Epoch 42/80:  18%|█▊        | 32/174 [00:02<00:08, 16.58it/s]/home/treerspeaking/my_python_3.11.7/lib/python3.11/site-packages/PIL/Image.py:981: UserWarning: Palette images with Transparency expressed in bytes should be converted to RGBA images\n",
            "  warnings.warn(\n",
            "Validation Epoch 42/80:  20%|█▉        | 34/174 [00:02<00:08, 17.29it/s]/home/treerspeaking/my_python_3.11.7/lib/python3.11/site-packages/PIL/Image.py:981: UserWarning: Palette images with Transparency expressed in bytes should be converted to RGBA images\n",
            "  warnings.warn(\n",
            "Validation Epoch 42/80:  25%|██▍       | 43/174 [00:02<00:06, 19.13it/s]/home/treerspeaking/my_python_3.11.7/lib/python3.11/site-packages/PIL/Image.py:981: UserWarning: Palette images with Transparency expressed in bytes should be converted to RGBA images\n",
            "  warnings.warn(\n",
            "Validation Epoch 42/80:  32%|███▏      | 55/174 [00:03<00:05, 19.86it/s]/home/treerspeaking/my_python_3.11.7/lib/python3.11/site-packages/PIL/Image.py:981: UserWarning: Palette images with Transparency expressed in bytes should be converted to RGBA images\n",
            "  warnings.warn(\n",
            "Validation Epoch 42/80:  67%|██████▋   | 117/174 [00:06<00:02, 19.85it/s]/home/treerspeaking/my_python_3.11.7/lib/python3.11/site-packages/PIL/Image.py:981: UserWarning: Palette images with Transparency expressed in bytes should be converted to RGBA images\n",
            "  warnings.warn(\n",
            "Validation Epoch 42/80: 100%|██████████| 174/174 [00:09<00:00, 17.51it/s]"
          ]
        },
        {
          "name": "stdout",
          "output_type": "stream",
          "text": [
            "Validation Loss: 0.4903; Acc: 87.6530\n",
            "saved model at epoch 41: ./models/epoch_41.pth\n"
          ]
        },
        {
          "name": "stderr",
          "output_type": "stream",
          "text": [
            "\n",
            "/home/treerspeaking/my_python_3.11.7/lib/python3.11/site-packages/PIL/Image.py:981: UserWarning: Palette images with Transparency expressed in bytes should be converted to RGBA images\n",
            "  warnings.warn(\n",
            "/home/treerspeaking/my_python_3.11.7/lib/python3.11/site-packages/PIL/Image.py:981: UserWarning: Palette images with Transparency expressed in bytes should be converted to RGBA images\n",
            "  warnings.warn(\n",
            "/home/treerspeaking/my_python_3.11.7/lib/python3.11/site-packages/PIL/Image.py:981: UserWarning: Palette images with Transparency expressed in bytes should be converted to RGBA images\n",
            "  warnings.warn(\n",
            "/home/treerspeaking/my_python_3.11.7/lib/python3.11/site-packages/PIL/Image.py:981: UserWarning: Palette images with Transparency expressed in bytes should be converted to RGBA images\n",
            "  warnings.warn(\n",
            "/home/treerspeaking/my_python_3.11.7/lib/python3.11/site-packages/PIL/Image.py:981: UserWarning: Palette images with Transparency expressed in bytes should be converted to RGBA images\n",
            "  warnings.warn(\n",
            "/home/treerspeaking/my_python_3.11.7/lib/python3.11/site-packages/PIL/Image.py:981: UserWarning: Palette images with Transparency expressed in bytes should be converted to RGBA images\n",
            "  warnings.warn(\n"
          ]
        },
        {
          "name": "stdout",
          "output_type": "stream",
          "text": [
            "Training Loss: 0.258755 ; Acc: 90.1768\n"
          ]
        },
        {
          "name": "stderr",
          "output_type": "stream",
          "text": [
            "Validation Epoch 43/80:   1%|          | 2/174 [00:00<00:42,  4.08it/s]/home/treerspeaking/my_python_3.11.7/lib/python3.11/site-packages/PIL/Image.py:981: UserWarning: Palette images with Transparency expressed in bytes should be converted to RGBA images\n",
            "  warnings.warn(\n",
            "Validation Epoch 43/80:  19%|█▉        | 33/174 [00:02<00:08, 17.14it/s]/home/treerspeaking/my_python_3.11.7/lib/python3.11/site-packages/PIL/Image.py:981: UserWarning: Palette images with Transparency expressed in bytes should be converted to RGBA images\n",
            "  warnings.warn(\n",
            "Validation Epoch 43/80:  20%|██        | 35/174 [00:02<00:07, 17.73it/s]/home/treerspeaking/my_python_3.11.7/lib/python3.11/site-packages/PIL/Image.py:981: UserWarning: Palette images with Transparency expressed in bytes should be converted to RGBA images\n",
            "  warnings.warn(\n",
            "Validation Epoch 43/80:  24%|██▍       | 42/174 [00:02<00:06, 19.14it/s]/home/treerspeaking/my_python_3.11.7/lib/python3.11/site-packages/PIL/Image.py:981: UserWarning: Palette images with Transparency expressed in bytes should be converted to RGBA images\n",
            "  warnings.warn(\n",
            "Validation Epoch 43/80:  32%|███▏      | 56/174 [00:03<00:06, 19.61it/s]/home/treerspeaking/my_python_3.11.7/lib/python3.11/site-packages/PIL/Image.py:981: UserWarning: Palette images with Transparency expressed in bytes should be converted to RGBA images\n",
            "  warnings.warn(\n",
            "Validation Epoch 43/80:  67%|██████▋   | 117/174 [00:06<00:02, 19.96it/s]/home/treerspeaking/my_python_3.11.7/lib/python3.11/site-packages/PIL/Image.py:981: UserWarning: Palette images with Transparency expressed in bytes should be converted to RGBA images\n",
            "  warnings.warn(\n",
            "Validation Epoch 43/80: 100%|██████████| 174/174 [00:09<00:00, 17.57it/s]"
          ]
        },
        {
          "name": "stdout",
          "output_type": "stream",
          "text": [
            "Validation Loss: 0.4911; Acc: 87.8870\n",
            "saved model at epoch 42: ./models/epoch_42.pth\n"
          ]
        },
        {
          "name": "stderr",
          "output_type": "stream",
          "text": [
            "\n",
            "/home/treerspeaking/my_python_3.11.7/lib/python3.11/site-packages/PIL/Image.py:981: UserWarning: Palette images with Transparency expressed in bytes should be converted to RGBA images\n",
            "  warnings.warn(\n",
            "/home/treerspeaking/my_python_3.11.7/lib/python3.11/site-packages/PIL/Image.py:981: UserWarning: Palette images with Transparency expressed in bytes should be converted to RGBA images\n",
            "  warnings.warn(\n",
            "/home/treerspeaking/my_python_3.11.7/lib/python3.11/site-packages/PIL/Image.py:981: UserWarning: Palette images with Transparency expressed in bytes should be converted to RGBA images\n",
            "  warnings.warn(\n",
            "/home/treerspeaking/my_python_3.11.7/lib/python3.11/site-packages/PIL/Image.py:981: UserWarning: Palette images with Transparency expressed in bytes should be converted to RGBA images\n",
            "  warnings.warn(\n",
            "/home/treerspeaking/my_python_3.11.7/lib/python3.11/site-packages/PIL/Image.py:981: UserWarning: Palette images with Transparency expressed in bytes should be converted to RGBA images\n",
            "  warnings.warn(\n",
            "/home/treerspeaking/my_python_3.11.7/lib/python3.11/site-packages/PIL/Image.py:981: UserWarning: Palette images with Transparency expressed in bytes should be converted to RGBA images\n",
            "  warnings.warn(\n"
          ]
        },
        {
          "name": "stdout",
          "output_type": "stream",
          "text": [
            "Training Loss: 0.254247 ; Acc: 90.5728\n"
          ]
        },
        {
          "name": "stderr",
          "output_type": "stream",
          "text": [
            "Validation Epoch 44/80:   2%|▏         | 3/174 [00:00<00:27,  6.11it/s]/home/treerspeaking/my_python_3.11.7/lib/python3.11/site-packages/PIL/Image.py:981: UserWarning: Palette images with Transparency expressed in bytes should be converted to RGBA images\n",
            "  warnings.warn(\n",
            "Validation Epoch 44/80:  18%|█▊        | 32/174 [00:02<00:08, 16.80it/s]/home/treerspeaking/my_python_3.11.7/lib/python3.11/site-packages/PIL/Image.py:981: UserWarning: Palette images with Transparency expressed in bytes should be converted to RGBA images\n",
            "  warnings.warn(\n",
            "Validation Epoch 44/80:  20%|█▉        | 34/174 [00:02<00:08, 17.37it/s]/home/treerspeaking/my_python_3.11.7/lib/python3.11/site-packages/PIL/Image.py:981: UserWarning: Palette images with Transparency expressed in bytes should be converted to RGBA images\n",
            "  warnings.warn(\n",
            "Validation Epoch 44/80:  24%|██▍       | 42/174 [00:02<00:06, 18.91it/s]/home/treerspeaking/my_python_3.11.7/lib/python3.11/site-packages/PIL/Image.py:981: UserWarning: Palette images with Transparency expressed in bytes should be converted to RGBA images\n",
            "  warnings.warn(\n",
            "Validation Epoch 44/80:  32%|███▏      | 55/174 [00:03<00:06, 19.71it/s]/home/treerspeaking/my_python_3.11.7/lib/python3.11/site-packages/PIL/Image.py:981: UserWarning: Palette images with Transparency expressed in bytes should be converted to RGBA images\n",
            "  warnings.warn(\n",
            "Validation Epoch 44/80:  67%|██████▋   | 117/174 [00:06<00:02, 19.94it/s]/home/treerspeaking/my_python_3.11.7/lib/python3.11/site-packages/PIL/Image.py:981: UserWarning: Palette images with Transparency expressed in bytes should be converted to RGBA images\n",
            "  warnings.warn(\n",
            "Validation Epoch 44/80: 100%|██████████| 174/174 [00:09<00:00, 17.55it/s]"
          ]
        },
        {
          "name": "stdout",
          "output_type": "stream",
          "text": [
            "Validation Loss: 0.4944; Acc: 87.6350\n",
            "saved model at epoch 43: ./models/epoch_43.pth\n"
          ]
        },
        {
          "name": "stderr",
          "output_type": "stream",
          "text": [
            "\n",
            "/home/treerspeaking/my_python_3.11.7/lib/python3.11/site-packages/PIL/Image.py:981: UserWarning: Palette images with Transparency expressed in bytes should be converted to RGBA images\n",
            "  warnings.warn(\n",
            "/home/treerspeaking/my_python_3.11.7/lib/python3.11/site-packages/PIL/Image.py:981: UserWarning: Palette images with Transparency expressed in bytes should be converted to RGBA images\n",
            "  warnings.warn(\n",
            "/home/treerspeaking/my_python_3.11.7/lib/python3.11/site-packages/PIL/Image.py:981: UserWarning: Palette images with Transparency expressed in bytes should be converted to RGBA images\n",
            "  warnings.warn(\n",
            "/home/treerspeaking/my_python_3.11.7/lib/python3.11/site-packages/PIL/Image.py:981: UserWarning: Palette images with Transparency expressed in bytes should be converted to RGBA images\n",
            "  warnings.warn(\n",
            "/home/treerspeaking/my_python_3.11.7/lib/python3.11/site-packages/PIL/Image.py:981: UserWarning: Palette images with Transparency expressed in bytes should be converted to RGBA images\n",
            "  warnings.warn(\n",
            "/home/treerspeaking/my_python_3.11.7/lib/python3.11/site-packages/PIL/Image.py:981: UserWarning: Palette images with Transparency expressed in bytes should be converted to RGBA images\n",
            "  warnings.warn(\n"
          ]
        },
        {
          "name": "stdout",
          "output_type": "stream",
          "text": [
            "Training Loss: 0.255258 ; Acc: 90.6763\n"
          ]
        },
        {
          "name": "stderr",
          "output_type": "stream",
          "text": [
            "Validation Epoch 45/80:   2%|▏         | 3/174 [00:00<00:28,  6.09it/s]/home/treerspeaking/my_python_3.11.7/lib/python3.11/site-packages/PIL/Image.py:981: UserWarning: Palette images with Transparency expressed in bytes should be converted to RGBA images\n",
            "  warnings.warn(\n",
            "Validation Epoch 45/80:  18%|█▊        | 31/174 [00:02<00:08, 16.04it/s]/home/treerspeaking/my_python_3.11.7/lib/python3.11/site-packages/PIL/Image.py:981: UserWarning: Palette images with Transparency expressed in bytes should be converted to RGBA images\n",
            "  warnings.warn(\n",
            "Validation Epoch 45/80:  21%|██        | 36/174 [00:02<00:07, 17.81it/s]/home/treerspeaking/my_python_3.11.7/lib/python3.11/site-packages/PIL/Image.py:981: UserWarning: Palette images with Transparency expressed in bytes should be converted to RGBA images\n",
            "  warnings.warn(\n",
            "Validation Epoch 45/80:  25%|██▍       | 43/174 [00:02<00:06, 19.07it/s]/home/treerspeaking/my_python_3.11.7/lib/python3.11/site-packages/PIL/Image.py:981: UserWarning: Palette images with Transparency expressed in bytes should be converted to RGBA images\n",
            "  warnings.warn(\n",
            "Validation Epoch 45/80:  32%|███▏      | 56/174 [00:03<00:05, 19.80it/s]/home/treerspeaking/my_python_3.11.7/lib/python3.11/site-packages/PIL/Image.py:981: UserWarning: Palette images with Transparency expressed in bytes should be converted to RGBA images\n",
            "  warnings.warn(\n",
            "Validation Epoch 45/80:  67%|██████▋   | 117/174 [00:06<00:02, 19.77it/s]/home/treerspeaking/my_python_3.11.7/lib/python3.11/site-packages/PIL/Image.py:981: UserWarning: Palette images with Transparency expressed in bytes should be converted to RGBA images\n",
            "  warnings.warn(\n",
            "Validation Epoch 45/80: 100%|██████████| 174/174 [00:09<00:00, 17.58it/s]"
          ]
        },
        {
          "name": "stdout",
          "output_type": "stream",
          "text": [
            "Validation Loss: 0.4915; Acc: 87.9410\n",
            "saved model at epoch 44: ./models/epoch_44.pth\n"
          ]
        },
        {
          "name": "stderr",
          "output_type": "stream",
          "text": [
            "\n",
            "/home/treerspeaking/my_python_3.11.7/lib/python3.11/site-packages/PIL/Image.py:981: UserWarning: Palette images with Transparency expressed in bytes should be converted to RGBA images\n",
            "  warnings.warn(\n",
            "/home/treerspeaking/my_python_3.11.7/lib/python3.11/site-packages/PIL/Image.py:981: UserWarning: Palette images with Transparency expressed in bytes should be converted to RGBA images\n",
            "  warnings.warn(\n",
            "/home/treerspeaking/my_python_3.11.7/lib/python3.11/site-packages/PIL/Image.py:981: UserWarning: Palette images with Transparency expressed in bytes should be converted to RGBA images\n",
            "  warnings.warn(\n",
            "/home/treerspeaking/my_python_3.11.7/lib/python3.11/site-packages/PIL/Image.py:981: UserWarning: Palette images with Transparency expressed in bytes should be converted to RGBA images\n",
            "  warnings.warn(\n",
            "/home/treerspeaking/my_python_3.11.7/lib/python3.11/site-packages/PIL/Image.py:981: UserWarning: Palette images with Transparency expressed in bytes should be converted to RGBA images\n",
            "  warnings.warn(\n",
            "/home/treerspeaking/my_python_3.11.7/lib/python3.11/site-packages/PIL/Image.py:981: UserWarning: Palette images with Transparency expressed in bytes should be converted to RGBA images\n",
            "  warnings.warn(\n"
          ]
        },
        {
          "name": "stdout",
          "output_type": "stream",
          "text": [
            "Training Loss: 0.245251 ; Acc: 90.8833\n"
          ]
        },
        {
          "name": "stderr",
          "output_type": "stream",
          "text": [
            "Validation Epoch 46/80:   1%|          | 2/174 [00:00<00:40,  4.28it/s]/home/treerspeaking/my_python_3.11.7/lib/python3.11/site-packages/PIL/Image.py:981: UserWarning: Palette images with Transparency expressed in bytes should be converted to RGBA images\n",
            "  warnings.warn(\n",
            "Validation Epoch 46/80:  17%|█▋        | 30/174 [00:02<00:09, 15.92it/s]/home/treerspeaking/my_python_3.11.7/lib/python3.11/site-packages/PIL/Image.py:981: UserWarning: Palette images with Transparency expressed in bytes should be converted to RGBA images\n",
            "  warnings.warn(\n",
            "Validation Epoch 46/80:  20%|██        | 35/174 [00:02<00:07, 17.69it/s]/home/treerspeaking/my_python_3.11.7/lib/python3.11/site-packages/PIL/Image.py:981: UserWarning: Palette images with Transparency expressed in bytes should be converted to RGBA images\n",
            "  warnings.warn(\n",
            "Validation Epoch 46/80:  24%|██▍       | 42/174 [00:02<00:06, 19.04it/s]/home/treerspeaking/my_python_3.11.7/lib/python3.11/site-packages/PIL/Image.py:981: UserWarning: Palette images with Transparency expressed in bytes should be converted to RGBA images\n",
            "  warnings.warn(\n",
            "Validation Epoch 46/80:  32%|███▏      | 56/174 [00:03<00:05, 19.77it/s]/home/treerspeaking/my_python_3.11.7/lib/python3.11/site-packages/PIL/Image.py:981: UserWarning: Palette images with Transparency expressed in bytes should be converted to RGBA images\n",
            "  warnings.warn(\n",
            "Validation Epoch 46/80:  67%|██████▋   | 117/174 [00:06<00:02, 19.80it/s]/home/treerspeaking/my_python_3.11.7/lib/python3.11/site-packages/PIL/Image.py:981: UserWarning: Palette images with Transparency expressed in bytes should be converted to RGBA images\n",
            "  warnings.warn(\n",
            "Validation Epoch 46/80: 100%|██████████| 174/174 [00:09<00:00, 17.54it/s]"
          ]
        },
        {
          "name": "stdout",
          "output_type": "stream",
          "text": [
            "Validation Loss: 0.4965; Acc: 87.9050\n",
            "saved model at epoch 45: ./models/epoch_45.pth\n"
          ]
        },
        {
          "name": "stderr",
          "output_type": "stream",
          "text": [
            "\n",
            "/home/treerspeaking/my_python_3.11.7/lib/python3.11/site-packages/PIL/Image.py:981: UserWarning: Palette images with Transparency expressed in bytes should be converted to RGBA images\n",
            "  warnings.warn(\n",
            "/home/treerspeaking/my_python_3.11.7/lib/python3.11/site-packages/PIL/Image.py:981: UserWarning: Palette images with Transparency expressed in bytes should be converted to RGBA images\n",
            "  warnings.warn(\n",
            "/home/treerspeaking/my_python_3.11.7/lib/python3.11/site-packages/PIL/Image.py:981: UserWarning: Palette images with Transparency expressed in bytes should be converted to RGBA images\n",
            "  warnings.warn(\n",
            "/home/treerspeaking/my_python_3.11.7/lib/python3.11/site-packages/PIL/Image.py:981: UserWarning: Palette images with Transparency expressed in bytes should be converted to RGBA images\n",
            "  warnings.warn(\n",
            "/home/treerspeaking/my_python_3.11.7/lib/python3.11/site-packages/PIL/Image.py:981: UserWarning: Palette images with Transparency expressed in bytes should be converted to RGBA images\n",
            "  warnings.warn(\n",
            "/home/treerspeaking/my_python_3.11.7/lib/python3.11/site-packages/PIL/Image.py:981: UserWarning: Palette images with Transparency expressed in bytes should be converted to RGBA images\n",
            "  warnings.warn(\n"
          ]
        },
        {
          "name": "stdout",
          "output_type": "stream",
          "text": [
            "Training Loss: 0.248454 ; Acc: 90.9238\n"
          ]
        },
        {
          "name": "stderr",
          "output_type": "stream",
          "text": [
            "Validation Epoch 47/80:   1%|          | 2/174 [00:00<00:40,  4.30it/s]/home/treerspeaking/my_python_3.11.7/lib/python3.11/site-packages/PIL/Image.py:981: UserWarning: Palette images with Transparency expressed in bytes should be converted to RGBA images\n",
            "  warnings.warn(\n",
            "Validation Epoch 47/80:  18%|█▊        | 32/174 [00:02<00:08, 16.63it/s]/home/treerspeaking/my_python_3.11.7/lib/python3.11/site-packages/PIL/Image.py:981: UserWarning: Palette images with Transparency expressed in bytes should be converted to RGBA images\n",
            "  warnings.warn(\n",
            "Validation Epoch 47/80:  20%|█▉        | 34/174 [00:02<00:08, 17.31it/s]/home/treerspeaking/my_python_3.11.7/lib/python3.11/site-packages/PIL/Image.py:981: UserWarning: Palette images with Transparency expressed in bytes should be converted to RGBA images\n",
            "  warnings.warn(\n",
            "Validation Epoch 47/80:  25%|██▍       | 43/174 [00:02<00:06, 19.05it/s]/home/treerspeaking/my_python_3.11.7/lib/python3.11/site-packages/PIL/Image.py:981: UserWarning: Palette images with Transparency expressed in bytes should be converted to RGBA images\n",
            "  warnings.warn(\n",
            "Validation Epoch 47/80:  32%|███▏      | 55/174 [00:03<00:06, 19.73it/s]/home/treerspeaking/my_python_3.11.7/lib/python3.11/site-packages/PIL/Image.py:981: UserWarning: Palette images with Transparency expressed in bytes should be converted to RGBA images\n",
            "  warnings.warn(\n",
            "Validation Epoch 47/80:  67%|██████▋   | 117/174 [00:06<00:02, 19.81it/s]/home/treerspeaking/my_python_3.11.7/lib/python3.11/site-packages/PIL/Image.py:981: UserWarning: Palette images with Transparency expressed in bytes should be converted to RGBA images\n",
            "  warnings.warn(\n",
            "Validation Epoch 47/80: 100%|██████████| 174/174 [00:09<00:00, 17.52it/s]"
          ]
        },
        {
          "name": "stdout",
          "output_type": "stream",
          "text": [
            "Validation Loss: 0.4920; Acc: 87.9410\n",
            "saved model at epoch 46: ./models/epoch_46.pth\n"
          ]
        },
        {
          "name": "stderr",
          "output_type": "stream",
          "text": [
            "\n",
            "/home/treerspeaking/my_python_3.11.7/lib/python3.11/site-packages/PIL/Image.py:981: UserWarning: Palette images with Transparency expressed in bytes should be converted to RGBA images\n",
            "  warnings.warn(\n",
            "/home/treerspeaking/my_python_3.11.7/lib/python3.11/site-packages/PIL/Image.py:981: UserWarning: Palette images with Transparency expressed in bytes should be converted to RGBA images\n",
            "  warnings.warn(\n",
            "/home/treerspeaking/my_python_3.11.7/lib/python3.11/site-packages/PIL/Image.py:981: UserWarning: Palette images with Transparency expressed in bytes should be converted to RGBA images\n",
            "  warnings.warn(\n",
            "/home/treerspeaking/my_python_3.11.7/lib/python3.11/site-packages/PIL/Image.py:981: UserWarning: Palette images with Transparency expressed in bytes should be converted to RGBA images\n",
            "  warnings.warn(\n",
            "/home/treerspeaking/my_python_3.11.7/lib/python3.11/site-packages/PIL/Image.py:981: UserWarning: Palette images with Transparency expressed in bytes should be converted to RGBA images\n",
            "  warnings.warn(\n",
            "/home/treerspeaking/my_python_3.11.7/lib/python3.11/site-packages/PIL/Image.py:981: UserWarning: Palette images with Transparency expressed in bytes should be converted to RGBA images\n",
            "  warnings.warn(\n"
          ]
        },
        {
          "name": "stdout",
          "output_type": "stream",
          "text": [
            "Training Loss: 0.236598 ; Acc: 91.2343\n"
          ]
        },
        {
          "name": "stderr",
          "output_type": "stream",
          "text": [
            "Validation Epoch 48/80:   2%|▏         | 3/174 [00:00<00:28,  6.09it/s]/home/treerspeaking/my_python_3.11.7/lib/python3.11/site-packages/PIL/Image.py:981: UserWarning: Palette images with Transparency expressed in bytes should be converted to RGBA images\n",
            "  warnings.warn(\n",
            "Validation Epoch 48/80:  18%|█▊        | 32/174 [00:02<00:08, 16.60it/s]/home/treerspeaking/my_python_3.11.7/lib/python3.11/site-packages/PIL/Image.py:981: UserWarning: Palette images with Transparency expressed in bytes should be converted to RGBA images\n",
            "  warnings.warn(\n",
            "Validation Epoch 48/80:  21%|██        | 36/174 [00:02<00:07, 17.97it/s]/home/treerspeaking/my_python_3.11.7/lib/python3.11/site-packages/PIL/Image.py:981: UserWarning: Palette images with Transparency expressed in bytes should be converted to RGBA images\n",
            "  warnings.warn(\n",
            "Validation Epoch 48/80:  25%|██▍       | 43/174 [00:02<00:06, 19.24it/s]/home/treerspeaking/my_python_3.11.7/lib/python3.11/site-packages/PIL/Image.py:981: UserWarning: Palette images with Transparency expressed in bytes should be converted to RGBA images\n",
            "  warnings.warn(\n",
            "Validation Epoch 48/80:  32%|███▏      | 55/174 [00:03<00:06, 19.76it/s]/home/treerspeaking/my_python_3.11.7/lib/python3.11/site-packages/PIL/Image.py:981: UserWarning: Palette images with Transparency expressed in bytes should be converted to RGBA images\n",
            "  warnings.warn(\n",
            "Validation Epoch 48/80:  67%|██████▋   | 117/174 [00:06<00:02, 19.76it/s]/home/treerspeaking/my_python_3.11.7/lib/python3.11/site-packages/PIL/Image.py:981: UserWarning: Palette images with Transparency expressed in bytes should be converted to RGBA images\n",
            "  warnings.warn(\n",
            "Validation Epoch 48/80: 100%|██████████| 174/174 [00:09<00:00, 17.58it/s]\n"
          ]
        },
        {
          "name": "stdout",
          "output_type": "stream",
          "text": [
            "Validation Loss: 0.5017; Acc: 87.9410\n",
            "saved model at epoch 47: ./models/epoch_47.pth\n"
          ]
        },
        {
          "name": "stderr",
          "output_type": "stream",
          "text": [
            "/home/treerspeaking/my_python_3.11.7/lib/python3.11/site-packages/PIL/Image.py:981: UserWarning: Palette images with Transparency expressed in bytes should be converted to RGBA images\n",
            "  warnings.warn(\n",
            "/home/treerspeaking/my_python_3.11.7/lib/python3.11/site-packages/PIL/Image.py:981: UserWarning: Palette images with Transparency expressed in bytes should be converted to RGBA images\n",
            "  warnings.warn(\n",
            "/home/treerspeaking/my_python_3.11.7/lib/python3.11/site-packages/PIL/Image.py:981: UserWarning: Palette images with Transparency expressed in bytes should be converted to RGBA images\n",
            "  warnings.warn(\n",
            "/home/treerspeaking/my_python_3.11.7/lib/python3.11/site-packages/PIL/Image.py:981: UserWarning: Palette images with Transparency expressed in bytes should be converted to RGBA images\n",
            "  warnings.warn(\n",
            "/home/treerspeaking/my_python_3.11.7/lib/python3.11/site-packages/PIL/Image.py:981: UserWarning: Palette images with Transparency expressed in bytes should be converted to RGBA images\n",
            "  warnings.warn(\n",
            "/home/treerspeaking/my_python_3.11.7/lib/python3.11/site-packages/PIL/Image.py:981: UserWarning: Palette images with Transparency expressed in bytes should be converted to RGBA images\n",
            "  warnings.warn(\n"
          ]
        },
        {
          "name": "stdout",
          "output_type": "stream",
          "text": [
            "Training Loss: 0.242162 ; Acc: 90.8473\n"
          ]
        },
        {
          "name": "stderr",
          "output_type": "stream",
          "text": [
            "Validation Epoch 49/80:   1%|          | 2/174 [00:00<00:39,  4.33it/s]/home/treerspeaking/my_python_3.11.7/lib/python3.11/site-packages/PIL/Image.py:981: UserWarning: Palette images with Transparency expressed in bytes should be converted to RGBA images\n",
            "  warnings.warn(\n",
            "Validation Epoch 49/80:  18%|█▊        | 31/174 [00:02<00:08, 16.66it/s]/home/treerspeaking/my_python_3.11.7/lib/python3.11/site-packages/PIL/Image.py:981: UserWarning: Palette images with Transparency expressed in bytes should be converted to RGBA images\n",
            "  warnings.warn(\n",
            "Validation Epoch 49/80:  20%|██        | 35/174 [00:02<00:07, 17.99it/s]/home/treerspeaking/my_python_3.11.7/lib/python3.11/site-packages/PIL/Image.py:981: UserWarning: Palette images with Transparency expressed in bytes should be converted to RGBA images\n",
            "  warnings.warn(\n",
            "Validation Epoch 49/80:  25%|██▍       | 43/174 [00:02<00:06, 19.16it/s]/home/treerspeaking/my_python_3.11.7/lib/python3.11/site-packages/PIL/Image.py:981: UserWarning: Palette images with Transparency expressed in bytes should be converted to RGBA images\n",
            "  warnings.warn(\n",
            "Validation Epoch 49/80:  32%|███▏      | 55/174 [00:03<00:05, 19.87it/s]/home/treerspeaking/my_python_3.11.7/lib/python3.11/site-packages/PIL/Image.py:981: UserWarning: Palette images with Transparency expressed in bytes should be converted to RGBA images\n",
            "  warnings.warn(\n",
            "Validation Epoch 49/80:  67%|██████▋   | 117/174 [00:06<00:02, 20.00it/s]/home/treerspeaking/my_python_3.11.7/lib/python3.11/site-packages/PIL/Image.py:981: UserWarning: Palette images with Transparency expressed in bytes should be converted to RGBA images\n",
            "  warnings.warn(\n",
            "Validation Epoch 49/80: 100%|██████████| 174/174 [00:09<00:00, 17.59it/s]"
          ]
        },
        {
          "name": "stdout",
          "output_type": "stream",
          "text": [
            "Validation Loss: 0.5068; Acc: 87.8690\n",
            "saved model at epoch 48: ./models/epoch_48.pth\n"
          ]
        },
        {
          "name": "stderr",
          "output_type": "stream",
          "text": [
            "\n",
            "/home/treerspeaking/my_python_3.11.7/lib/python3.11/site-packages/PIL/Image.py:981: UserWarning: Palette images with Transparency expressed in bytes should be converted to RGBA images\n",
            "  warnings.warn(\n",
            "/home/treerspeaking/my_python_3.11.7/lib/python3.11/site-packages/PIL/Image.py:981: UserWarning: Palette images with Transparency expressed in bytes should be converted to RGBA images\n",
            "  warnings.warn(\n",
            "/home/treerspeaking/my_python_3.11.7/lib/python3.11/site-packages/PIL/Image.py:981: UserWarning: Palette images with Transparency expressed in bytes should be converted to RGBA images\n",
            "  warnings.warn(\n",
            "/home/treerspeaking/my_python_3.11.7/lib/python3.11/site-packages/PIL/Image.py:981: UserWarning: Palette images with Transparency expressed in bytes should be converted to RGBA images\n",
            "  warnings.warn(\n",
            "/home/treerspeaking/my_python_3.11.7/lib/python3.11/site-packages/PIL/Image.py:981: UserWarning: Palette images with Transparency expressed in bytes should be converted to RGBA images\n",
            "  warnings.warn(\n",
            "/home/treerspeaking/my_python_3.11.7/lib/python3.11/site-packages/PIL/Image.py:981: UserWarning: Palette images with Transparency expressed in bytes should be converted to RGBA images\n",
            "  warnings.warn(\n"
          ]
        },
        {
          "name": "stdout",
          "output_type": "stream",
          "text": [
            "Training Loss: 0.231365 ; Acc: 91.3513\n"
          ]
        },
        {
          "name": "stderr",
          "output_type": "stream",
          "text": [
            "Validation Epoch 50/80:   1%|          | 2/174 [00:00<00:41,  4.16it/s]/home/treerspeaking/my_python_3.11.7/lib/python3.11/site-packages/PIL/Image.py:981: UserWarning: Palette images with Transparency expressed in bytes should be converted to RGBA images\n",
            "  warnings.warn(\n",
            "Validation Epoch 50/80:  18%|█▊        | 31/174 [00:02<00:08, 16.79it/s]/home/treerspeaking/my_python_3.11.7/lib/python3.11/site-packages/PIL/Image.py:981: UserWarning: Palette images with Transparency expressed in bytes should be converted to RGBA images\n",
            "  warnings.warn(\n",
            "Validation Epoch 50/80:  21%|██        | 36/174 [00:02<00:07, 18.30it/s]/home/treerspeaking/my_python_3.11.7/lib/python3.11/site-packages/PIL/Image.py:981: UserWarning: Palette images with Transparency expressed in bytes should be converted to RGBA images\n",
            "  warnings.warn(\n",
            "Validation Epoch 50/80:  25%|██▍       | 43/174 [00:02<00:06, 19.11it/s]/home/treerspeaking/my_python_3.11.7/lib/python3.11/site-packages/PIL/Image.py:981: UserWarning: Palette images with Transparency expressed in bytes should be converted to RGBA images\n",
            "  warnings.warn(\n",
            "Validation Epoch 50/80:  32%|███▏      | 55/174 [00:03<00:06, 19.75it/s]/home/treerspeaking/my_python_3.11.7/lib/python3.11/site-packages/PIL/Image.py:981: UserWarning: Palette images with Transparency expressed in bytes should be converted to RGBA images\n",
            "  warnings.warn(\n",
            "Validation Epoch 50/80:  67%|██████▋   | 117/174 [00:06<00:02, 19.82it/s]/home/treerspeaking/my_python_3.11.7/lib/python3.11/site-packages/PIL/Image.py:981: UserWarning: Palette images with Transparency expressed in bytes should be converted to RGBA images\n",
            "  warnings.warn(\n",
            "Validation Epoch 50/80: 100%|██████████| 174/174 [00:09<00:00, 17.63it/s]"
          ]
        },
        {
          "name": "stdout",
          "output_type": "stream",
          "text": [
            "Validation Loss: 0.5082; Acc: 87.8690\n",
            "saved model at epoch 49: ./models/epoch_49.pth\n"
          ]
        },
        {
          "name": "stderr",
          "output_type": "stream",
          "text": [
            "\n",
            "/home/treerspeaking/my_python_3.11.7/lib/python3.11/site-packages/PIL/Image.py:981: UserWarning: Palette images with Transparency expressed in bytes should be converted to RGBA images\n",
            "  warnings.warn(\n",
            "/home/treerspeaking/my_python_3.11.7/lib/python3.11/site-packages/PIL/Image.py:981: UserWarning: Palette images with Transparency expressed in bytes should be converted to RGBA images\n",
            "  warnings.warn(\n",
            "/home/treerspeaking/my_python_3.11.7/lib/python3.11/site-packages/PIL/Image.py:981: UserWarning: Palette images with Transparency expressed in bytes should be converted to RGBA images\n",
            "  warnings.warn(\n",
            "/home/treerspeaking/my_python_3.11.7/lib/python3.11/site-packages/PIL/Image.py:981: UserWarning: Palette images with Transparency expressed in bytes should be converted to RGBA images\n",
            "  warnings.warn(\n",
            "/home/treerspeaking/my_python_3.11.7/lib/python3.11/site-packages/PIL/Image.py:981: UserWarning: Palette images with Transparency expressed in bytes should be converted to RGBA images\n",
            "  warnings.warn(\n",
            "/home/treerspeaking/my_python_3.11.7/lib/python3.11/site-packages/PIL/Image.py:981: UserWarning: Palette images with Transparency expressed in bytes should be converted to RGBA images\n",
            "  warnings.warn(\n"
          ]
        },
        {
          "name": "stdout",
          "output_type": "stream",
          "text": [
            "Training Loss: 0.234688 ; Acc: 91.3513\n"
          ]
        },
        {
          "name": "stderr",
          "output_type": "stream",
          "text": [
            "Validation Epoch 51/80:   1%|          | 2/174 [00:00<00:39,  4.30it/s]/home/treerspeaking/my_python_3.11.7/lib/python3.11/site-packages/PIL/Image.py:981: UserWarning: Palette images with Transparency expressed in bytes should be converted to RGBA images\n",
            "  warnings.warn(\n",
            "Validation Epoch 51/80:  18%|█▊        | 32/174 [00:02<00:08, 16.80it/s]/home/treerspeaking/my_python_3.11.7/lib/python3.11/site-packages/PIL/Image.py:981: UserWarning: Palette images with Transparency expressed in bytes should be converted to RGBA images\n",
            "  warnings.warn(\n",
            "Validation Epoch 51/80:  21%|██        | 36/174 [00:02<00:07, 18.05it/s]/home/treerspeaking/my_python_3.11.7/lib/python3.11/site-packages/PIL/Image.py:981: UserWarning: Palette images with Transparency expressed in bytes should be converted to RGBA images\n",
            "  warnings.warn(\n",
            "Validation Epoch 51/80:  24%|██▍       | 42/174 [00:02<00:06, 19.03it/s]/home/treerspeaking/my_python_3.11.7/lib/python3.11/site-packages/PIL/Image.py:981: UserWarning: Palette images with Transparency expressed in bytes should be converted to RGBA images\n",
            "  warnings.warn(\n",
            "Validation Epoch 51/80:  32%|███▏      | 56/174 [00:03<00:06, 19.60it/s]/home/treerspeaking/my_python_3.11.7/lib/python3.11/site-packages/PIL/Image.py:981: UserWarning: Palette images with Transparency expressed in bytes should be converted to RGBA images\n",
            "  warnings.warn(\n",
            "Validation Epoch 51/80:  67%|██████▋   | 117/174 [00:06<00:02, 19.76it/s]/home/treerspeaking/my_python_3.11.7/lib/python3.11/site-packages/PIL/Image.py:981: UserWarning: Palette images with Transparency expressed in bytes should be converted to RGBA images\n",
            "  warnings.warn(\n",
            "Validation Epoch 51/80: 100%|██████████| 174/174 [00:09<00:00, 17.58it/s]"
          ]
        },
        {
          "name": "stdout",
          "output_type": "stream",
          "text": [
            "Validation Loss: 0.5061; Acc: 87.8150\n",
            "saved model at epoch 50: ./models/epoch_50.pth\n"
          ]
        },
        {
          "name": "stderr",
          "output_type": "stream",
          "text": [
            "\n",
            "/home/treerspeaking/my_python_3.11.7/lib/python3.11/site-packages/PIL/Image.py:981: UserWarning: Palette images with Transparency expressed in bytes should be converted to RGBA images\n",
            "  warnings.warn(\n",
            "/home/treerspeaking/my_python_3.11.7/lib/python3.11/site-packages/PIL/Image.py:981: UserWarning: Palette images with Transparency expressed in bytes should be converted to RGBA images\n",
            "  warnings.warn(\n",
            "/home/treerspeaking/my_python_3.11.7/lib/python3.11/site-packages/PIL/Image.py:981: UserWarning: Palette images with Transparency expressed in bytes should be converted to RGBA images\n",
            "  warnings.warn(\n",
            "/home/treerspeaking/my_python_3.11.7/lib/python3.11/site-packages/PIL/Image.py:981: UserWarning: Palette images with Transparency expressed in bytes should be converted to RGBA images\n",
            "  warnings.warn(\n",
            "/home/treerspeaking/my_python_3.11.7/lib/python3.11/site-packages/PIL/Image.py:981: UserWarning: Palette images with Transparency expressed in bytes should be converted to RGBA images\n",
            "  warnings.warn(\n",
            "/home/treerspeaking/my_python_3.11.7/lib/python3.11/site-packages/PIL/Image.py:981: UserWarning: Palette images with Transparency expressed in bytes should be converted to RGBA images\n",
            "  warnings.warn(\n"
          ]
        },
        {
          "name": "stdout",
          "output_type": "stream",
          "text": [
            "Training Loss: 0.233163 ; Acc: 91.3828\n"
          ]
        },
        {
          "name": "stderr",
          "output_type": "stream",
          "text": [
            "Validation Epoch 52/80:   2%|▏         | 3/174 [00:00<00:28,  6.04it/s]/home/treerspeaking/my_python_3.11.7/lib/python3.11/site-packages/PIL/Image.py:981: UserWarning: Palette images with Transparency expressed in bytes should be converted to RGBA images\n",
            "  warnings.warn(\n",
            "Validation Epoch 52/80:  17%|█▋        | 30/174 [00:02<00:09, 15.72it/s]/home/treerspeaking/my_python_3.11.7/lib/python3.11/site-packages/PIL/Image.py:981: UserWarning: Palette images with Transparency expressed in bytes should be converted to RGBA images\n",
            "  warnings.warn(\n",
            "Validation Epoch 52/80:  21%|██        | 36/174 [00:02<00:07, 17.84it/s]/home/treerspeaking/my_python_3.11.7/lib/python3.11/site-packages/PIL/Image.py:981: UserWarning: Palette images with Transparency expressed in bytes should be converted to RGBA images\n",
            "  warnings.warn(\n",
            "Validation Epoch 52/80:  25%|██▍       | 43/174 [00:02<00:06, 18.94it/s]/home/treerspeaking/my_python_3.11.7/lib/python3.11/site-packages/PIL/Image.py:981: UserWarning: Palette images with Transparency expressed in bytes should be converted to RGBA images\n",
            "  warnings.warn(\n",
            "Validation Epoch 52/80:  32%|███▏      | 55/174 [00:03<00:06, 19.71it/s]/home/treerspeaking/my_python_3.11.7/lib/python3.11/site-packages/PIL/Image.py:981: UserWarning: Palette images with Transparency expressed in bytes should be converted to RGBA images\n",
            "  warnings.warn(\n",
            "Validation Epoch 52/80:  68%|██████▊   | 118/174 [00:06<00:02, 19.88it/s]/home/treerspeaking/my_python_3.11.7/lib/python3.11/site-packages/PIL/Image.py:981: UserWarning: Palette images with Transparency expressed in bytes should be converted to RGBA images\n",
            "  warnings.warn(\n",
            "Validation Epoch 52/80: 100%|██████████| 174/174 [00:09<00:00, 17.57it/s]"
          ]
        },
        {
          "name": "stdout",
          "output_type": "stream",
          "text": [
            "Validation Loss: 0.5102; Acc: 87.7970\n",
            "saved model at epoch 51: ./models/epoch_51.pth\n"
          ]
        },
        {
          "name": "stderr",
          "output_type": "stream",
          "text": [
            "\n",
            "/home/treerspeaking/my_python_3.11.7/lib/python3.11/site-packages/PIL/Image.py:981: UserWarning: Palette images with Transparency expressed in bytes should be converted to RGBA images\n",
            "  warnings.warn(\n",
            "/home/treerspeaking/my_python_3.11.7/lib/python3.11/site-packages/PIL/Image.py:981: UserWarning: Palette images with Transparency expressed in bytes should be converted to RGBA images\n",
            "  warnings.warn(\n",
            "/home/treerspeaking/my_python_3.11.7/lib/python3.11/site-packages/PIL/Image.py:981: UserWarning: Palette images with Transparency expressed in bytes should be converted to RGBA images\n",
            "  warnings.warn(\n",
            "/home/treerspeaking/my_python_3.11.7/lib/python3.11/site-packages/PIL/Image.py:981: UserWarning: Palette images with Transparency expressed in bytes should be converted to RGBA images\n",
            "  warnings.warn(\n",
            "/home/treerspeaking/my_python_3.11.7/lib/python3.11/site-packages/PIL/Image.py:981: UserWarning: Palette images with Transparency expressed in bytes should be converted to RGBA images\n",
            "  warnings.warn(\n",
            "/home/treerspeaking/my_python_3.11.7/lib/python3.11/site-packages/PIL/Image.py:981: UserWarning: Palette images with Transparency expressed in bytes should be converted to RGBA images\n",
            "  warnings.warn(\n"
          ]
        },
        {
          "name": "stdout",
          "output_type": "stream",
          "text": [
            "Training Loss: 0.238943 ; Acc: 91.1353\n"
          ]
        },
        {
          "name": "stderr",
          "output_type": "stream",
          "text": [
            "Validation Epoch 53/80:   1%|          | 2/174 [00:00<00:40,  4.26it/s]/home/treerspeaking/my_python_3.11.7/lib/python3.11/site-packages/PIL/Image.py:981: UserWarning: Palette images with Transparency expressed in bytes should be converted to RGBA images\n",
            "  warnings.warn(\n",
            "Validation Epoch 53/80:  18%|█▊        | 32/174 [00:02<00:08, 16.66it/s]/home/treerspeaking/my_python_3.11.7/lib/python3.11/site-packages/PIL/Image.py:981: UserWarning: Palette images with Transparency expressed in bytes should be converted to RGBA images\n",
            "  warnings.warn(\n",
            "Validation Epoch 53/80:  21%|██        | 36/174 [00:02<00:07, 17.90it/s]/home/treerspeaking/my_python_3.11.7/lib/python3.11/site-packages/PIL/Image.py:981: UserWarning: Palette images with Transparency expressed in bytes should be converted to RGBA images\n",
            "  warnings.warn(\n",
            "Validation Epoch 53/80:  24%|██▍       | 42/174 [00:02<00:06, 18.94it/s]/home/treerspeaking/my_python_3.11.7/lib/python3.11/site-packages/PIL/Image.py:981: UserWarning: Palette images with Transparency expressed in bytes should be converted to RGBA images\n",
            "  warnings.warn(\n",
            "Validation Epoch 53/80:  32%|███▏      | 56/174 [00:03<00:05, 19.79it/s]/home/treerspeaking/my_python_3.11.7/lib/python3.11/site-packages/PIL/Image.py:981: UserWarning: Palette images with Transparency expressed in bytes should be converted to RGBA images\n",
            "  warnings.warn(\n",
            "Validation Epoch 53/80:  67%|██████▋   | 117/174 [00:06<00:02, 19.80it/s]/home/treerspeaking/my_python_3.11.7/lib/python3.11/site-packages/PIL/Image.py:981: UserWarning: Palette images with Transparency expressed in bytes should be converted to RGBA images\n",
            "  warnings.warn(\n",
            "Validation Epoch 53/80: 100%|██████████| 174/174 [00:09<00:00, 17.53it/s]\n"
          ]
        },
        {
          "name": "stdout",
          "output_type": "stream",
          "text": [
            "Validation Loss: 0.5048; Acc: 87.9590\n",
            "saved model at epoch 52: ./models/epoch_52.pth\n"
          ]
        },
        {
          "name": "stderr",
          "output_type": "stream",
          "text": [
            "/home/treerspeaking/my_python_3.11.7/lib/python3.11/site-packages/PIL/Image.py:981: UserWarning: Palette images with Transparency expressed in bytes should be converted to RGBA images\n",
            "  warnings.warn(\n",
            "/home/treerspeaking/my_python_3.11.7/lib/python3.11/site-packages/PIL/Image.py:981: UserWarning: Palette images with Transparency expressed in bytes should be converted to RGBA images\n",
            "  warnings.warn(\n",
            "/home/treerspeaking/my_python_3.11.7/lib/python3.11/site-packages/PIL/Image.py:981: UserWarning: Palette images with Transparency expressed in bytes should be converted to RGBA images\n",
            "  warnings.warn(\n",
            "/home/treerspeaking/my_python_3.11.7/lib/python3.11/site-packages/PIL/Image.py:981: UserWarning: Palette images with Transparency expressed in bytes should be converted to RGBA images\n",
            "  warnings.warn(\n",
            "/home/treerspeaking/my_python_3.11.7/lib/python3.11/site-packages/PIL/Image.py:981: UserWarning: Palette images with Transparency expressed in bytes should be converted to RGBA images\n",
            "  warnings.warn(\n",
            "/home/treerspeaking/my_python_3.11.7/lib/python3.11/site-packages/PIL/Image.py:981: UserWarning: Palette images with Transparency expressed in bytes should be converted to RGBA images\n",
            "  warnings.warn(\n"
          ]
        },
        {
          "name": "stdout",
          "output_type": "stream",
          "text": [
            "Training Loss: 0.228827 ; Acc: 91.5673\n"
          ]
        },
        {
          "name": "stderr",
          "output_type": "stream",
          "text": [
            "Validation Epoch 54/80:   1%|          | 1/174 [00:00<01:16,  2.27it/s]/home/treerspeaking/my_python_3.11.7/lib/python3.11/site-packages/PIL/Image.py:981: UserWarning: Palette images with Transparency expressed in bytes should be converted to RGBA images\n",
            "  warnings.warn(\n",
            "Validation Epoch 54/80:  18%|█▊        | 32/174 [00:02<00:08, 16.67it/s]/home/treerspeaking/my_python_3.11.7/lib/python3.11/site-packages/PIL/Image.py:981: UserWarning: Palette images with Transparency expressed in bytes should be converted to RGBA images\n",
            "  warnings.warn(\n",
            "Validation Epoch 54/80:  20%|█▉        | 34/174 [00:02<00:08, 17.33it/s]/home/treerspeaking/my_python_3.11.7/lib/python3.11/site-packages/PIL/Image.py:981: UserWarning: Palette images with Transparency expressed in bytes should be converted to RGBA images\n",
            "  warnings.warn(\n",
            "Validation Epoch 54/80:  25%|██▍       | 43/174 [00:02<00:06, 19.11it/s]/home/treerspeaking/my_python_3.11.7/lib/python3.11/site-packages/PIL/Image.py:981: UserWarning: Palette images with Transparency expressed in bytes should be converted to RGBA images\n",
            "  warnings.warn(\n",
            "Validation Epoch 54/80:  32%|███▏      | 55/174 [00:03<00:05, 19.87it/s]/home/treerspeaking/my_python_3.11.7/lib/python3.11/site-packages/PIL/Image.py:981: UserWarning: Palette images with Transparency expressed in bytes should be converted to RGBA images\n",
            "  warnings.warn(\n",
            "Validation Epoch 54/80:  67%|██████▋   | 117/174 [00:06<00:02, 19.83it/s]/home/treerspeaking/my_python_3.11.7/lib/python3.11/site-packages/PIL/Image.py:981: UserWarning: Palette images with Transparency expressed in bytes should be converted to RGBA images\n",
            "  warnings.warn(\n",
            "Validation Epoch 54/80: 100%|██████████| 174/174 [00:09<00:00, 17.56it/s]"
          ]
        },
        {
          "name": "stdout",
          "output_type": "stream",
          "text": [
            "Validation Loss: 0.5064; Acc: 87.9410\n",
            "saved model at epoch 53: ./models/epoch_53.pth\n"
          ]
        },
        {
          "name": "stderr",
          "output_type": "stream",
          "text": [
            "\n",
            "/home/treerspeaking/my_python_3.11.7/lib/python3.11/site-packages/PIL/Image.py:981: UserWarning: Palette images with Transparency expressed in bytes should be converted to RGBA images\n",
            "  warnings.warn(\n",
            "/home/treerspeaking/my_python_3.11.7/lib/python3.11/site-packages/PIL/Image.py:981: UserWarning: Palette images with Transparency expressed in bytes should be converted to RGBA images\n",
            "  warnings.warn(\n",
            "/home/treerspeaking/my_python_3.11.7/lib/python3.11/site-packages/PIL/Image.py:981: UserWarning: Palette images with Transparency expressed in bytes should be converted to RGBA images\n",
            "  warnings.warn(\n",
            "/home/treerspeaking/my_python_3.11.7/lib/python3.11/site-packages/PIL/Image.py:981: UserWarning: Palette images with Transparency expressed in bytes should be converted to RGBA images\n",
            "  warnings.warn(\n",
            "/home/treerspeaking/my_python_3.11.7/lib/python3.11/site-packages/PIL/Image.py:981: UserWarning: Palette images with Transparency expressed in bytes should be converted to RGBA images\n",
            "  warnings.warn(\n",
            "/home/treerspeaking/my_python_3.11.7/lib/python3.11/site-packages/PIL/Image.py:981: UserWarning: Palette images with Transparency expressed in bytes should be converted to RGBA images\n",
            "  warnings.warn(\n"
          ]
        },
        {
          "name": "stdout",
          "output_type": "stream",
          "text": [
            "Training Loss: 0.230019 ; Acc: 91.5988\n"
          ]
        },
        {
          "name": "stderr",
          "output_type": "stream",
          "text": [
            "Validation Epoch 55/80:   1%|          | 2/174 [00:00<00:40,  4.30it/s]/home/treerspeaking/my_python_3.11.7/lib/python3.11/site-packages/PIL/Image.py:981: UserWarning: Palette images with Transparency expressed in bytes should be converted to RGBA images\n",
            "  warnings.warn(\n",
            "Validation Epoch 55/80:  17%|█▋        | 30/174 [00:02<00:08, 16.09it/s]/home/treerspeaking/my_python_3.11.7/lib/python3.11/site-packages/PIL/Image.py:981: UserWarning: Palette images with Transparency expressed in bytes should be converted to RGBA images\n",
            "  warnings.warn(\n",
            "Validation Epoch 55/80:  21%|██        | 36/174 [00:02<00:07, 18.00it/s]/home/treerspeaking/my_python_3.11.7/lib/python3.11/site-packages/PIL/Image.py:981: UserWarning: Palette images with Transparency expressed in bytes should be converted to RGBA images\n",
            "  warnings.warn(\n",
            "Validation Epoch 55/80:  25%|██▍       | 43/174 [00:02<00:06, 19.07it/s]/home/treerspeaking/my_python_3.11.7/lib/python3.11/site-packages/PIL/Image.py:981: UserWarning: Palette images with Transparency expressed in bytes should be converted to RGBA images\n",
            "  warnings.warn(\n",
            "Validation Epoch 55/80:  32%|███▏      | 55/174 [00:03<00:06, 19.69it/s]/home/treerspeaking/my_python_3.11.7/lib/python3.11/site-packages/PIL/Image.py:981: UserWarning: Palette images with Transparency expressed in bytes should be converted to RGBA images\n",
            "  warnings.warn(\n",
            "Validation Epoch 55/80:  67%|██████▋   | 117/174 [00:06<00:02, 19.88it/s]/home/treerspeaking/my_python_3.11.7/lib/python3.11/site-packages/PIL/Image.py:981: UserWarning: Palette images with Transparency expressed in bytes should be converted to RGBA images\n",
            "  warnings.warn(\n",
            "Validation Epoch 55/80: 100%|██████████| 174/174 [00:09<00:00, 17.43it/s]\n"
          ]
        },
        {
          "name": "stdout",
          "output_type": "stream",
          "text": [
            "Validation Loss: 0.5077; Acc: 87.8330\n",
            "saved model at epoch 54: ./models/epoch_54.pth\n"
          ]
        },
        {
          "name": "stderr",
          "output_type": "stream",
          "text": [
            "/home/treerspeaking/my_python_3.11.7/lib/python3.11/site-packages/PIL/Image.py:981: UserWarning: Palette images with Transparency expressed in bytes should be converted to RGBA images\n",
            "  warnings.warn(\n",
            "/home/treerspeaking/my_python_3.11.7/lib/python3.11/site-packages/PIL/Image.py:981: UserWarning: Palette images with Transparency expressed in bytes should be converted to RGBA images\n",
            "  warnings.warn(\n",
            "/home/treerspeaking/my_python_3.11.7/lib/python3.11/site-packages/PIL/Image.py:981: UserWarning: Palette images with Transparency expressed in bytes should be converted to RGBA images\n",
            "  warnings.warn(\n",
            "/home/treerspeaking/my_python_3.11.7/lib/python3.11/site-packages/PIL/Image.py:981: UserWarning: Palette images with Transparency expressed in bytes should be converted to RGBA images\n",
            "  warnings.warn(\n",
            "/home/treerspeaking/my_python_3.11.7/lib/python3.11/site-packages/PIL/Image.py:981: UserWarning: Palette images with Transparency expressed in bytes should be converted to RGBA images\n",
            "  warnings.warn(\n",
            "/home/treerspeaking/my_python_3.11.7/lib/python3.11/site-packages/PIL/Image.py:981: UserWarning: Palette images with Transparency expressed in bytes should be converted to RGBA images\n",
            "  warnings.warn(\n"
          ]
        },
        {
          "name": "stdout",
          "output_type": "stream",
          "text": [
            "Training Loss: 0.232654 ; Acc: 91.6168\n"
          ]
        },
        {
          "name": "stderr",
          "output_type": "stream",
          "text": [
            "Validation Epoch 56/80:   2%|▏         | 3/174 [00:00<00:28,  5.91it/s]/home/treerspeaking/my_python_3.11.7/lib/python3.11/site-packages/PIL/Image.py:981: UserWarning: Palette images with Transparency expressed in bytes should be converted to RGBA images\n",
            "  warnings.warn(\n",
            "Validation Epoch 56/80:  17%|█▋        | 30/174 [00:02<00:09, 15.93it/s]/home/treerspeaking/my_python_3.11.7/lib/python3.11/site-packages/PIL/Image.py:981: UserWarning: Palette images with Transparency expressed in bytes should be converted to RGBA images\n",
            "  warnings.warn(\n",
            "Validation Epoch 56/80:  21%|██        | 36/174 [00:02<00:07, 17.94it/s]/home/treerspeaking/my_python_3.11.7/lib/python3.11/site-packages/PIL/Image.py:981: UserWarning: Palette images with Transparency expressed in bytes should be converted to RGBA images\n",
            "  warnings.warn(\n",
            "Validation Epoch 56/80:  25%|██▌       | 44/174 [00:02<00:06, 19.14it/s]/home/treerspeaking/my_python_3.11.7/lib/python3.11/site-packages/PIL/Image.py:981: UserWarning: Palette images with Transparency expressed in bytes should be converted to RGBA images\n",
            "  warnings.warn(\n",
            "Validation Epoch 56/80:  32%|███▏      | 55/174 [00:03<00:06, 19.76it/s]/home/treerspeaking/my_python_3.11.7/lib/python3.11/site-packages/PIL/Image.py:981: UserWarning: Palette images with Transparency expressed in bytes should be converted to RGBA images\n",
            "  warnings.warn(\n",
            "Validation Epoch 56/80:  67%|██████▋   | 116/174 [00:06<00:02, 19.86it/s]/home/treerspeaking/my_python_3.11.7/lib/python3.11/site-packages/PIL/Image.py:981: UserWarning: Palette images with Transparency expressed in bytes should be converted to RGBA images\n",
            "  warnings.warn(\n",
            "Validation Epoch 56/80: 100%|██████████| 174/174 [00:09<00:00, 17.50it/s]"
          ]
        },
        {
          "name": "stdout",
          "output_type": "stream",
          "text": [
            "Validation Loss: 0.5067; Acc: 87.8690\n",
            "saved model at epoch 55: ./models/epoch_55.pth\n"
          ]
        },
        {
          "name": "stderr",
          "output_type": "stream",
          "text": [
            "\n",
            "/home/treerspeaking/my_python_3.11.7/lib/python3.11/site-packages/PIL/Image.py:981: UserWarning: Palette images with Transparency expressed in bytes should be converted to RGBA images\n",
            "  warnings.warn(\n",
            "/home/treerspeaking/my_python_3.11.7/lib/python3.11/site-packages/PIL/Image.py:981: UserWarning: Palette images with Transparency expressed in bytes should be converted to RGBA images\n",
            "  warnings.warn(\n",
            "/home/treerspeaking/my_python_3.11.7/lib/python3.11/site-packages/PIL/Image.py:981: UserWarning: Palette images with Transparency expressed in bytes should be converted to RGBA images\n",
            "  warnings.warn(\n",
            "/home/treerspeaking/my_python_3.11.7/lib/python3.11/site-packages/PIL/Image.py:981: UserWarning: Palette images with Transparency expressed in bytes should be converted to RGBA images\n",
            "  warnings.warn(\n",
            "/home/treerspeaking/my_python_3.11.7/lib/python3.11/site-packages/PIL/Image.py:981: UserWarning: Palette images with Transparency expressed in bytes should be converted to RGBA images\n",
            "  warnings.warn(\n",
            "/home/treerspeaking/my_python_3.11.7/lib/python3.11/site-packages/PIL/Image.py:981: UserWarning: Palette images with Transparency expressed in bytes should be converted to RGBA images\n",
            "  warnings.warn(\n"
          ]
        },
        {
          "name": "stdout",
          "output_type": "stream",
          "text": [
            "Training Loss: 0.238411 ; Acc: 91.1263\n"
          ]
        },
        {
          "name": "stderr",
          "output_type": "stream",
          "text": [
            "Validation Epoch 57/80:   1%|          | 2/174 [00:00<00:40,  4.30it/s]/home/treerspeaking/my_python_3.11.7/lib/python3.11/site-packages/PIL/Image.py:981: UserWarning: Palette images with Transparency expressed in bytes should be converted to RGBA images\n",
            "  warnings.warn(\n",
            "Validation Epoch 57/80:  18%|█▊        | 32/174 [00:02<00:08, 16.54it/s]/home/treerspeaking/my_python_3.11.7/lib/python3.11/site-packages/PIL/Image.py:981: UserWarning: Palette images with Transparency expressed in bytes should be converted to RGBA images\n",
            "  warnings.warn(\n",
            "Validation Epoch 57/80:  20%|█▉        | 34/174 [00:02<00:08, 17.04it/s]/home/treerspeaking/my_python_3.11.7/lib/python3.11/site-packages/PIL/Image.py:981: UserWarning: Palette images with Transparency expressed in bytes should be converted to RGBA images\n",
            "  warnings.warn(\n",
            "Validation Epoch 57/80:  25%|██▍       | 43/174 [00:02<00:06, 18.77it/s]/home/treerspeaking/my_python_3.11.7/lib/python3.11/site-packages/PIL/Image.py:981: UserWarning: Palette images with Transparency expressed in bytes should be converted to RGBA images\n",
            "  warnings.warn(\n",
            "Validation Epoch 57/80:  33%|███▎      | 57/174 [00:03<00:05, 19.70it/s]/home/treerspeaking/my_python_3.11.7/lib/python3.11/site-packages/PIL/Image.py:981: UserWarning: Palette images with Transparency expressed in bytes should be converted to RGBA images\n",
            "  warnings.warn(\n",
            "Validation Epoch 57/80:  68%|██████▊   | 118/174 [00:06<00:02, 19.84it/s]/home/treerspeaking/my_python_3.11.7/lib/python3.11/site-packages/PIL/Image.py:981: UserWarning: Palette images with Transparency expressed in bytes should be converted to RGBA images\n",
            "  warnings.warn(\n",
            "Validation Epoch 57/80: 100%|██████████| 174/174 [00:09<00:00, 17.46it/s]"
          ]
        },
        {
          "name": "stdout",
          "output_type": "stream",
          "text": [
            "Validation Loss: 0.5103; Acc: 87.9410\n",
            "saved model at epoch 56: ./models/epoch_56.pth\n"
          ]
        },
        {
          "name": "stderr",
          "output_type": "stream",
          "text": [
            "\n",
            "/home/treerspeaking/my_python_3.11.7/lib/python3.11/site-packages/PIL/Image.py:981: UserWarning: Palette images with Transparency expressed in bytes should be converted to RGBA images\n",
            "  warnings.warn(\n",
            "/home/treerspeaking/my_python_3.11.7/lib/python3.11/site-packages/PIL/Image.py:981: UserWarning: Palette images with Transparency expressed in bytes should be converted to RGBA images\n",
            "  warnings.warn(\n",
            "/home/treerspeaking/my_python_3.11.7/lib/python3.11/site-packages/PIL/Image.py:981: UserWarning: Palette images with Transparency expressed in bytes should be converted to RGBA images\n",
            "  warnings.warn(\n",
            "/home/treerspeaking/my_python_3.11.7/lib/python3.11/site-packages/PIL/Image.py:981: UserWarning: Palette images with Transparency expressed in bytes should be converted to RGBA images\n",
            "  warnings.warn(\n",
            "/home/treerspeaking/my_python_3.11.7/lib/python3.11/site-packages/PIL/Image.py:981: UserWarning: Palette images with Transparency expressed in bytes should be converted to RGBA images\n",
            "  warnings.warn(\n",
            "/home/treerspeaking/my_python_3.11.7/lib/python3.11/site-packages/PIL/Image.py:981: UserWarning: Palette images with Transparency expressed in bytes should be converted to RGBA images\n",
            "  warnings.warn(\n"
          ]
        },
        {
          "name": "stdout",
          "output_type": "stream",
          "text": [
            "Training Loss: 0.231870 ; Acc: 91.3828\n"
          ]
        },
        {
          "name": "stderr",
          "output_type": "stream",
          "text": [
            "Validation Epoch 58/80:   1%|          | 2/174 [00:00<00:43,  3.99it/s]/home/treerspeaking/my_python_3.11.7/lib/python3.11/site-packages/PIL/Image.py:981: UserWarning: Palette images with Transparency expressed in bytes should be converted to RGBA images\n",
            "  warnings.warn(\n",
            "Validation Epoch 58/80:  18%|█▊        | 32/174 [00:02<00:08, 16.59it/s]/home/treerspeaking/my_python_3.11.7/lib/python3.11/site-packages/PIL/Image.py:981: UserWarning: Palette images with Transparency expressed in bytes should be converted to RGBA images\n",
            "  warnings.warn(\n",
            "Validation Epoch 58/80:  20%|█▉        | 34/174 [00:02<00:08, 17.28it/s]/home/treerspeaking/my_python_3.11.7/lib/python3.11/site-packages/PIL/Image.py:981: UserWarning: Palette images with Transparency expressed in bytes should be converted to RGBA images\n",
            "  warnings.warn(\n",
            "Validation Epoch 58/80:  25%|██▍       | 43/174 [00:02<00:06, 19.07it/s]/home/treerspeaking/my_python_3.11.7/lib/python3.11/site-packages/PIL/Image.py:981: UserWarning: Palette images with Transparency expressed in bytes should be converted to RGBA images\n",
            "  warnings.warn(\n",
            "Validation Epoch 58/80:  32%|███▏      | 55/174 [00:03<00:06, 19.81it/s]/home/treerspeaking/my_python_3.11.7/lib/python3.11/site-packages/PIL/Image.py:981: UserWarning: Palette images with Transparency expressed in bytes should be converted to RGBA images\n",
            "  warnings.warn(\n",
            "Validation Epoch 58/80:  67%|██████▋   | 116/174 [00:06<00:02, 19.83it/s]/home/treerspeaking/my_python_3.11.7/lib/python3.11/site-packages/PIL/Image.py:981: UserWarning: Palette images with Transparency expressed in bytes should be converted to RGBA images\n",
            "  warnings.warn(\n",
            "Validation Epoch 58/80: 100%|██████████| 174/174 [00:10<00:00, 17.40it/s]"
          ]
        },
        {
          "name": "stdout",
          "output_type": "stream",
          "text": [
            "Validation Loss: 0.5093; Acc: 87.9410\n",
            "saved model at epoch 57: ./models/epoch_57.pth\n"
          ]
        },
        {
          "name": "stderr",
          "output_type": "stream",
          "text": [
            "\n",
            "/home/treerspeaking/my_python_3.11.7/lib/python3.11/site-packages/PIL/Image.py:981: UserWarning: Palette images with Transparency expressed in bytes should be converted to RGBA images\n",
            "  warnings.warn(\n",
            "/home/treerspeaking/my_python_3.11.7/lib/python3.11/site-packages/PIL/Image.py:981: UserWarning: Palette images with Transparency expressed in bytes should be converted to RGBA images\n",
            "  warnings.warn(\n",
            "/home/treerspeaking/my_python_3.11.7/lib/python3.11/site-packages/PIL/Image.py:981: UserWarning: Palette images with Transparency expressed in bytes should be converted to RGBA images\n",
            "  warnings.warn(\n",
            "/home/treerspeaking/my_python_3.11.7/lib/python3.11/site-packages/PIL/Image.py:981: UserWarning: Palette images with Transparency expressed in bytes should be converted to RGBA images\n",
            "  warnings.warn(\n",
            "/home/treerspeaking/my_python_3.11.7/lib/python3.11/site-packages/PIL/Image.py:981: UserWarning: Palette images with Transparency expressed in bytes should be converted to RGBA images\n",
            "  warnings.warn(\n",
            "/home/treerspeaking/my_python_3.11.7/lib/python3.11/site-packages/PIL/Image.py:981: UserWarning: Palette images with Transparency expressed in bytes should be converted to RGBA images\n",
            "  warnings.warn(\n"
          ]
        },
        {
          "name": "stdout",
          "output_type": "stream",
          "text": [
            "Training Loss: 0.236907 ; Acc: 91.4278\n"
          ]
        },
        {
          "name": "stderr",
          "output_type": "stream",
          "text": [
            "Validation Epoch 59/80:   1%|          | 2/174 [00:00<00:39,  4.35it/s]/home/treerspeaking/my_python_3.11.7/lib/python3.11/site-packages/PIL/Image.py:981: UserWarning: Palette images with Transparency expressed in bytes should be converted to RGBA images\n",
            "  warnings.warn(\n",
            "Validation Epoch 59/80:  18%|█▊        | 32/174 [00:02<00:08, 16.76it/s]/home/treerspeaking/my_python_3.11.7/lib/python3.11/site-packages/PIL/Image.py:981: UserWarning: Palette images with Transparency expressed in bytes should be converted to RGBA images\n",
            "  warnings.warn(\n",
            "Validation Epoch 59/80:  20%|█▉        | 34/174 [00:02<00:08, 17.41it/s]/home/treerspeaking/my_python_3.11.7/lib/python3.11/site-packages/PIL/Image.py:981: UserWarning: Palette images with Transparency expressed in bytes should be converted to RGBA images\n",
            "  warnings.warn(\n",
            "Validation Epoch 59/80:  24%|██▍       | 42/174 [00:02<00:06, 19.08it/s]/home/treerspeaking/my_python_3.11.7/lib/python3.11/site-packages/PIL/Image.py:981: UserWarning: Palette images with Transparency expressed in bytes should be converted to RGBA images\n",
            "  warnings.warn(\n",
            "Validation Epoch 59/80:  32%|███▏      | 55/174 [00:03<00:06, 19.76it/s]/home/treerspeaking/my_python_3.11.7/lib/python3.11/site-packages/PIL/Image.py:981: UserWarning: Palette images with Transparency expressed in bytes should be converted to RGBA images\n",
            "  warnings.warn(\n",
            "Validation Epoch 59/80:  67%|██████▋   | 117/174 [00:06<00:02, 19.91it/s]/home/treerspeaking/my_python_3.11.7/lib/python3.11/site-packages/PIL/Image.py:981: UserWarning: Palette images with Transparency expressed in bytes should be converted to RGBA images\n",
            "  warnings.warn(\n",
            "Validation Epoch 59/80: 100%|██████████| 174/174 [00:09<00:00, 17.54it/s]"
          ]
        },
        {
          "name": "stdout",
          "output_type": "stream",
          "text": [
            "Validation Loss: 0.5089; Acc: 87.7970\n",
            "saved model at epoch 58: ./models/epoch_58.pth\n"
          ]
        },
        {
          "name": "stderr",
          "output_type": "stream",
          "text": [
            "\n",
            "/home/treerspeaking/my_python_3.11.7/lib/python3.11/site-packages/PIL/Image.py:981: UserWarning: Palette images with Transparency expressed in bytes should be converted to RGBA images\n",
            "  warnings.warn(\n",
            "/home/treerspeaking/my_python_3.11.7/lib/python3.11/site-packages/PIL/Image.py:981: UserWarning: Palette images with Transparency expressed in bytes should be converted to RGBA images\n",
            "  warnings.warn(\n",
            "/home/treerspeaking/my_python_3.11.7/lib/python3.11/site-packages/PIL/Image.py:981: UserWarning: Palette images with Transparency expressed in bytes should be converted to RGBA images\n",
            "  warnings.warn(\n",
            "/home/treerspeaking/my_python_3.11.7/lib/python3.11/site-packages/PIL/Image.py:981: UserWarning: Palette images with Transparency expressed in bytes should be converted to RGBA images\n",
            "  warnings.warn(\n",
            "/home/treerspeaking/my_python_3.11.7/lib/python3.11/site-packages/PIL/Image.py:981: UserWarning: Palette images with Transparency expressed in bytes should be converted to RGBA images\n",
            "  warnings.warn(\n",
            "/home/treerspeaking/my_python_3.11.7/lib/python3.11/site-packages/PIL/Image.py:981: UserWarning: Palette images with Transparency expressed in bytes should be converted to RGBA images\n",
            "  warnings.warn(\n"
          ]
        },
        {
          "name": "stdout",
          "output_type": "stream",
          "text": [
            "Training Loss: 0.238789 ; Acc: 91.1533\n"
          ]
        },
        {
          "name": "stderr",
          "output_type": "stream",
          "text": [
            "Validation Epoch 60/80:   1%|          | 2/174 [00:00<00:42,  4.08it/s]/home/treerspeaking/my_python_3.11.7/lib/python3.11/site-packages/PIL/Image.py:981: UserWarning: Palette images with Transparency expressed in bytes should be converted to RGBA images\n",
            "  warnings.warn(\n",
            "Validation Epoch 60/80:  18%|█▊        | 32/174 [00:02<00:08, 16.45it/s]/home/treerspeaking/my_python_3.11.7/lib/python3.11/site-packages/PIL/Image.py:981: UserWarning: Palette images with Transparency expressed in bytes should be converted to RGBA images\n",
            "  warnings.warn(\n",
            "Validation Epoch 60/80:  21%|██        | 36/174 [00:02<00:07, 17.83it/s]/home/treerspeaking/my_python_3.11.7/lib/python3.11/site-packages/PIL/Image.py:981: UserWarning: Palette images with Transparency expressed in bytes should be converted to RGBA images\n",
            "  warnings.warn(\n",
            "Validation Epoch 60/80:  24%|██▍       | 42/174 [00:02<00:06, 18.96it/s]/home/treerspeaking/my_python_3.11.7/lib/python3.11/site-packages/PIL/Image.py:981: UserWarning: Palette images with Transparency expressed in bytes should be converted to RGBA images\n",
            "  warnings.warn(\n",
            "Validation Epoch 60/80:  32%|███▏      | 56/174 [00:03<00:06, 19.54it/s]/home/treerspeaking/my_python_3.11.7/lib/python3.11/site-packages/PIL/Image.py:981: UserWarning: Palette images with Transparency expressed in bytes should be converted to RGBA images\n",
            "  warnings.warn(\n",
            "Validation Epoch 60/80:  68%|██████▊   | 118/174 [00:06<00:02, 20.08it/s]/home/treerspeaking/my_python_3.11.7/lib/python3.11/site-packages/PIL/Image.py:981: UserWarning: Palette images with Transparency expressed in bytes should be converted to RGBA images\n",
            "  warnings.warn(\n",
            "Validation Epoch 60/80: 100%|██████████| 174/174 [00:09<00:00, 17.44it/s]\n"
          ]
        },
        {
          "name": "stdout",
          "output_type": "stream",
          "text": [
            "Validation Loss: 0.5074; Acc: 87.7970\n",
            "saved model at epoch 59: ./models/epoch_59.pth\n"
          ]
        },
        {
          "name": "stderr",
          "output_type": "stream",
          "text": [
            "/home/treerspeaking/my_python_3.11.7/lib/python3.11/site-packages/PIL/Image.py:981: UserWarning: Palette images with Transparency expressed in bytes should be converted to RGBA images\n",
            "  warnings.warn(\n",
            "/home/treerspeaking/my_python_3.11.7/lib/python3.11/site-packages/PIL/Image.py:981: UserWarning: Palette images with Transparency expressed in bytes should be converted to RGBA images\n",
            "  warnings.warn(\n",
            "/home/treerspeaking/my_python_3.11.7/lib/python3.11/site-packages/PIL/Image.py:981: UserWarning: Palette images with Transparency expressed in bytes should be converted to RGBA images\n",
            "  warnings.warn(\n",
            "/home/treerspeaking/my_python_3.11.7/lib/python3.11/site-packages/PIL/Image.py:981: UserWarning: Palette images with Transparency expressed in bytes should be converted to RGBA images\n",
            "  warnings.warn(\n",
            "/home/treerspeaking/my_python_3.11.7/lib/python3.11/site-packages/PIL/Image.py:981: UserWarning: Palette images with Transparency expressed in bytes should be converted to RGBA images\n",
            "  warnings.warn(\n",
            "/home/treerspeaking/my_python_3.11.7/lib/python3.11/site-packages/PIL/Image.py:981: UserWarning: Palette images with Transparency expressed in bytes should be converted to RGBA images\n",
            "  warnings.warn(\n"
          ]
        },
        {
          "name": "stdout",
          "output_type": "stream",
          "text": [
            "Training Loss: 0.232303 ; Acc: 91.4998\n"
          ]
        },
        {
          "name": "stderr",
          "output_type": "stream",
          "text": [
            "Validation Epoch 61/80:   1%|          | 2/174 [00:00<00:39,  4.36it/s]/home/treerspeaking/my_python_3.11.7/lib/python3.11/site-packages/PIL/Image.py:981: UserWarning: Palette images with Transparency expressed in bytes should be converted to RGBA images\n",
            "  warnings.warn(\n",
            "Validation Epoch 61/80:  18%|█▊        | 32/174 [00:02<00:08, 16.50it/s]/home/treerspeaking/my_python_3.11.7/lib/python3.11/site-packages/PIL/Image.py:981: UserWarning: Palette images with Transparency expressed in bytes should be converted to RGBA images\n",
            "  warnings.warn(\n",
            "Validation Epoch 61/80:  20%|█▉        | 34/174 [00:02<00:08, 17.06it/s]/home/treerspeaking/my_python_3.11.7/lib/python3.11/site-packages/PIL/Image.py:981: UserWarning: Palette images with Transparency expressed in bytes should be converted to RGBA images\n",
            "  warnings.warn(\n",
            "Validation Epoch 61/80:  25%|██▍       | 43/174 [00:02<00:06, 18.94it/s]/home/treerspeaking/my_python_3.11.7/lib/python3.11/site-packages/PIL/Image.py:981: UserWarning: Palette images with Transparency expressed in bytes should be converted to RGBA images\n",
            "  warnings.warn(\n",
            "Validation Epoch 61/80:  32%|███▏      | 55/174 [00:03<00:06, 19.69it/s]/home/treerspeaking/my_python_3.11.7/lib/python3.11/site-packages/PIL/Image.py:981: UserWarning: Palette images with Transparency expressed in bytes should be converted to RGBA images\n",
            "  warnings.warn(\n",
            "Validation Epoch 61/80:  67%|██████▋   | 117/174 [00:06<00:02, 19.78it/s]/home/treerspeaking/my_python_3.11.7/lib/python3.11/site-packages/PIL/Image.py:981: UserWarning: Palette images with Transparency expressed in bytes should be converted to RGBA images\n",
            "  warnings.warn(\n",
            "Validation Epoch 61/80: 100%|██████████| 174/174 [00:09<00:00, 17.53it/s]\n"
          ]
        },
        {
          "name": "stdout",
          "output_type": "stream",
          "text": [
            "Validation Loss: 0.5059; Acc: 87.9590\n",
            "saved model at epoch 60: ./models/epoch_60.pth\n"
          ]
        },
        {
          "name": "stderr",
          "output_type": "stream",
          "text": [
            "/home/treerspeaking/my_python_3.11.7/lib/python3.11/site-packages/PIL/Image.py:981: UserWarning: Palette images with Transparency expressed in bytes should be converted to RGBA images\n",
            "  warnings.warn(\n",
            "/home/treerspeaking/my_python_3.11.7/lib/python3.11/site-packages/PIL/Image.py:981: UserWarning: Palette images with Transparency expressed in bytes should be converted to RGBA images\n",
            "  warnings.warn(\n",
            "/home/treerspeaking/my_python_3.11.7/lib/python3.11/site-packages/PIL/Image.py:981: UserWarning: Palette images with Transparency expressed in bytes should be converted to RGBA images\n",
            "  warnings.warn(\n",
            "/home/treerspeaking/my_python_3.11.7/lib/python3.11/site-packages/PIL/Image.py:981: UserWarning: Palette images with Transparency expressed in bytes should be converted to RGBA images\n",
            "  warnings.warn(\n",
            "/home/treerspeaking/my_python_3.11.7/lib/python3.11/site-packages/PIL/Image.py:981: UserWarning: Palette images with Transparency expressed in bytes should be converted to RGBA images\n",
            "  warnings.warn(\n",
            "/home/treerspeaking/my_python_3.11.7/lib/python3.11/site-packages/PIL/Image.py:981: UserWarning: Palette images with Transparency expressed in bytes should be converted to RGBA images\n",
            "  warnings.warn(\n"
          ]
        },
        {
          "name": "stdout",
          "output_type": "stream",
          "text": [
            "Training Loss: 0.230667 ; Acc: 91.4728\n"
          ]
        },
        {
          "name": "stderr",
          "output_type": "stream",
          "text": [
            "Validation Epoch 62/80:   1%|          | 1/174 [00:00<01:13,  2.36it/s]/home/treerspeaking/my_python_3.11.7/lib/python3.11/site-packages/PIL/Image.py:981: UserWarning: Palette images with Transparency expressed in bytes should be converted to RGBA images\n",
            "  warnings.warn(\n",
            "Validation Epoch 62/80:  18%|█▊        | 32/174 [00:02<00:08, 16.50it/s]/home/treerspeaking/my_python_3.11.7/lib/python3.11/site-packages/PIL/Image.py:981: UserWarning: Palette images with Transparency expressed in bytes should be converted to RGBA images\n",
            "  warnings.warn(\n",
            "Validation Epoch 62/80:  20%|█▉        | 34/174 [00:02<00:08, 17.23it/s]/home/treerspeaking/my_python_3.11.7/lib/python3.11/site-packages/PIL/Image.py:981: UserWarning: Palette images with Transparency expressed in bytes should be converted to RGBA images\n",
            "  warnings.warn(\n",
            "Validation Epoch 62/80:  25%|██▍       | 43/174 [00:02<00:06, 19.16it/s]/home/treerspeaking/my_python_3.11.7/lib/python3.11/site-packages/PIL/Image.py:981: UserWarning: Palette images with Transparency expressed in bytes should be converted to RGBA images\n",
            "  warnings.warn(\n",
            "Validation Epoch 62/80:  32%|███▏      | 55/174 [00:03<00:06, 19.77it/s]/home/treerspeaking/my_python_3.11.7/lib/python3.11/site-packages/PIL/Image.py:981: UserWarning: Palette images with Transparency expressed in bytes should be converted to RGBA images\n",
            "  warnings.warn(\n",
            "Validation Epoch 62/80:  67%|██████▋   | 117/174 [00:06<00:02, 19.83it/s]/home/treerspeaking/my_python_3.11.7/lib/python3.11/site-packages/PIL/Image.py:981: UserWarning: Palette images with Transparency expressed in bytes should be converted to RGBA images\n",
            "  warnings.warn(\n",
            "Validation Epoch 62/80: 100%|██████████| 174/174 [00:09<00:00, 17.54it/s]\n"
          ]
        },
        {
          "name": "stdout",
          "output_type": "stream",
          "text": [
            "Validation Loss: 0.5068; Acc: 87.8510\n",
            "saved model at epoch 61: ./models/epoch_61.pth\n"
          ]
        },
        {
          "name": "stderr",
          "output_type": "stream",
          "text": [
            "/home/treerspeaking/my_python_3.11.7/lib/python3.11/site-packages/PIL/Image.py:981: UserWarning: Palette images with Transparency expressed in bytes should be converted to RGBA images\n",
            "  warnings.warn(\n",
            "/home/treerspeaking/my_python_3.11.7/lib/python3.11/site-packages/PIL/Image.py:981: UserWarning: Palette images with Transparency expressed in bytes should be converted to RGBA images\n",
            "  warnings.warn(\n",
            "/home/treerspeaking/my_python_3.11.7/lib/python3.11/site-packages/PIL/Image.py:981: UserWarning: Palette images with Transparency expressed in bytes should be converted to RGBA images\n",
            "  warnings.warn(\n",
            "/home/treerspeaking/my_python_3.11.7/lib/python3.11/site-packages/PIL/Image.py:981: UserWarning: Palette images with Transparency expressed in bytes should be converted to RGBA images\n",
            "  warnings.warn(\n",
            "/home/treerspeaking/my_python_3.11.7/lib/python3.11/site-packages/PIL/Image.py:981: UserWarning: Palette images with Transparency expressed in bytes should be converted to RGBA images\n",
            "  warnings.warn(\n",
            "/home/treerspeaking/my_python_3.11.7/lib/python3.11/site-packages/PIL/Image.py:981: UserWarning: Palette images with Transparency expressed in bytes should be converted to RGBA images\n",
            "  warnings.warn(\n"
          ]
        },
        {
          "name": "stdout",
          "output_type": "stream",
          "text": [
            "Training Loss: 0.228488 ; Acc: 91.5403\n"
          ]
        },
        {
          "name": "stderr",
          "output_type": "stream",
          "text": [
            "Validation Epoch 63/80:   1%|          | 2/174 [00:00<00:41,  4.14it/s]/home/treerspeaking/my_python_3.11.7/lib/python3.11/site-packages/PIL/Image.py:981: UserWarning: Palette images with Transparency expressed in bytes should be converted to RGBA images\n",
            "  warnings.warn(\n",
            "Validation Epoch 63/80:  18%|█▊        | 32/174 [00:02<00:08, 16.91it/s]/home/treerspeaking/my_python_3.11.7/lib/python3.11/site-packages/PIL/Image.py:981: UserWarning: Palette images with Transparency expressed in bytes should be converted to RGBA images\n",
            "  warnings.warn(\n",
            "Validation Epoch 63/80:  20%|█▉        | 34/174 [00:02<00:08, 17.41it/s]/home/treerspeaking/my_python_3.11.7/lib/python3.11/site-packages/PIL/Image.py:981: UserWarning: Palette images with Transparency expressed in bytes should be converted to RGBA images\n",
            "  warnings.warn(\n",
            "Validation Epoch 63/80:  24%|██▍       | 42/174 [00:02<00:06, 19.12it/s]/home/treerspeaking/my_python_3.11.7/lib/python3.11/site-packages/PIL/Image.py:981: UserWarning: Palette images with Transparency expressed in bytes should be converted to RGBA images\n",
            "  warnings.warn(\n",
            "Validation Epoch 63/80:  32%|███▏      | 55/174 [00:03<00:06, 19.81it/s]/home/treerspeaking/my_python_3.11.7/lib/python3.11/site-packages/PIL/Image.py:981: UserWarning: Palette images with Transparency expressed in bytes should be converted to RGBA images\n",
            "  warnings.warn(\n",
            "Validation Epoch 63/80:  68%|██████▊   | 118/174 [00:06<00:02, 19.96it/s]/home/treerspeaking/my_python_3.11.7/lib/python3.11/site-packages/PIL/Image.py:981: UserWarning: Palette images with Transparency expressed in bytes should be converted to RGBA images\n",
            "  warnings.warn(\n",
            "Validation Epoch 63/80: 100%|██████████| 174/174 [00:09<00:00, 17.54it/s]"
          ]
        },
        {
          "name": "stdout",
          "output_type": "stream",
          "text": [
            "Validation Loss: 0.5095; Acc: 87.9050\n",
            "saved model at epoch 62: ./models/epoch_62.pth\n"
          ]
        },
        {
          "name": "stderr",
          "output_type": "stream",
          "text": [
            "\n",
            "/home/treerspeaking/my_python_3.11.7/lib/python3.11/site-packages/PIL/Image.py:981: UserWarning: Palette images with Transparency expressed in bytes should be converted to RGBA images\n",
            "  warnings.warn(\n",
            "/home/treerspeaking/my_python_3.11.7/lib/python3.11/site-packages/PIL/Image.py:981: UserWarning: Palette images with Transparency expressed in bytes should be converted to RGBA images\n",
            "  warnings.warn(\n",
            "/home/treerspeaking/my_python_3.11.7/lib/python3.11/site-packages/PIL/Image.py:981: UserWarning: Palette images with Transparency expressed in bytes should be converted to RGBA images\n",
            "  warnings.warn(\n",
            "/home/treerspeaking/my_python_3.11.7/lib/python3.11/site-packages/PIL/Image.py:981: UserWarning: Palette images with Transparency expressed in bytes should be converted to RGBA images\n",
            "  warnings.warn(\n",
            "/home/treerspeaking/my_python_3.11.7/lib/python3.11/site-packages/PIL/Image.py:981: UserWarning: Palette images with Transparency expressed in bytes should be converted to RGBA images\n",
            "  warnings.warn(\n",
            "/home/treerspeaking/my_python_3.11.7/lib/python3.11/site-packages/PIL/Image.py:981: UserWarning: Palette images with Transparency expressed in bytes should be converted to RGBA images\n",
            "  warnings.warn(\n"
          ]
        },
        {
          "name": "stdout",
          "output_type": "stream",
          "text": [
            "Training Loss: 0.232802 ; Acc: 91.2793\n"
          ]
        },
        {
          "name": "stderr",
          "output_type": "stream",
          "text": [
            "Validation Epoch 64/80:   1%|          | 2/174 [00:00<00:42,  4.06it/s]/home/treerspeaking/my_python_3.11.7/lib/python3.11/site-packages/PIL/Image.py:981: UserWarning: Palette images with Transparency expressed in bytes should be converted to RGBA images\n",
            "  warnings.warn(\n",
            "Validation Epoch 64/80:  18%|█▊        | 32/174 [00:02<00:08, 16.91it/s]/home/treerspeaking/my_python_3.11.7/lib/python3.11/site-packages/PIL/Image.py:981: UserWarning: Palette images with Transparency expressed in bytes should be converted to RGBA images\n",
            "  warnings.warn(\n",
            "Validation Epoch 64/80:  21%|██        | 36/174 [00:02<00:07, 18.12it/s]/home/treerspeaking/my_python_3.11.7/lib/python3.11/site-packages/PIL/Image.py:981: UserWarning: Palette images with Transparency expressed in bytes should be converted to RGBA images\n",
            "  warnings.warn(\n",
            "Validation Epoch 64/80:  25%|██▍       | 43/174 [00:02<00:06, 19.20it/s]/home/treerspeaking/my_python_3.11.7/lib/python3.11/site-packages/PIL/Image.py:981: UserWarning: Palette images with Transparency expressed in bytes should be converted to RGBA images\n",
            "  warnings.warn(\n",
            "Validation Epoch 64/80:  32%|███▏      | 55/174 [00:03<00:06, 19.76it/s]/home/treerspeaking/my_python_3.11.7/lib/python3.11/site-packages/PIL/Image.py:981: UserWarning: Palette images with Transparency expressed in bytes should be converted to RGBA images\n",
            "  warnings.warn(\n",
            "Validation Epoch 64/80:  67%|██████▋   | 117/174 [00:06<00:02, 19.91it/s]/home/treerspeaking/my_python_3.11.7/lib/python3.11/site-packages/PIL/Image.py:981: UserWarning: Palette images with Transparency expressed in bytes should be converted to RGBA images\n",
            "  warnings.warn(\n",
            "Validation Epoch 64/80: 100%|██████████| 174/174 [00:09<00:00, 17.52it/s]"
          ]
        },
        {
          "name": "stdout",
          "output_type": "stream",
          "text": [
            "Validation Loss: 0.5079; Acc: 87.8330\n",
            "saved model at epoch 63: ./models/epoch_63.pth\n"
          ]
        },
        {
          "name": "stderr",
          "output_type": "stream",
          "text": [
            "\n",
            "/home/treerspeaking/my_python_3.11.7/lib/python3.11/site-packages/PIL/Image.py:981: UserWarning: Palette images with Transparency expressed in bytes should be converted to RGBA images\n",
            "  warnings.warn(\n",
            "/home/treerspeaking/my_python_3.11.7/lib/python3.11/site-packages/PIL/Image.py:981: UserWarning: Palette images with Transparency expressed in bytes should be converted to RGBA images\n",
            "  warnings.warn(\n",
            "/home/treerspeaking/my_python_3.11.7/lib/python3.11/site-packages/PIL/Image.py:981: UserWarning: Palette images with Transparency expressed in bytes should be converted to RGBA images\n",
            "  warnings.warn(\n",
            "/home/treerspeaking/my_python_3.11.7/lib/python3.11/site-packages/PIL/Image.py:981: UserWarning: Palette images with Transparency expressed in bytes should be converted to RGBA images\n",
            "  warnings.warn(\n",
            "/home/treerspeaking/my_python_3.11.7/lib/python3.11/site-packages/PIL/Image.py:981: UserWarning: Palette images with Transparency expressed in bytes should be converted to RGBA images\n",
            "  warnings.warn(\n",
            "/home/treerspeaking/my_python_3.11.7/lib/python3.11/site-packages/PIL/Image.py:981: UserWarning: Palette images with Transparency expressed in bytes should be converted to RGBA images\n",
            "  warnings.warn(\n"
          ]
        },
        {
          "name": "stdout",
          "output_type": "stream",
          "text": [
            "Training Loss: 0.235518 ; Acc: 91.3738\n"
          ]
        },
        {
          "name": "stderr",
          "output_type": "stream",
          "text": [
            "Validation Epoch 65/80:   1%|          | 2/174 [00:00<00:40,  4.26it/s]/home/treerspeaking/my_python_3.11.7/lib/python3.11/site-packages/PIL/Image.py:981: UserWarning: Palette images with Transparency expressed in bytes should be converted to RGBA images\n",
            "  warnings.warn(\n",
            "Validation Epoch 65/80:  18%|█▊        | 32/174 [00:02<00:08, 16.65it/s]/home/treerspeaking/my_python_3.11.7/lib/python3.11/site-packages/PIL/Image.py:981: UserWarning: Palette images with Transparency expressed in bytes should be converted to RGBA images\n",
            "  warnings.warn(\n",
            "Validation Epoch 65/80:  21%|██        | 36/174 [00:02<00:07, 17.92it/s]/home/treerspeaking/my_python_3.11.7/lib/python3.11/site-packages/PIL/Image.py:981: UserWarning: Palette images with Transparency expressed in bytes should be converted to RGBA images\n",
            "  warnings.warn(\n",
            "Validation Epoch 65/80:  24%|██▍       | 42/174 [00:02<00:06, 18.96it/s]/home/treerspeaking/my_python_3.11.7/lib/python3.11/site-packages/PIL/Image.py:981: UserWarning: Palette images with Transparency expressed in bytes should be converted to RGBA images\n",
            "  warnings.warn(\n",
            "Validation Epoch 65/80:  32%|███▏      | 55/174 [00:03<00:06, 19.67it/s]/home/treerspeaking/my_python_3.11.7/lib/python3.11/site-packages/PIL/Image.py:981: UserWarning: Palette images with Transparency expressed in bytes should be converted to RGBA images\n",
            "  warnings.warn(\n",
            "Validation Epoch 65/80:  67%|██████▋   | 117/174 [00:06<00:02, 19.98it/s]/home/treerspeaking/my_python_3.11.7/lib/python3.11/site-packages/PIL/Image.py:981: UserWarning: Palette images with Transparency expressed in bytes should be converted to RGBA images\n",
            "  warnings.warn(\n",
            "Validation Epoch 65/80: 100%|██████████| 174/174 [00:09<00:00, 17.50it/s]"
          ]
        },
        {
          "name": "stdout",
          "output_type": "stream",
          "text": [
            "Validation Loss: 0.5064; Acc: 87.9770\n",
            "saved model at epoch 64: ./models/epoch_64.pth\n"
          ]
        },
        {
          "name": "stderr",
          "output_type": "stream",
          "text": [
            "\n",
            "/home/treerspeaking/my_python_3.11.7/lib/python3.11/site-packages/PIL/Image.py:981: UserWarning: Palette images with Transparency expressed in bytes should be converted to RGBA images\n",
            "  warnings.warn(\n",
            "/home/treerspeaking/my_python_3.11.7/lib/python3.11/site-packages/PIL/Image.py:981: UserWarning: Palette images with Transparency expressed in bytes should be converted to RGBA images\n",
            "  warnings.warn(\n",
            "/home/treerspeaking/my_python_3.11.7/lib/python3.11/site-packages/PIL/Image.py:981: UserWarning: Palette images with Transparency expressed in bytes should be converted to RGBA images\n",
            "  warnings.warn(\n",
            "/home/treerspeaking/my_python_3.11.7/lib/python3.11/site-packages/PIL/Image.py:981: UserWarning: Palette images with Transparency expressed in bytes should be converted to RGBA images\n",
            "  warnings.warn(\n",
            "/home/treerspeaking/my_python_3.11.7/lib/python3.11/site-packages/PIL/Image.py:981: UserWarning: Palette images with Transparency expressed in bytes should be converted to RGBA images\n",
            "  warnings.warn(\n",
            "/home/treerspeaking/my_python_3.11.7/lib/python3.11/site-packages/PIL/Image.py:981: UserWarning: Palette images with Transparency expressed in bytes should be converted to RGBA images\n",
            "  warnings.warn(\n"
          ]
        },
        {
          "name": "stdout",
          "output_type": "stream",
          "text": [
            "Training Loss: 0.238951 ; Acc: 91.3153\n"
          ]
        },
        {
          "name": "stderr",
          "output_type": "stream",
          "text": [
            "Validation Epoch 66/80:   1%|          | 2/174 [00:00<00:41,  4.15it/s]/home/treerspeaking/my_python_3.11.7/lib/python3.11/site-packages/PIL/Image.py:981: UserWarning: Palette images with Transparency expressed in bytes should be converted to RGBA images\n",
            "  warnings.warn(\n",
            "Validation Epoch 66/80:  18%|█▊        | 31/174 [00:02<00:08, 16.96it/s]/home/treerspeaking/my_python_3.11.7/lib/python3.11/site-packages/PIL/Image.py:981: UserWarning: Palette images with Transparency expressed in bytes should be converted to RGBA images\n",
            "  warnings.warn(\n",
            "Validation Epoch 66/80:  20%|██        | 35/174 [00:02<00:07, 18.17it/s]/home/treerspeaking/my_python_3.11.7/lib/python3.11/site-packages/PIL/Image.py:981: UserWarning: Palette images with Transparency expressed in bytes should be converted to RGBA images\n",
            "  warnings.warn(\n",
            "Validation Epoch 66/80:  25%|██▍       | 43/174 [00:02<00:06, 19.30it/s]/home/treerspeaking/my_python_3.11.7/lib/python3.11/site-packages/PIL/Image.py:981: UserWarning: Palette images with Transparency expressed in bytes should be converted to RGBA images\n",
            "  warnings.warn(\n",
            "Validation Epoch 66/80:  33%|███▎      | 57/174 [00:03<00:05, 19.88it/s]/home/treerspeaking/my_python_3.11.7/lib/python3.11/site-packages/PIL/Image.py:981: UserWarning: Palette images with Transparency expressed in bytes should be converted to RGBA images\n",
            "  warnings.warn(\n",
            "Validation Epoch 66/80:  67%|██████▋   | 117/174 [00:06<00:02, 19.88it/s]/home/treerspeaking/my_python_3.11.7/lib/python3.11/site-packages/PIL/Image.py:981: UserWarning: Palette images with Transparency expressed in bytes should be converted to RGBA images\n",
            "  warnings.warn(\n",
            "Validation Epoch 66/80: 100%|██████████| 174/174 [00:09<00:00, 17.55it/s]"
          ]
        },
        {
          "name": "stdout",
          "output_type": "stream",
          "text": [
            "Validation Loss: 0.5075; Acc: 87.8330\n",
            "saved model at epoch 65: ./models/epoch_65.pth\n"
          ]
        },
        {
          "name": "stderr",
          "output_type": "stream",
          "text": [
            "\n",
            "/home/treerspeaking/my_python_3.11.7/lib/python3.11/site-packages/PIL/Image.py:981: UserWarning: Palette images with Transparency expressed in bytes should be converted to RGBA images\n",
            "  warnings.warn(\n",
            "/home/treerspeaking/my_python_3.11.7/lib/python3.11/site-packages/PIL/Image.py:981: UserWarning: Palette images with Transparency expressed in bytes should be converted to RGBA images\n",
            "  warnings.warn(\n",
            "/home/treerspeaking/my_python_3.11.7/lib/python3.11/site-packages/PIL/Image.py:981: UserWarning: Palette images with Transparency expressed in bytes should be converted to RGBA images\n",
            "  warnings.warn(\n",
            "/home/treerspeaking/my_python_3.11.7/lib/python3.11/site-packages/PIL/Image.py:981: UserWarning: Palette images with Transparency expressed in bytes should be converted to RGBA images\n",
            "  warnings.warn(\n",
            "/home/treerspeaking/my_python_3.11.7/lib/python3.11/site-packages/PIL/Image.py:981: UserWarning: Palette images with Transparency expressed in bytes should be converted to RGBA images\n",
            "  warnings.warn(\n",
            "/home/treerspeaking/my_python_3.11.7/lib/python3.11/site-packages/PIL/Image.py:981: UserWarning: Palette images with Transparency expressed in bytes should be converted to RGBA images\n",
            "  warnings.warn(\n"
          ]
        },
        {
          "name": "stdout",
          "output_type": "stream",
          "text": [
            "Training Loss: 0.227613 ; Acc: 91.5853\n"
          ]
        },
        {
          "name": "stderr",
          "output_type": "stream",
          "text": [
            "Validation Epoch 67/80:   1%|          | 1/174 [00:00<01:13,  2.34it/s]/home/treerspeaking/my_python_3.11.7/lib/python3.11/site-packages/PIL/Image.py:981: UserWarning: Palette images with Transparency expressed in bytes should be converted to RGBA images\n",
            "  warnings.warn(\n",
            "Validation Epoch 67/80:  18%|█▊        | 32/174 [00:02<00:08, 16.70it/s]/home/treerspeaking/my_python_3.11.7/lib/python3.11/site-packages/PIL/Image.py:981: UserWarning: Palette images with Transparency expressed in bytes should be converted to RGBA images\n",
            "  warnings.warn(\n",
            "Validation Epoch 67/80:  20%|█▉        | 34/174 [00:02<00:08, 17.40it/s]/home/treerspeaking/my_python_3.11.7/lib/python3.11/site-packages/PIL/Image.py:981: UserWarning: Palette images with Transparency expressed in bytes should be converted to RGBA images\n",
            "  warnings.warn(\n",
            "Validation Epoch 67/80:  25%|██▍       | 43/174 [00:02<00:06, 18.95it/s]/home/treerspeaking/my_python_3.11.7/lib/python3.11/site-packages/PIL/Image.py:981: UserWarning: Palette images with Transparency expressed in bytes should be converted to RGBA images\n",
            "  warnings.warn(\n",
            "Validation Epoch 67/80:  32%|███▏      | 56/174 [00:03<00:05, 19.76it/s]/home/treerspeaking/my_python_3.11.7/lib/python3.11/site-packages/PIL/Image.py:981: UserWarning: Palette images with Transparency expressed in bytes should be converted to RGBA images\n",
            "  warnings.warn(\n",
            "Validation Epoch 67/80:  67%|██████▋   | 117/174 [00:06<00:02, 19.83it/s]/home/treerspeaking/my_python_3.11.7/lib/python3.11/site-packages/PIL/Image.py:981: UserWarning: Palette images with Transparency expressed in bytes should be converted to RGBA images\n",
            "  warnings.warn(\n",
            "Validation Epoch 67/80: 100%|██████████| 174/174 [00:09<00:00, 17.51it/s]"
          ]
        },
        {
          "name": "stdout",
          "output_type": "stream",
          "text": [
            "Validation Loss: 0.5057; Acc: 87.8690\n",
            "saved model at epoch 66: ./models/epoch_66.pth\n"
          ]
        },
        {
          "name": "stderr",
          "output_type": "stream",
          "text": [
            "\n",
            "/home/treerspeaking/my_python_3.11.7/lib/python3.11/site-packages/PIL/Image.py:981: UserWarning: Palette images with Transparency expressed in bytes should be converted to RGBA images\n",
            "  warnings.warn(\n",
            "/home/treerspeaking/my_python_3.11.7/lib/python3.11/site-packages/PIL/Image.py:981: UserWarning: Palette images with Transparency expressed in bytes should be converted to RGBA images\n",
            "  warnings.warn(\n",
            "/home/treerspeaking/my_python_3.11.7/lib/python3.11/site-packages/PIL/Image.py:981: UserWarning: Palette images with Transparency expressed in bytes should be converted to RGBA images\n",
            "  warnings.warn(\n",
            "/home/treerspeaking/my_python_3.11.7/lib/python3.11/site-packages/PIL/Image.py:981: UserWarning: Palette images with Transparency expressed in bytes should be converted to RGBA images\n",
            "  warnings.warn(\n",
            "/home/treerspeaking/my_python_3.11.7/lib/python3.11/site-packages/PIL/Image.py:981: UserWarning: Palette images with Transparency expressed in bytes should be converted to RGBA images\n",
            "  warnings.warn(\n",
            "/home/treerspeaking/my_python_3.11.7/lib/python3.11/site-packages/PIL/Image.py:981: UserWarning: Palette images with Transparency expressed in bytes should be converted to RGBA images\n",
            "  warnings.warn(\n"
          ]
        },
        {
          "name": "stdout",
          "output_type": "stream",
          "text": [
            "Training Loss: 0.227374 ; Acc: 91.5583\n"
          ]
        },
        {
          "name": "stderr",
          "output_type": "stream",
          "text": [
            "Validation Epoch 68/80:   1%|          | 2/174 [00:00<00:41,  4.14it/s]/home/treerspeaking/my_python_3.11.7/lib/python3.11/site-packages/PIL/Image.py:981: UserWarning: Palette images with Transparency expressed in bytes should be converted to RGBA images\n",
            "  warnings.warn(\n",
            "Validation Epoch 68/80:  18%|█▊        | 32/174 [00:02<00:08, 16.85it/s]/home/treerspeaking/my_python_3.11.7/lib/python3.11/site-packages/PIL/Image.py:981: UserWarning: Palette images with Transparency expressed in bytes should be converted to RGBA images\n",
            "  warnings.warn(\n",
            "Validation Epoch 68/80:  20%|█▉        | 34/174 [00:02<00:07, 17.55it/s]/home/treerspeaking/my_python_3.11.7/lib/python3.11/site-packages/PIL/Image.py:981: UserWarning: Palette images with Transparency expressed in bytes should be converted to RGBA images\n",
            "  warnings.warn(\n",
            "Validation Epoch 68/80:  24%|██▍       | 42/174 [00:02<00:06, 19.13it/s]/home/treerspeaking/my_python_3.11.7/lib/python3.11/site-packages/PIL/Image.py:981: UserWarning: Palette images with Transparency expressed in bytes should be converted to RGBA images\n",
            "  warnings.warn(\n",
            "Validation Epoch 68/80:  32%|███▏      | 56/174 [00:03<00:05, 19.75it/s]/home/treerspeaking/my_python_3.11.7/lib/python3.11/site-packages/PIL/Image.py:981: UserWarning: Palette images with Transparency expressed in bytes should be converted to RGBA images\n",
            "  warnings.warn(\n",
            "Validation Epoch 68/80:  67%|██████▋   | 117/174 [00:06<00:02, 19.98it/s]/home/treerspeaking/my_python_3.11.7/lib/python3.11/site-packages/PIL/Image.py:981: UserWarning: Palette images with Transparency expressed in bytes should be converted to RGBA images\n",
            "  warnings.warn(\n",
            "Validation Epoch 68/80: 100%|██████████| 174/174 [00:09<00:00, 17.55it/s]"
          ]
        },
        {
          "name": "stdout",
          "output_type": "stream",
          "text": [
            "Validation Loss: 0.5066; Acc: 87.9410\n",
            "saved model at epoch 67: ./models/epoch_67.pth\n"
          ]
        },
        {
          "name": "stderr",
          "output_type": "stream",
          "text": [
            "\n",
            "/home/treerspeaking/my_python_3.11.7/lib/python3.11/site-packages/PIL/Image.py:981: UserWarning: Palette images with Transparency expressed in bytes should be converted to RGBA images\n",
            "  warnings.warn(\n",
            "/home/treerspeaking/my_python_3.11.7/lib/python3.11/site-packages/PIL/Image.py:981: UserWarning: Palette images with Transparency expressed in bytes should be converted to RGBA images\n",
            "  warnings.warn(\n",
            "/home/treerspeaking/my_python_3.11.7/lib/python3.11/site-packages/PIL/Image.py:981: UserWarning: Palette images with Transparency expressed in bytes should be converted to RGBA images\n",
            "  warnings.warn(\n",
            "/home/treerspeaking/my_python_3.11.7/lib/python3.11/site-packages/PIL/Image.py:981: UserWarning: Palette images with Transparency expressed in bytes should be converted to RGBA images\n",
            "  warnings.warn(\n",
            "/home/treerspeaking/my_python_3.11.7/lib/python3.11/site-packages/PIL/Image.py:981: UserWarning: Palette images with Transparency expressed in bytes should be converted to RGBA images\n",
            "  warnings.warn(\n",
            "/home/treerspeaking/my_python_3.11.7/lib/python3.11/site-packages/PIL/Image.py:981: UserWarning: Palette images with Transparency expressed in bytes should be converted to RGBA images\n",
            "  warnings.warn(\n"
          ]
        },
        {
          "name": "stdout",
          "output_type": "stream",
          "text": [
            "Training Loss: 0.226324 ; Acc: 91.6348\n"
          ]
        },
        {
          "name": "stderr",
          "output_type": "stream",
          "text": [
            "Validation Epoch 69/80:   1%|          | 2/174 [00:00<00:42,  4.03it/s]/home/treerspeaking/my_python_3.11.7/lib/python3.11/site-packages/PIL/Image.py:981: UserWarning: Palette images with Transparency expressed in bytes should be converted to RGBA images\n",
            "  warnings.warn(\n",
            "Validation Epoch 69/80:  17%|█▋        | 30/174 [00:02<00:09, 15.88it/s]/home/treerspeaking/my_python_3.11.7/lib/python3.11/site-packages/PIL/Image.py:981: UserWarning: Palette images with Transparency expressed in bytes should be converted to RGBA images\n",
            "  warnings.warn(\n",
            "Validation Epoch 69/80:  21%|██        | 36/174 [00:02<00:07, 17.83it/s]/home/treerspeaking/my_python_3.11.7/lib/python3.11/site-packages/PIL/Image.py:981: UserWarning: Palette images with Transparency expressed in bytes should be converted to RGBA images\n",
            "  warnings.warn(\n",
            "Validation Epoch 69/80:  25%|██▍       | 43/174 [00:02<00:06, 19.01it/s]/home/treerspeaking/my_python_3.11.7/lib/python3.11/site-packages/PIL/Image.py:981: UserWarning: Palette images with Transparency expressed in bytes should be converted to RGBA images\n",
            "  warnings.warn(\n",
            "Validation Epoch 69/80:  32%|███▏      | 55/174 [00:03<00:06, 19.78it/s]/home/treerspeaking/my_python_3.11.7/lib/python3.11/site-packages/PIL/Image.py:981: UserWarning: Palette images with Transparency expressed in bytes should be converted to RGBA images\n",
            "  warnings.warn(\n",
            "Validation Epoch 69/80:  67%|██████▋   | 117/174 [00:06<00:02, 19.37it/s]/home/treerspeaking/my_python_3.11.7/lib/python3.11/site-packages/PIL/Image.py:981: UserWarning: Palette images with Transparency expressed in bytes should be converted to RGBA images\n",
            "  warnings.warn(\n",
            "Validation Epoch 69/80: 100%|██████████| 174/174 [00:09<00:00, 17.48it/s]\n"
          ]
        },
        {
          "name": "stdout",
          "output_type": "stream",
          "text": [
            "Validation Loss: 0.5065; Acc: 87.8870\n",
            "saved model at epoch 68: ./models/epoch_68.pth\n"
          ]
        },
        {
          "name": "stderr",
          "output_type": "stream",
          "text": [
            "/home/treerspeaking/my_python_3.11.7/lib/python3.11/site-packages/PIL/Image.py:981: UserWarning: Palette images with Transparency expressed in bytes should be converted to RGBA images\n",
            "  warnings.warn(\n",
            "/home/treerspeaking/my_python_3.11.7/lib/python3.11/site-packages/PIL/Image.py:981: UserWarning: Palette images with Transparency expressed in bytes should be converted to RGBA images\n",
            "  warnings.warn(\n",
            "/home/treerspeaking/my_python_3.11.7/lib/python3.11/site-packages/PIL/Image.py:981: UserWarning: Palette images with Transparency expressed in bytes should be converted to RGBA images\n",
            "  warnings.warn(\n",
            "/home/treerspeaking/my_python_3.11.7/lib/python3.11/site-packages/PIL/Image.py:981: UserWarning: Palette images with Transparency expressed in bytes should be converted to RGBA images\n",
            "  warnings.warn(\n",
            "/home/treerspeaking/my_python_3.11.7/lib/python3.11/site-packages/PIL/Image.py:981: UserWarning: Palette images with Transparency expressed in bytes should be converted to RGBA images\n",
            "  warnings.warn(\n",
            "/home/treerspeaking/my_python_3.11.7/lib/python3.11/site-packages/PIL/Image.py:981: UserWarning: Palette images with Transparency expressed in bytes should be converted to RGBA images\n",
            "  warnings.warn(\n"
          ]
        },
        {
          "name": "stdout",
          "output_type": "stream",
          "text": [
            "Training Loss: 0.225223 ; Acc: 91.6888\n"
          ]
        },
        {
          "name": "stderr",
          "output_type": "stream",
          "text": [
            "Validation Epoch 70/80:   1%|          | 2/174 [00:00<00:40,  4.24it/s]/home/treerspeaking/my_python_3.11.7/lib/python3.11/site-packages/PIL/Image.py:981: UserWarning: Palette images with Transparency expressed in bytes should be converted to RGBA images\n",
            "  warnings.warn(\n",
            "Validation Epoch 70/80:  18%|█▊        | 32/174 [00:02<00:08, 16.59it/s]/home/treerspeaking/my_python_3.11.7/lib/python3.11/site-packages/PIL/Image.py:981: UserWarning: Palette images with Transparency expressed in bytes should be converted to RGBA images\n",
            "  warnings.warn(\n",
            "Validation Epoch 70/80:  21%|██        | 36/174 [00:02<00:07, 17.83it/s]/home/treerspeaking/my_python_3.11.7/lib/python3.11/site-packages/PIL/Image.py:981: UserWarning: Palette images with Transparency expressed in bytes should be converted to RGBA images\n",
            "  warnings.warn(\n",
            "Validation Epoch 70/80:  24%|██▍       | 42/174 [00:02<00:06, 18.96it/s]/home/treerspeaking/my_python_3.11.7/lib/python3.11/site-packages/PIL/Image.py:981: UserWarning: Palette images with Transparency expressed in bytes should be converted to RGBA images\n",
            "  warnings.warn(\n",
            "Validation Epoch 70/80:  32%|███▏      | 56/174 [00:03<00:06, 19.63it/s]/home/treerspeaking/my_python_3.11.7/lib/python3.11/site-packages/PIL/Image.py:981: UserWarning: Palette images with Transparency expressed in bytes should be converted to RGBA images\n",
            "  warnings.warn(\n",
            "Validation Epoch 70/80:  67%|██████▋   | 117/174 [00:06<00:02, 19.71it/s]/home/treerspeaking/my_python_3.11.7/lib/python3.11/site-packages/PIL/Image.py:981: UserWarning: Palette images with Transparency expressed in bytes should be converted to RGBA images\n",
            "  warnings.warn(\n",
            "Validation Epoch 70/80: 100%|██████████| 174/174 [00:09<00:00, 17.56it/s]"
          ]
        },
        {
          "name": "stdout",
          "output_type": "stream",
          "text": [
            "Validation Loss: 0.5062; Acc: 87.8690\n",
            "saved model at epoch 69: ./models/epoch_69.pth\n"
          ]
        },
        {
          "name": "stderr",
          "output_type": "stream",
          "text": [
            "\n",
            "/home/treerspeaking/my_python_3.11.7/lib/python3.11/site-packages/PIL/Image.py:981: UserWarning: Palette images with Transparency expressed in bytes should be converted to RGBA images\n",
            "  warnings.warn(\n",
            "/home/treerspeaking/my_python_3.11.7/lib/python3.11/site-packages/PIL/Image.py:981: UserWarning: Palette images with Transparency expressed in bytes should be converted to RGBA images\n",
            "  warnings.warn(\n",
            "/home/treerspeaking/my_python_3.11.7/lib/python3.11/site-packages/PIL/Image.py:981: UserWarning: Palette images with Transparency expressed in bytes should be converted to RGBA images\n",
            "  warnings.warn(\n",
            "/home/treerspeaking/my_python_3.11.7/lib/python3.11/site-packages/PIL/Image.py:981: UserWarning: Palette images with Transparency expressed in bytes should be converted to RGBA images\n",
            "  warnings.warn(\n",
            "/home/treerspeaking/my_python_3.11.7/lib/python3.11/site-packages/PIL/Image.py:981: UserWarning: Palette images with Transparency expressed in bytes should be converted to RGBA images\n",
            "  warnings.warn(\n",
            "/home/treerspeaking/my_python_3.11.7/lib/python3.11/site-packages/PIL/Image.py:981: UserWarning: Palette images with Transparency expressed in bytes should be converted to RGBA images\n",
            "  warnings.warn(\n"
          ]
        },
        {
          "name": "stdout",
          "output_type": "stream",
          "text": [
            "Training Loss: 0.236967 ; Acc: 91.2748\n"
          ]
        },
        {
          "name": "stderr",
          "output_type": "stream",
          "text": [
            "Validation Epoch 71/80:   1%|          | 2/174 [00:00<00:41,  4.17it/s]/home/treerspeaking/my_python_3.11.7/lib/python3.11/site-packages/PIL/Image.py:981: UserWarning: Palette images with Transparency expressed in bytes should be converted to RGBA images\n",
            "  warnings.warn(\n",
            "Validation Epoch 71/80:  18%|█▊        | 32/174 [00:02<00:08, 16.62it/s]/home/treerspeaking/my_python_3.11.7/lib/python3.11/site-packages/PIL/Image.py:981: UserWarning: Palette images with Transparency expressed in bytes should be converted to RGBA images\n",
            "  warnings.warn(\n",
            "Validation Epoch 71/80:  21%|██        | 36/174 [00:02<00:07, 17.98it/s]/home/treerspeaking/my_python_3.11.7/lib/python3.11/site-packages/PIL/Image.py:981: UserWarning: Palette images with Transparency expressed in bytes should be converted to RGBA images\n",
            "  warnings.warn(\n",
            "Validation Epoch 71/80:  24%|██▍       | 42/174 [00:02<00:06, 18.95it/s]/home/treerspeaking/my_python_3.11.7/lib/python3.11/site-packages/PIL/Image.py:981: UserWarning: Palette images with Transparency expressed in bytes should be converted to RGBA images\n",
            "  warnings.warn(\n",
            "Validation Epoch 71/80:  32%|███▏      | 55/174 [00:03<00:06, 19.75it/s]/home/treerspeaking/my_python_3.11.7/lib/python3.11/site-packages/PIL/Image.py:981: UserWarning: Palette images with Transparency expressed in bytes should be converted to RGBA images\n",
            "  warnings.warn(\n",
            "Validation Epoch 71/80:  67%|██████▋   | 117/174 [00:06<00:02, 19.85it/s]/home/treerspeaking/my_python_3.11.7/lib/python3.11/site-packages/PIL/Image.py:981: UserWarning: Palette images with Transparency expressed in bytes should be converted to RGBA images\n",
            "  warnings.warn(\n",
            "Validation Epoch 71/80: 100%|██████████| 174/174 [00:09<00:00, 17.53it/s]\n"
          ]
        },
        {
          "name": "stdout",
          "output_type": "stream",
          "text": [
            "Validation Loss: 0.5087; Acc: 87.8150\n",
            "saved model at epoch 70: ./models/epoch_70.pth\n"
          ]
        },
        {
          "name": "stderr",
          "output_type": "stream",
          "text": [
            "/home/treerspeaking/my_python_3.11.7/lib/python3.11/site-packages/PIL/Image.py:981: UserWarning: Palette images with Transparency expressed in bytes should be converted to RGBA images\n",
            "  warnings.warn(\n",
            "/home/treerspeaking/my_python_3.11.7/lib/python3.11/site-packages/PIL/Image.py:981: UserWarning: Palette images with Transparency expressed in bytes should be converted to RGBA images\n",
            "  warnings.warn(\n",
            "/home/treerspeaking/my_python_3.11.7/lib/python3.11/site-packages/PIL/Image.py:981: UserWarning: Palette images with Transparency expressed in bytes should be converted to RGBA images\n",
            "  warnings.warn(\n",
            "/home/treerspeaking/my_python_3.11.7/lib/python3.11/site-packages/PIL/Image.py:981: UserWarning: Palette images with Transparency expressed in bytes should be converted to RGBA images\n",
            "  warnings.warn(\n",
            "/home/treerspeaking/my_python_3.11.7/lib/python3.11/site-packages/PIL/Image.py:981: UserWarning: Palette images with Transparency expressed in bytes should be converted to RGBA images\n",
            "  warnings.warn(\n",
            "/home/treerspeaking/my_python_3.11.7/lib/python3.11/site-packages/PIL/Image.py:981: UserWarning: Palette images with Transparency expressed in bytes should be converted to RGBA images\n",
            "  warnings.warn(\n"
          ]
        },
        {
          "name": "stdout",
          "output_type": "stream",
          "text": [
            "Training Loss: 0.233742 ; Acc: 91.3063\n"
          ]
        },
        {
          "name": "stderr",
          "output_type": "stream",
          "text": [
            "Validation Epoch 72/80:   1%|          | 2/174 [00:00<00:41,  4.15it/s]/home/treerspeaking/my_python_3.11.7/lib/python3.11/site-packages/PIL/Image.py:981: UserWarning: Palette images with Transparency expressed in bytes should be converted to RGBA images\n",
            "  warnings.warn(\n",
            "Validation Epoch 72/80:  18%|█▊        | 32/174 [00:02<00:08, 16.92it/s]/home/treerspeaking/my_python_3.11.7/lib/python3.11/site-packages/PIL/Image.py:981: UserWarning: Palette images with Transparency expressed in bytes should be converted to RGBA images\n",
            "  warnings.warn(\n",
            "Validation Epoch 72/80:  21%|██        | 36/174 [00:02<00:07, 18.15it/s]/home/treerspeaking/my_python_3.11.7/lib/python3.11/site-packages/PIL/Image.py:981: UserWarning: Palette images with Transparency expressed in bytes should be converted to RGBA images\n",
            "  warnings.warn(\n",
            "Validation Epoch 72/80:  24%|██▍       | 42/174 [00:02<00:06, 19.07it/s]/home/treerspeaking/my_python_3.11.7/lib/python3.11/site-packages/PIL/Image.py:981: UserWarning: Palette images with Transparency expressed in bytes should be converted to RGBA images\n",
            "  warnings.warn(\n",
            "Validation Epoch 72/80:  32%|███▏      | 55/174 [00:03<00:06, 19.67it/s]/home/treerspeaking/my_python_3.11.7/lib/python3.11/site-packages/PIL/Image.py:981: UserWarning: Palette images with Transparency expressed in bytes should be converted to RGBA images\n",
            "  warnings.warn(\n",
            "Validation Epoch 72/80:  67%|██████▋   | 117/174 [00:06<00:02, 19.82it/s]/home/treerspeaking/my_python_3.11.7/lib/python3.11/site-packages/PIL/Image.py:981: UserWarning: Palette images with Transparency expressed in bytes should be converted to RGBA images\n",
            "  warnings.warn(\n",
            "Validation Epoch 72/80: 100%|██████████| 174/174 [00:09<00:00, 17.58it/s]"
          ]
        },
        {
          "name": "stdout",
          "output_type": "stream",
          "text": [
            "Validation Loss: 0.5068; Acc: 87.9410\n",
            "saved model at epoch 71: ./models/epoch_71.pth\n"
          ]
        },
        {
          "name": "stderr",
          "output_type": "stream",
          "text": [
            "\n",
            "/home/treerspeaking/my_python_3.11.7/lib/python3.11/site-packages/PIL/Image.py:981: UserWarning: Palette images with Transparency expressed in bytes should be converted to RGBA images\n",
            "  warnings.warn(\n",
            "/home/treerspeaking/my_python_3.11.7/lib/python3.11/site-packages/PIL/Image.py:981: UserWarning: Palette images with Transparency expressed in bytes should be converted to RGBA images\n",
            "  warnings.warn(\n",
            "/home/treerspeaking/my_python_3.11.7/lib/python3.11/site-packages/PIL/Image.py:981: UserWarning: Palette images with Transparency expressed in bytes should be converted to RGBA images\n",
            "  warnings.warn(\n",
            "/home/treerspeaking/my_python_3.11.7/lib/python3.11/site-packages/PIL/Image.py:981: UserWarning: Palette images with Transparency expressed in bytes should be converted to RGBA images\n",
            "  warnings.warn(\n",
            "/home/treerspeaking/my_python_3.11.7/lib/python3.11/site-packages/PIL/Image.py:981: UserWarning: Palette images with Transparency expressed in bytes should be converted to RGBA images\n",
            "  warnings.warn(\n",
            "/home/treerspeaking/my_python_3.11.7/lib/python3.11/site-packages/PIL/Image.py:981: UserWarning: Palette images with Transparency expressed in bytes should be converted to RGBA images\n",
            "  warnings.warn(\n"
          ]
        },
        {
          "name": "stdout",
          "output_type": "stream",
          "text": [
            "Training Loss: 0.225018 ; Acc: 91.7473\n"
          ]
        },
        {
          "name": "stderr",
          "output_type": "stream",
          "text": [
            "Validation Epoch 73/80:   1%|          | 2/174 [00:00<00:40,  4.29it/s]/home/treerspeaking/my_python_3.11.7/lib/python3.11/site-packages/PIL/Image.py:981: UserWarning: Palette images with Transparency expressed in bytes should be converted to RGBA images\n",
            "  warnings.warn(\n",
            "Validation Epoch 73/80:  17%|█▋        | 30/174 [00:02<00:09, 15.61it/s]/home/treerspeaking/my_python_3.11.7/lib/python3.11/site-packages/PIL/Image.py:981: UserWarning: Palette images with Transparency expressed in bytes should be converted to RGBA images\n",
            "  warnings.warn(\n",
            "Validation Epoch 73/80:  20%|██        | 35/174 [00:02<00:07, 17.48it/s]/home/treerspeaking/my_python_3.11.7/lib/python3.11/site-packages/PIL/Image.py:981: UserWarning: Palette images with Transparency expressed in bytes should be converted to RGBA images\n",
            "  warnings.warn(\n",
            "Validation Epoch 73/80:  24%|██▍       | 42/174 [00:02<00:06, 19.03it/s]/home/treerspeaking/my_python_3.11.7/lib/python3.11/site-packages/PIL/Image.py:981: UserWarning: Palette images with Transparency expressed in bytes should be converted to RGBA images\n",
            "  warnings.warn(\n",
            "Validation Epoch 73/80:  32%|███▏      | 55/174 [00:03<00:06, 19.78it/s]/home/treerspeaking/my_python_3.11.7/lib/python3.11/site-packages/PIL/Image.py:981: UserWarning: Palette images with Transparency expressed in bytes should be converted to RGBA images\n",
            "  warnings.warn(\n",
            "Validation Epoch 73/80:  67%|██████▋   | 116/174 [00:06<00:02, 19.91it/s]/home/treerspeaking/my_python_3.11.7/lib/python3.11/site-packages/PIL/Image.py:981: UserWarning: Palette images with Transparency expressed in bytes should be converted to RGBA images\n",
            "  warnings.warn(\n",
            "Validation Epoch 73/80: 100%|██████████| 174/174 [00:09<00:00, 17.61it/s]"
          ]
        },
        {
          "name": "stdout",
          "output_type": "stream",
          "text": [
            "Validation Loss: 0.5075; Acc: 87.9770\n",
            "saved model at epoch 72: ./models/epoch_72.pth\n"
          ]
        },
        {
          "name": "stderr",
          "output_type": "stream",
          "text": [
            "\n",
            "/home/treerspeaking/my_python_3.11.7/lib/python3.11/site-packages/PIL/Image.py:981: UserWarning: Palette images with Transparency expressed in bytes should be converted to RGBA images\n",
            "  warnings.warn(\n",
            "/home/treerspeaking/my_python_3.11.7/lib/python3.11/site-packages/PIL/Image.py:981: UserWarning: Palette images with Transparency expressed in bytes should be converted to RGBA images\n",
            "  warnings.warn(\n",
            "/home/treerspeaking/my_python_3.11.7/lib/python3.11/site-packages/PIL/Image.py:981: UserWarning: Palette images with Transparency expressed in bytes should be converted to RGBA images\n",
            "  warnings.warn(\n",
            "/home/treerspeaking/my_python_3.11.7/lib/python3.11/site-packages/PIL/Image.py:981: UserWarning: Palette images with Transparency expressed in bytes should be converted to RGBA images\n",
            "  warnings.warn(\n",
            "/home/treerspeaking/my_python_3.11.7/lib/python3.11/site-packages/PIL/Image.py:981: UserWarning: Palette images with Transparency expressed in bytes should be converted to RGBA images\n",
            "  warnings.warn(\n",
            "/home/treerspeaking/my_python_3.11.7/lib/python3.11/site-packages/PIL/Image.py:981: UserWarning: Palette images with Transparency expressed in bytes should be converted to RGBA images\n",
            "  warnings.warn(\n"
          ]
        },
        {
          "name": "stdout",
          "output_type": "stream",
          "text": [
            "Training Loss: 0.222929 ; Acc: 91.8598\n"
          ]
        },
        {
          "name": "stderr",
          "output_type": "stream",
          "text": [
            "Validation Epoch 74/80:   1%|          | 2/174 [00:00<00:41,  4.10it/s]/home/treerspeaking/my_python_3.11.7/lib/python3.11/site-packages/PIL/Image.py:981: UserWarning: Palette images with Transparency expressed in bytes should be converted to RGBA images\n",
            "  warnings.warn(\n",
            "Validation Epoch 74/80:  18%|█▊        | 32/174 [00:02<00:08, 16.82it/s]/home/treerspeaking/my_python_3.11.7/lib/python3.11/site-packages/PIL/Image.py:981: UserWarning: Palette images with Transparency expressed in bytes should be converted to RGBA images\n",
            "  warnings.warn(\n",
            "Validation Epoch 74/80:  20%|█▉        | 34/174 [00:02<00:07, 17.56it/s]/home/treerspeaking/my_python_3.11.7/lib/python3.11/site-packages/PIL/Image.py:981: UserWarning: Palette images with Transparency expressed in bytes should be converted to RGBA images\n",
            "  warnings.warn(\n",
            "Validation Epoch 74/80:  25%|██▍       | 43/174 [00:02<00:06, 19.19it/s]/home/treerspeaking/my_python_3.11.7/lib/python3.11/site-packages/PIL/Image.py:981: UserWarning: Palette images with Transparency expressed in bytes should be converted to RGBA images\n",
            "  warnings.warn(\n",
            "Validation Epoch 74/80:  32%|███▏      | 55/174 [00:03<00:06, 19.76it/s]/home/treerspeaking/my_python_3.11.7/lib/python3.11/site-packages/PIL/Image.py:981: UserWarning: Palette images with Transparency expressed in bytes should be converted to RGBA images\n",
            "  warnings.warn(\n",
            "Validation Epoch 74/80:  67%|██████▋   | 117/174 [00:06<00:02, 19.87it/s]/home/treerspeaking/my_python_3.11.7/lib/python3.11/site-packages/PIL/Image.py:981: UserWarning: Palette images with Transparency expressed in bytes should be converted to RGBA images\n",
            "  warnings.warn(\n",
            "Validation Epoch 74/80: 100%|██████████| 174/174 [00:09<00:00, 17.63it/s]\n"
          ]
        },
        {
          "name": "stdout",
          "output_type": "stream",
          "text": [
            "Validation Loss: 0.5095; Acc: 87.8870\n",
            "saved model at epoch 73: ./models/epoch_73.pth\n"
          ]
        },
        {
          "name": "stderr",
          "output_type": "stream",
          "text": [
            "/home/treerspeaking/my_python_3.11.7/lib/python3.11/site-packages/PIL/Image.py:981: UserWarning: Palette images with Transparency expressed in bytes should be converted to RGBA images\n",
            "  warnings.warn(\n",
            "/home/treerspeaking/my_python_3.11.7/lib/python3.11/site-packages/PIL/Image.py:981: UserWarning: Palette images with Transparency expressed in bytes should be converted to RGBA images\n",
            "  warnings.warn(\n",
            "/home/treerspeaking/my_python_3.11.7/lib/python3.11/site-packages/PIL/Image.py:981: UserWarning: Palette images with Transparency expressed in bytes should be converted to RGBA images\n",
            "  warnings.warn(\n",
            "/home/treerspeaking/my_python_3.11.7/lib/python3.11/site-packages/PIL/Image.py:981: UserWarning: Palette images with Transparency expressed in bytes should be converted to RGBA images\n",
            "  warnings.warn(\n",
            "/home/treerspeaking/my_python_3.11.7/lib/python3.11/site-packages/PIL/Image.py:981: UserWarning: Palette images with Transparency expressed in bytes should be converted to RGBA images\n",
            "  warnings.warn(\n",
            "/home/treerspeaking/my_python_3.11.7/lib/python3.11/site-packages/PIL/Image.py:981: UserWarning: Palette images with Transparency expressed in bytes should be converted to RGBA images\n",
            "  warnings.warn(\n"
          ]
        },
        {
          "name": "stdout",
          "output_type": "stream",
          "text": [
            "Training Loss: 0.232351 ; Acc: 91.3738\n"
          ]
        },
        {
          "name": "stderr",
          "output_type": "stream",
          "text": [
            "Validation Epoch 75/80:   1%|          | 2/174 [00:00<00:42,  4.09it/s]/home/treerspeaking/my_python_3.11.7/lib/python3.11/site-packages/PIL/Image.py:981: UserWarning: Palette images with Transparency expressed in bytes should be converted to RGBA images\n",
            "  warnings.warn(\n",
            "Validation Epoch 75/80:  18%|█▊        | 32/174 [00:02<00:08, 16.92it/s]/home/treerspeaking/my_python_3.11.7/lib/python3.11/site-packages/PIL/Image.py:981: UserWarning: Palette images with Transparency expressed in bytes should be converted to RGBA images\n",
            "  warnings.warn(\n",
            "Validation Epoch 75/80:  21%|██        | 36/174 [00:02<00:07, 17.99it/s]/home/treerspeaking/my_python_3.11.7/lib/python3.11/site-packages/PIL/Image.py:981: UserWarning: Palette images with Transparency expressed in bytes should be converted to RGBA images\n",
            "  warnings.warn(\n",
            "Validation Epoch 75/80:  24%|██▍       | 42/174 [00:02<00:06, 19.00it/s]/home/treerspeaking/my_python_3.11.7/lib/python3.11/site-packages/PIL/Image.py:981: UserWarning: Palette images with Transparency expressed in bytes should be converted to RGBA images\n",
            "  warnings.warn(\n",
            "Validation Epoch 75/80:  32%|███▏      | 55/174 [00:03<00:06, 19.67it/s]/home/treerspeaking/my_python_3.11.7/lib/python3.11/site-packages/PIL/Image.py:981: UserWarning: Palette images with Transparency expressed in bytes should be converted to RGBA images\n",
            "  warnings.warn(\n",
            "Validation Epoch 75/80:  67%|██████▋   | 116/174 [00:06<00:02, 19.92it/s]/home/treerspeaking/my_python_3.11.7/lib/python3.11/site-packages/PIL/Image.py:981: UserWarning: Palette images with Transparency expressed in bytes should be converted to RGBA images\n",
            "  warnings.warn(\n",
            "Validation Epoch 75/80: 100%|██████████| 174/174 [00:09<00:00, 17.48it/s]\n"
          ]
        },
        {
          "name": "stdout",
          "output_type": "stream",
          "text": [
            "Validation Loss: 0.5083; Acc: 87.9950\n",
            "saved model at epoch 74: ./models/epoch_74.pth\n"
          ]
        },
        {
          "name": "stderr",
          "output_type": "stream",
          "text": [
            "/home/treerspeaking/my_python_3.11.7/lib/python3.11/site-packages/PIL/Image.py:981: UserWarning: Palette images with Transparency expressed in bytes should be converted to RGBA images\n",
            "  warnings.warn(\n",
            "/home/treerspeaking/my_python_3.11.7/lib/python3.11/site-packages/PIL/Image.py:981: UserWarning: Palette images with Transparency expressed in bytes should be converted to RGBA images\n",
            "  warnings.warn(\n",
            "/home/treerspeaking/my_python_3.11.7/lib/python3.11/site-packages/PIL/Image.py:981: UserWarning: Palette images with Transparency expressed in bytes should be converted to RGBA images\n",
            "  warnings.warn(\n",
            "/home/treerspeaking/my_python_3.11.7/lib/python3.11/site-packages/PIL/Image.py:981: UserWarning: Palette images with Transparency expressed in bytes should be converted to RGBA images\n",
            "  warnings.warn(\n",
            "/home/treerspeaking/my_python_3.11.7/lib/python3.11/site-packages/PIL/Image.py:981: UserWarning: Palette images with Transparency expressed in bytes should be converted to RGBA images\n",
            "  warnings.warn(\n",
            "/home/treerspeaking/my_python_3.11.7/lib/python3.11/site-packages/PIL/Image.py:981: UserWarning: Palette images with Transparency expressed in bytes should be converted to RGBA images\n",
            "  warnings.warn(\n"
          ]
        },
        {
          "name": "stdout",
          "output_type": "stream",
          "text": [
            "Training Loss: 0.226075 ; Acc: 91.8508\n"
          ]
        },
        {
          "name": "stderr",
          "output_type": "stream",
          "text": [
            "Validation Epoch 76/80:   1%|          | 2/174 [00:00<00:41,  4.13it/s]/home/treerspeaking/my_python_3.11.7/lib/python3.11/site-packages/PIL/Image.py:981: UserWarning: Palette images with Transparency expressed in bytes should be converted to RGBA images\n",
            "  warnings.warn(\n",
            "Validation Epoch 76/80:  18%|█▊        | 31/174 [00:02<00:08, 16.80it/s]/home/treerspeaking/my_python_3.11.7/lib/python3.11/site-packages/PIL/Image.py:981: UserWarning: Palette images with Transparency expressed in bytes should be converted to RGBA images\n",
            "  warnings.warn(\n",
            "Validation Epoch 76/80:  20%|██        | 35/174 [00:02<00:07, 18.02it/s]/home/treerspeaking/my_python_3.11.7/lib/python3.11/site-packages/PIL/Image.py:981: UserWarning: Palette images with Transparency expressed in bytes should be converted to RGBA images\n",
            "  warnings.warn(\n",
            "Validation Epoch 76/80:  25%|██▍       | 43/174 [00:02<00:06, 19.14it/s]/home/treerspeaking/my_python_3.11.7/lib/python3.11/site-packages/PIL/Image.py:981: UserWarning: Palette images with Transparency expressed in bytes should be converted to RGBA images\n",
            "  warnings.warn(\n",
            "Validation Epoch 76/80:  32%|███▏      | 55/174 [00:03<00:06, 19.77it/s]/home/treerspeaking/my_python_3.11.7/lib/python3.11/site-packages/PIL/Image.py:981: UserWarning: Palette images with Transparency expressed in bytes should be converted to RGBA images\n",
            "  warnings.warn(\n",
            "Validation Epoch 76/80:  67%|██████▋   | 117/174 [00:06<00:02, 19.87it/s]/home/treerspeaking/my_python_3.11.7/lib/python3.11/site-packages/PIL/Image.py:981: UserWarning: Palette images with Transparency expressed in bytes should be converted to RGBA images\n",
            "  warnings.warn(\n",
            "Validation Epoch 76/80: 100%|██████████| 174/174 [00:09<00:00, 17.54it/s]\n"
          ]
        },
        {
          "name": "stdout",
          "output_type": "stream",
          "text": [
            "Validation Loss: 0.5068; Acc: 87.8510\n",
            "saved model at epoch 75: ./models/epoch_75.pth\n"
          ]
        },
        {
          "name": "stderr",
          "output_type": "stream",
          "text": [
            "/home/treerspeaking/my_python_3.11.7/lib/python3.11/site-packages/PIL/Image.py:981: UserWarning: Palette images with Transparency expressed in bytes should be converted to RGBA images\n",
            "  warnings.warn(\n",
            "/home/treerspeaking/my_python_3.11.7/lib/python3.11/site-packages/PIL/Image.py:981: UserWarning: Palette images with Transparency expressed in bytes should be converted to RGBA images\n",
            "  warnings.warn(\n",
            "/home/treerspeaking/my_python_3.11.7/lib/python3.11/site-packages/PIL/Image.py:981: UserWarning: Palette images with Transparency expressed in bytes should be converted to RGBA images\n",
            "  warnings.warn(\n",
            "/home/treerspeaking/my_python_3.11.7/lib/python3.11/site-packages/PIL/Image.py:981: UserWarning: Palette images with Transparency expressed in bytes should be converted to RGBA images\n",
            "  warnings.warn(\n",
            "/home/treerspeaking/my_python_3.11.7/lib/python3.11/site-packages/PIL/Image.py:981: UserWarning: Palette images with Transparency expressed in bytes should be converted to RGBA images\n",
            "  warnings.warn(\n",
            "/home/treerspeaking/my_python_3.11.7/lib/python3.11/site-packages/PIL/Image.py:981: UserWarning: Palette images with Transparency expressed in bytes should be converted to RGBA images\n",
            "  warnings.warn(\n"
          ]
        },
        {
          "name": "stdout",
          "output_type": "stream",
          "text": [
            "Training Loss: 0.228158 ; Acc: 91.5178\n"
          ]
        },
        {
          "name": "stderr",
          "output_type": "stream",
          "text": [
            "Validation Epoch 77/80:   1%|          | 2/174 [00:00<00:42,  4.08it/s]/home/treerspeaking/my_python_3.11.7/lib/python3.11/site-packages/PIL/Image.py:981: UserWarning: Palette images with Transparency expressed in bytes should be converted to RGBA images\n",
            "  warnings.warn(\n",
            "Validation Epoch 77/80:  18%|█▊        | 32/174 [00:02<00:08, 16.63it/s]/home/treerspeaking/my_python_3.11.7/lib/python3.11/site-packages/PIL/Image.py:981: UserWarning: Palette images with Transparency expressed in bytes should be converted to RGBA images\n",
            "  warnings.warn(\n",
            "Validation Epoch 77/80:  21%|██        | 36/174 [00:02<00:07, 18.01it/s]/home/treerspeaking/my_python_3.11.7/lib/python3.11/site-packages/PIL/Image.py:981: UserWarning: Palette images with Transparency expressed in bytes should be converted to RGBA images\n",
            "  warnings.warn(\n",
            "Validation Epoch 77/80:  25%|██▍       | 43/174 [00:02<00:06, 19.11it/s]/home/treerspeaking/my_python_3.11.7/lib/python3.11/site-packages/PIL/Image.py:981: UserWarning: Palette images with Transparency expressed in bytes should be converted to RGBA images\n",
            "  warnings.warn(\n",
            "Validation Epoch 77/80:  32%|███▏      | 55/174 [00:03<00:06, 19.74it/s]/home/treerspeaking/my_python_3.11.7/lib/python3.11/site-packages/PIL/Image.py:981: UserWarning: Palette images with Transparency expressed in bytes should be converted to RGBA images\n",
            "  warnings.warn(\n",
            "Validation Epoch 77/80:  68%|██████▊   | 118/174 [00:06<00:02, 20.04it/s]/home/treerspeaking/my_python_3.11.7/lib/python3.11/site-packages/PIL/Image.py:981: UserWarning: Palette images with Transparency expressed in bytes should be converted to RGBA images\n",
            "  warnings.warn(\n",
            "Validation Epoch 77/80: 100%|██████████| 174/174 [00:09<00:00, 17.56it/s]\n"
          ]
        },
        {
          "name": "stdout",
          "output_type": "stream",
          "text": [
            "Validation Loss: 0.5089; Acc: 87.9590\n",
            "saved model at epoch 76: ./models/epoch_76.pth\n"
          ]
        },
        {
          "name": "stderr",
          "output_type": "stream",
          "text": [
            "/home/treerspeaking/my_python_3.11.7/lib/python3.11/site-packages/PIL/Image.py:981: UserWarning: Palette images with Transparency expressed in bytes should be converted to RGBA images\n",
            "  warnings.warn(\n",
            "/home/treerspeaking/my_python_3.11.7/lib/python3.11/site-packages/PIL/Image.py:981: UserWarning: Palette images with Transparency expressed in bytes should be converted to RGBA images\n",
            "  warnings.warn(\n",
            "/home/treerspeaking/my_python_3.11.7/lib/python3.11/site-packages/PIL/Image.py:981: UserWarning: Palette images with Transparency expressed in bytes should be converted to RGBA images\n",
            "  warnings.warn(\n",
            "/home/treerspeaking/my_python_3.11.7/lib/python3.11/site-packages/PIL/Image.py:981: UserWarning: Palette images with Transparency expressed in bytes should be converted to RGBA images\n",
            "  warnings.warn(\n",
            "/home/treerspeaking/my_python_3.11.7/lib/python3.11/site-packages/PIL/Image.py:981: UserWarning: Palette images with Transparency expressed in bytes should be converted to RGBA images\n",
            "  warnings.warn(\n",
            "/home/treerspeaking/my_python_3.11.7/lib/python3.11/site-packages/PIL/Image.py:981: UserWarning: Palette images with Transparency expressed in bytes should be converted to RGBA images\n",
            "  warnings.warn(\n"
          ]
        },
        {
          "name": "stdout",
          "output_type": "stream",
          "text": [
            "Training Loss: 0.232590 ; Acc: 91.2253\n"
          ]
        },
        {
          "name": "stderr",
          "output_type": "stream",
          "text": [
            "Validation Epoch 78/80:   1%|          | 2/174 [00:00<00:43,  3.96it/s]/home/treerspeaking/my_python_3.11.7/lib/python3.11/site-packages/PIL/Image.py:981: UserWarning: Palette images with Transparency expressed in bytes should be converted to RGBA images\n",
            "  warnings.warn(\n",
            "Validation Epoch 78/80:  18%|█▊        | 32/174 [00:02<00:08, 16.63it/s]/home/treerspeaking/my_python_3.11.7/lib/python3.11/site-packages/PIL/Image.py:981: UserWarning: Palette images with Transparency expressed in bytes should be converted to RGBA images\n",
            "  warnings.warn(\n",
            "Validation Epoch 78/80:  20%|█▉        | 34/174 [00:02<00:08, 17.34it/s]/home/treerspeaking/my_python_3.11.7/lib/python3.11/site-packages/PIL/Image.py:981: UserWarning: Palette images with Transparency expressed in bytes should be converted to RGBA images\n",
            "  warnings.warn(\n",
            "Validation Epoch 78/80:  24%|██▍       | 42/174 [00:02<00:06, 19.02it/s]/home/treerspeaking/my_python_3.11.7/lib/python3.11/site-packages/PIL/Image.py:981: UserWarning: Palette images with Transparency expressed in bytes should be converted to RGBA images\n",
            "  warnings.warn(\n",
            "Validation Epoch 78/80:  32%|███▏      | 55/174 [00:03<00:06, 19.71it/s]/home/treerspeaking/my_python_3.11.7/lib/python3.11/site-packages/PIL/Image.py:981: UserWarning: Palette images with Transparency expressed in bytes should be converted to RGBA images\n",
            "  warnings.warn(\n",
            "Validation Epoch 78/80:  67%|██████▋   | 117/174 [00:06<00:02, 19.74it/s]/home/treerspeaking/my_python_3.11.7/lib/python3.11/site-packages/PIL/Image.py:981: UserWarning: Palette images with Transparency expressed in bytes should be converted to RGBA images\n",
            "  warnings.warn(\n",
            "Validation Epoch 78/80: 100%|██████████| 174/174 [00:09<00:00, 17.47it/s]"
          ]
        },
        {
          "name": "stdout",
          "output_type": "stream",
          "text": [
            "Validation Loss: 0.5050; Acc: 88.0130\n",
            "saved model at epoch 77: ./models/epoch_77.pth\n"
          ]
        },
        {
          "name": "stderr",
          "output_type": "stream",
          "text": [
            "\n",
            "/home/treerspeaking/my_python_3.11.7/lib/python3.11/site-packages/PIL/Image.py:981: UserWarning: Palette images with Transparency expressed in bytes should be converted to RGBA images\n",
            "  warnings.warn(\n",
            "/home/treerspeaking/my_python_3.11.7/lib/python3.11/site-packages/PIL/Image.py:981: UserWarning: Palette images with Transparency expressed in bytes should be converted to RGBA images\n",
            "  warnings.warn(\n",
            "/home/treerspeaking/my_python_3.11.7/lib/python3.11/site-packages/PIL/Image.py:981: UserWarning: Palette images with Transparency expressed in bytes should be converted to RGBA images\n",
            "  warnings.warn(\n",
            "/home/treerspeaking/my_python_3.11.7/lib/python3.11/site-packages/PIL/Image.py:981: UserWarning: Palette images with Transparency expressed in bytes should be converted to RGBA images\n",
            "  warnings.warn(\n",
            "/home/treerspeaking/my_python_3.11.7/lib/python3.11/site-packages/PIL/Image.py:981: UserWarning: Palette images with Transparency expressed in bytes should be converted to RGBA images\n",
            "  warnings.warn(\n",
            "/home/treerspeaking/my_python_3.11.7/lib/python3.11/site-packages/PIL/Image.py:981: UserWarning: Palette images with Transparency expressed in bytes should be converted to RGBA images\n",
            "  warnings.warn(\n"
          ]
        },
        {
          "name": "stdout",
          "output_type": "stream",
          "text": [
            "Training Loss: 0.225821 ; Acc: 91.5898\n"
          ]
        },
        {
          "name": "stderr",
          "output_type": "stream",
          "text": [
            "Validation Epoch 79/80:   1%|          | 2/174 [00:00<00:40,  4.23it/s]/home/treerspeaking/my_python_3.11.7/lib/python3.11/site-packages/PIL/Image.py:981: UserWarning: Palette images with Transparency expressed in bytes should be converted to RGBA images\n",
            "  warnings.warn(\n",
            "Validation Epoch 79/80:  18%|█▊        | 32/174 [00:02<00:08, 16.59it/s]/home/treerspeaking/my_python_3.11.7/lib/python3.11/site-packages/PIL/Image.py:981: UserWarning: Palette images with Transparency expressed in bytes should be converted to RGBA images\n",
            "  warnings.warn(\n",
            "Validation Epoch 79/80:  21%|██        | 36/174 [00:02<00:07, 17.92it/s]/home/treerspeaking/my_python_3.11.7/lib/python3.11/site-packages/PIL/Image.py:981: UserWarning: Palette images with Transparency expressed in bytes should be converted to RGBA images\n",
            "  warnings.warn(\n",
            "Validation Epoch 79/80:  25%|██▍       | 43/174 [00:02<00:06, 19.08it/s]/home/treerspeaking/my_python_3.11.7/lib/python3.11/site-packages/PIL/Image.py:981: UserWarning: Palette images with Transparency expressed in bytes should be converted to RGBA images\n",
            "  warnings.warn(\n",
            "Validation Epoch 79/80:  32%|███▏      | 56/174 [00:03<00:06, 19.64it/s]/home/treerspeaking/my_python_3.11.7/lib/python3.11/site-packages/PIL/Image.py:981: UserWarning: Palette images with Transparency expressed in bytes should be converted to RGBA images\n",
            "  warnings.warn(\n",
            "Validation Epoch 79/80:  67%|██████▋   | 117/174 [00:06<00:02, 19.74it/s]/home/treerspeaking/my_python_3.11.7/lib/python3.11/site-packages/PIL/Image.py:981: UserWarning: Palette images with Transparency expressed in bytes should be converted to RGBA images\n",
            "  warnings.warn(\n",
            "Validation Epoch 79/80: 100%|██████████| 174/174 [00:09<00:00, 17.47it/s]"
          ]
        },
        {
          "name": "stdout",
          "output_type": "stream",
          "text": [
            "Validation Loss: 0.5084; Acc: 87.9950\n",
            "saved model at epoch 78: ./models/epoch_78.pth\n"
          ]
        },
        {
          "name": "stderr",
          "output_type": "stream",
          "text": [
            "\n",
            "/home/treerspeaking/my_python_3.11.7/lib/python3.11/site-packages/PIL/Image.py:981: UserWarning: Palette images with Transparency expressed in bytes should be converted to RGBA images\n",
            "  warnings.warn(\n",
            "/home/treerspeaking/my_python_3.11.7/lib/python3.11/site-packages/PIL/Image.py:981: UserWarning: Palette images with Transparency expressed in bytes should be converted to RGBA images\n",
            "  warnings.warn(\n",
            "/home/treerspeaking/my_python_3.11.7/lib/python3.11/site-packages/PIL/Image.py:981: UserWarning: Palette images with Transparency expressed in bytes should be converted to RGBA images\n",
            "  warnings.warn(\n",
            "/home/treerspeaking/my_python_3.11.7/lib/python3.11/site-packages/PIL/Image.py:981: UserWarning: Palette images with Transparency expressed in bytes should be converted to RGBA images\n",
            "  warnings.warn(\n",
            "/home/treerspeaking/my_python_3.11.7/lib/python3.11/site-packages/PIL/Image.py:981: UserWarning: Palette images with Transparency expressed in bytes should be converted to RGBA images\n",
            "  warnings.warn(\n",
            "/home/treerspeaking/my_python_3.11.7/lib/python3.11/site-packages/PIL/Image.py:981: UserWarning: Palette images with Transparency expressed in bytes should be converted to RGBA images\n",
            "  warnings.warn(\n"
          ]
        },
        {
          "name": "stdout",
          "output_type": "stream",
          "text": [
            "Training Loss: 0.230341 ; Acc: 91.6618\n"
          ]
        },
        {
          "name": "stderr",
          "output_type": "stream",
          "text": [
            "Validation Epoch 80/80:   2%|▏         | 3/174 [00:00<00:27,  6.13it/s]/home/treerspeaking/my_python_3.11.7/lib/python3.11/site-packages/PIL/Image.py:981: UserWarning: Palette images with Transparency expressed in bytes should be converted to RGBA images\n",
            "  warnings.warn(\n",
            "Validation Epoch 80/80:  17%|█▋        | 30/174 [00:02<00:09, 15.72it/s]/home/treerspeaking/my_python_3.11.7/lib/python3.11/site-packages/PIL/Image.py:981: UserWarning: Palette images with Transparency expressed in bytes should be converted to RGBA images\n",
            "  warnings.warn(\n",
            "Validation Epoch 80/80:  21%|██        | 36/174 [00:02<00:07, 17.90it/s]/home/treerspeaking/my_python_3.11.7/lib/python3.11/site-packages/PIL/Image.py:981: UserWarning: Palette images with Transparency expressed in bytes should be converted to RGBA images\n",
            "  warnings.warn(\n",
            "Validation Epoch 80/80:  25%|██▍       | 43/174 [00:02<00:06, 19.10it/s]/home/treerspeaking/my_python_3.11.7/lib/python3.11/site-packages/PIL/Image.py:981: UserWarning: Palette images with Transparency expressed in bytes should be converted to RGBA images\n",
            "  warnings.warn(\n",
            "Validation Epoch 80/80:  32%|███▏      | 55/174 [00:03<00:06, 19.71it/s]/home/treerspeaking/my_python_3.11.7/lib/python3.11/site-packages/PIL/Image.py:981: UserWarning: Palette images with Transparency expressed in bytes should be converted to RGBA images\n",
            "  warnings.warn(\n",
            "Validation Epoch 80/80:  68%|██████▊   | 118/174 [00:06<00:02, 19.76it/s]/home/treerspeaking/my_python_3.11.7/lib/python3.11/site-packages/PIL/Image.py:981: UserWarning: Palette images with Transparency expressed in bytes should be converted to RGBA images\n",
            "  warnings.warn(\n",
            "Validation Epoch 80/80: 100%|██████████| 174/174 [00:09<00:00, 17.49it/s]\n"
          ]
        },
        {
          "name": "stdout",
          "output_type": "stream",
          "text": [
            "Validation Loss: 0.5111; Acc: 88.0310\n",
            "saved model at epoch 79: ./models/epoch_79.pth\n"
          ]
        },
        {
          "name": "stderr",
          "output_type": "stream",
          "text": [
            "/home/treerspeaking/my_python_3.11.7/lib/python3.11/site-packages/PIL/Image.py:981: UserWarning: Palette images with Transparency expressed in bytes should be converted to RGBA images\n",
            "  warnings.warn(\n",
            "/home/treerspeaking/my_python_3.11.7/lib/python3.11/site-packages/PIL/Image.py:981: UserWarning: Palette images with Transparency expressed in bytes should be converted to RGBA images\n",
            "  warnings.warn(\n",
            "/home/treerspeaking/my_python_3.11.7/lib/python3.11/site-packages/PIL/Image.py:981: UserWarning: Palette images with Transparency expressed in bytes should be converted to RGBA images\n",
            "  warnings.warn(\n",
            "/home/treerspeaking/my_python_3.11.7/lib/python3.11/site-packages/PIL/Image.py:981: UserWarning: Palette images with Transparency expressed in bytes should be converted to RGBA images\n",
            "  warnings.warn(\n",
            "/home/treerspeaking/my_python_3.11.7/lib/python3.11/site-packages/PIL/Image.py:981: UserWarning: Palette images with Transparency expressed in bytes should be converted to RGBA images\n",
            "  warnings.warn(\n",
            "/home/treerspeaking/my_python_3.11.7/lib/python3.11/site-packages/PIL/Image.py:981: UserWarning: Palette images with Transparency expressed in bytes should be converted to RGBA images\n",
            "  warnings.warn(\n"
          ]
        },
        {
          "name": "stdout",
          "output_type": "stream",
          "text": [
            "Training Loss: 0.231151 ; Acc: 91.5943\n"
          ]
        },
        {
          "name": "stderr",
          "output_type": "stream",
          "text": [
            "Validation Epoch 81/80:   1%|          | 2/174 [00:00<00:40,  4.26it/s]/home/treerspeaking/my_python_3.11.7/lib/python3.11/site-packages/PIL/Image.py:981: UserWarning: Palette images with Transparency expressed in bytes should be converted to RGBA images\n",
            "  warnings.warn(\n",
            "Validation Epoch 81/80:  17%|█▋        | 30/174 [00:02<00:08, 16.30it/s]/home/treerspeaking/my_python_3.11.7/lib/python3.11/site-packages/PIL/Image.py:981: UserWarning: Palette images with Transparency expressed in bytes should be converted to RGBA images\n",
            "  warnings.warn(\n",
            "Validation Epoch 81/80:  21%|██        | 36/174 [00:02<00:07, 18.09it/s]/home/treerspeaking/my_python_3.11.7/lib/python3.11/site-packages/PIL/Image.py:981: UserWarning: Palette images with Transparency expressed in bytes should be converted to RGBA images\n",
            "  warnings.warn(\n",
            "Validation Epoch 81/80:  25%|██▍       | 43/174 [00:02<00:06, 19.12it/s]/home/treerspeaking/my_python_3.11.7/lib/python3.11/site-packages/PIL/Image.py:981: UserWarning: Palette images with Transparency expressed in bytes should be converted to RGBA images\n",
            "  warnings.warn(\n",
            "Validation Epoch 81/80:  32%|███▏      | 55/174 [00:03<00:06, 19.73it/s]/home/treerspeaking/my_python_3.11.7/lib/python3.11/site-packages/PIL/Image.py:981: UserWarning: Palette images with Transparency expressed in bytes should be converted to RGBA images\n",
            "  warnings.warn(\n",
            "Validation Epoch 81/80:  67%|██████▋   | 117/174 [00:06<00:02, 19.72it/s]/home/treerspeaking/my_python_3.11.7/lib/python3.11/site-packages/PIL/Image.py:981: UserWarning: Palette images with Transparency expressed in bytes should be converted to RGBA images\n",
            "  warnings.warn(\n",
            "Validation Epoch 81/80: 100%|██████████| 174/174 [00:09<00:00, 17.56it/s]"
          ]
        },
        {
          "name": "stdout",
          "output_type": "stream",
          "text": [
            "Validation Loss: 0.5083; Acc: 87.9050\n",
            "saved model at epoch 80: ./models/epoch_80.pth\n"
          ]
        },
        {
          "name": "stderr",
          "output_type": "stream",
          "text": [
            "\n"
          ]
        }
      ],
      "source": [
        "num_epochs=80\n",
        "current_epoch = 1\n",
        "train_model(model, train_loader, val_loader, criterion, optimizer, scheduler,current_epoch, num_epochs, checkpoint_savedir='./models')"
      ],
      "id": "551d06c7-d033-438a-9458-e095be4fd6af"
    },
    {
      "cell_type": "markdown",
      "metadata": {
        "id": "dd42a7f0"
      },
      "source": [
        "## Đánh giá model"
      ],
      "id": "dd42a7f0"
    },
    {
      "cell_type": "markdown",
      "metadata": {
        "id": "cdb62ae3"
      },
      "source": [
        "####Chuẩn bị hàm predict_on_test\n",
        "\n",
        "\n",
        "Hàm trả về một Dataframe bao gồm các cột\n",
        "* \"full_path\": đường dẫn đến các ảnh đã predict\n",
        "* \"predictions\": chứa kết quả đã dự đoán từ model tương ứng với từng ảnh (được thể hiện ở kiểu dữ liệu số integer)\n",
        "* \"label\": label thực tế tương ứng với từng ảnh (được thể hiện ở kiểu dữ liệu số integer)"
      ],
      "id": "cdb62ae3"
    },
    {
      "cell_type": "code",
      "execution_count": null,
      "metadata": {
        "id": "O7c12tl9qp6x"
      },
      "outputs": [],
      "source": [
        "def predict_on_test(csv_file, model, device):\n",
        "    data = pd.read_csv(csv_file)\n",
        "    IMG_SIZE = 360\n",
        "\n",
        "    test_transform = transforms.Compose([\n",
        "        transforms.Resize(IMG_SIZE),\n",
        "        transforms.CenterCrop(IMG_SIZE - 24),\n",
        "        transforms.ToTensor(),\n",
        "        transforms.Normalize(mean=[0.485, 0.456, 0.406], std=[0.229, 0.224, 0.225]),\n",
        "    ])\n",
        "\n",
        "    dataset = CustomImageDataset(data, save_dir=\"./\", transform=test_transform)\n",
        "    dataloader = DataLoader(dataset, batch_size=32, shuffle=False)\n",
        "    print(f\"device is {device}\")\n",
        "\n",
        "    model.eval()\n",
        "    model.to(device)\n",
        "\n",
        "    predictions = torch.tensor([], dtype=torch.long, device=device)\n",
        "    corrects = 0\n",
        "    with torch.no_grad():\n",
        "        for images, labels in dataloader:\n",
        "            images = images.to(device)\n",
        "            labels = labels.to(device)  # Ensure labels are on the same device\n",
        "            outputs = model(images)\n",
        "            _, predicted = torch.max(outputs, 1)\n",
        "            corrects += torch.sum(predicted == labels)\n",
        "            predictions = torch.cat((predictions, predicted))\n",
        "\n",
        "    data['predictions'] = predictions.cpu().tolist()\n",
        "    return data\n"
      ],
      "id": "O7c12tl9qp6x"
    },
    {
      "cell_type": "markdown",
      "source": [
        "#### Chuẩn bị hàm evaluate_test\n",
        "\n",
        "Mô tả logic: hàm sẽ load model theo đúng loại, đã sử dụng trước đó cho split, sau đó load trạng thái model rồi gọi hàm **predict_on_test** để nhận được Dataframe chứa kết quả đã dự đoán"
      ],
      "metadata": {
        "id": "KAj6nBvBDsCo"
      },
      "id": "KAj6nBvBDsCo"
    },
    {
      "cell_type": "code",
      "execution_count": null,
      "metadata": {
        "id": "4phM8dVLqqAZ"
      },
      "outputs": [],
      "source": [
        "def evaluate_test(split_test_id,model_dir,is_ResNet:bool):\n",
        "  num_classes = 5  # Number of classes in your dataset\n",
        "  model = None\n",
        "\n",
        "  if(is_ResNet):\n",
        "    model = models.resnet50(weights='DEFAULT')\n",
        "    num_ftrs = model.fc.in_features\n",
        "    model.fc = nn.Linear(num_ftrs, num_classes)\n",
        "  else:\n",
        "    model = models.mobilenet_v3_large(weights='DEFAULT')\n",
        "    # print(model)\n",
        "    # num_ftrs = model.fc.in_features\n",
        "    # model.fc = nn.Linear(num_ftrs, num_classes)\n",
        "    model.classifier = nn.Sequential(\n",
        "        nn.Linear(in_features=960, out_features=1280, bias=True),\n",
        "        nn.Hardswish(),\n",
        "        nn.Dropout(p=0.2),\n",
        "        nn.Linear(in_features=1280, out_features=5, bias=True))\n",
        "  map_location = torch.device('cpu')\n",
        "  if(torch_directml.is_available()):\n",
        "    map_location = torch_directml.device()\n",
        "  elif(torch.cuda.is_available()):\n",
        "    map_location = torch.cuda.device()\n",
        "  model.load_state_dict(torch.load(f\"{model_dir}/best_model.pth\",map_location=map_location))\n",
        "\n",
        "  # device = torch.device(\"cuda\" if torch.cuda.is_available() else \"cpu\")\n",
        "  # model.to(device)\n",
        "  test_file_name = f'./MotocycleDataset-test-clean-{split_test_id}.csv'\n",
        "  predicted_df = predict_on_test(test_file_name,model,device=map_location)\n",
        "  return predicted_df\n"
      ],
      "id": "4phM8dVLqqAZ"
    },
    {
      "cell_type": "markdown",
      "source": [
        "### Bắt đầu dự đoán cho từng split"
      ],
      "metadata": {
        "id": "aMZsULWJk_K2"
      },
      "id": "aMZsULWJk_K2"
    },
    {
      "cell_type": "code",
      "execution_count": null,
      "metadata": {
        "id": "WsyAptxnqqGk",
        "outputId": "53877ff9-9676-4117-e816-84223d82106d"
      },
      "outputs": [
        {
          "name": "stderr",
          "output_type": "stream",
          "text": [
            "c:\\Users\\Admin\\AppData\\Local\\Programs\\Python\\Python312\\Lib\\site-packages\\PIL\\Image.py:1000: UserWarning: Palette images with Transparency expressed in bytes should be converted to RGBA images\n",
            "  warnings.warn(\n"
          ]
        }
      ],
      "source": [
        "df_predict_split_1 = evaluate_test(split_test_id=1,model_dir=\"./mobilenet-split-1\",is_ResNet=False)"
      ],
      "id": "WsyAptxnqqGk"
    },
    {
      "cell_type": "markdown",
      "source": [
        "### Xem một vài dự đoán"
      ],
      "metadata": {
        "id": "9lrahdeS1DfT"
      },
      "id": "9lrahdeS1DfT"
    },
    {
      "cell_type": "code",
      "execution_count": null,
      "metadata": {
        "id": "4dd2904a",
        "outputId": "7bff2702-8837-4f78-8170-1dad43d264ea"
      },
      "outputs": [
        {
          "data": {
            "text/html": [
              "<div>\n",
              "<style scoped>\n",
              "    .dataframe tbody tr th:only-of-type {\n",
              "        vertical-align: middle;\n",
              "    }\n",
              "\n",
              "    .dataframe tbody tr th {\n",
              "        vertical-align: top;\n",
              "    }\n",
              "\n",
              "    .dataframe thead th {\n",
              "        text-align: right;\n",
              "    }\n",
              "</style>\n",
              "<table border=\"1\" class=\"dataframe\">\n",
              "  <thead>\n",
              "    <tr style=\"text-align: right;\">\n",
              "      <th></th>\n",
              "      <th>full_path</th>\n",
              "      <th>label_idx</th>\n",
              "      <th>predictions</th>\n",
              "    </tr>\n",
              "  </thead>\n",
              "  <tbody>\n",
              "    <tr>\n",
              "      <th>0</th>\n",
              "      <td>./CLASS-IMAGES/Honda/22520968-22520996-2252099...</td>\n",
              "      <td>1</td>\n",
              "      <td>1</td>\n",
              "    </tr>\n",
              "    <tr>\n",
              "      <th>1</th>\n",
              "      <td>./CLASS-IMAGES/Honda/22520968-22520996-2252099...</td>\n",
              "      <td>1</td>\n",
              "      <td>1</td>\n",
              "    </tr>\n",
              "    <tr>\n",
              "      <th>2</th>\n",
              "      <td>./CLASS-IMAGES/Honda/22520968-22520996-2252099...</td>\n",
              "      <td>1</td>\n",
              "      <td>1</td>\n",
              "    </tr>\n",
              "    <tr>\n",
              "      <th>3</th>\n",
              "      <td>./CLASS-IMAGES/Honda/22520968-22520996-2252099...</td>\n",
              "      <td>1</td>\n",
              "      <td>1</td>\n",
              "    </tr>\n",
              "    <tr>\n",
              "      <th>4</th>\n",
              "      <td>./CLASS-IMAGES/Honda/22520968-22520996-2252099...</td>\n",
              "      <td>1</td>\n",
              "      <td>1</td>\n",
              "    </tr>\n",
              "    <tr>\n",
              "      <th>...</th>\n",
              "      <td>...</td>\n",
              "      <td>...</td>\n",
              "      <td>...</td>\n",
              "    </tr>\n",
              "    <tr>\n",
              "      <th>6951</th>\n",
              "      <td>./CLASS-IMAGES/Others/22520033-22520035-225200...</td>\n",
              "      <td>0</td>\n",
              "      <td>0</td>\n",
              "    </tr>\n",
              "    <tr>\n",
              "      <th>6952</th>\n",
              "      <td>./CLASS-IMAGES/Others/22520033-22520035-225200...</td>\n",
              "      <td>0</td>\n",
              "      <td>0</td>\n",
              "    </tr>\n",
              "    <tr>\n",
              "      <th>6953</th>\n",
              "      <td>./CLASS-IMAGES/Others/22520033-22520035-225200...</td>\n",
              "      <td>0</td>\n",
              "      <td>0</td>\n",
              "    </tr>\n",
              "    <tr>\n",
              "      <th>6954</th>\n",
              "      <td>./CLASS-IMAGES/Others/22520033-22520035-225200...</td>\n",
              "      <td>0</td>\n",
              "      <td>1</td>\n",
              "    </tr>\n",
              "    <tr>\n",
              "      <th>6955</th>\n",
              "      <td>./CLASS-IMAGES/Others/22520033-22520035-225200...</td>\n",
              "      <td>0</td>\n",
              "      <td>0</td>\n",
              "    </tr>\n",
              "  </tbody>\n",
              "</table>\n",
              "<p>6956 rows × 3 columns</p>\n",
              "</div>"
            ],
            "text/plain": [
              "                                              full_path  label_idx  \\\n",
              "0     ./CLASS-IMAGES/Honda/22520968-22520996-2252099...          1   \n",
              "1     ./CLASS-IMAGES/Honda/22520968-22520996-2252099...          1   \n",
              "2     ./CLASS-IMAGES/Honda/22520968-22520996-2252099...          1   \n",
              "3     ./CLASS-IMAGES/Honda/22520968-22520996-2252099...          1   \n",
              "4     ./CLASS-IMAGES/Honda/22520968-22520996-2252099...          1   \n",
              "...                                                 ...        ...   \n",
              "6951  ./CLASS-IMAGES/Others/22520033-22520035-225200...          0   \n",
              "6952  ./CLASS-IMAGES/Others/22520033-22520035-225200...          0   \n",
              "6953  ./CLASS-IMAGES/Others/22520033-22520035-225200...          0   \n",
              "6954  ./CLASS-IMAGES/Others/22520033-22520035-225200...          0   \n",
              "6955  ./CLASS-IMAGES/Others/22520033-22520035-225200...          0   \n",
              "\n",
              "      predictions  \n",
              "0               1  \n",
              "1               1  \n",
              "2               1  \n",
              "3               1  \n",
              "4               1  \n",
              "...           ...  \n",
              "6951            0  \n",
              "6952            0  \n",
              "6953            0  \n",
              "6954            1  \n",
              "6955            0  \n",
              "\n",
              "[6956 rows x 3 columns]"
            ]
          },
          "execution_count": 66,
          "metadata": {},
          "output_type": "execute_result"
        }
      ],
      "source": [
        "df_predict_split_1"
      ],
      "id": "4dd2904a"
    },
    {
      "cell_type": "markdown",
      "source": [
        "### Lưu lại kết quả đã dự đoán"
      ],
      "metadata": {
        "id": "IxLkQ3Ia1Nwp"
      },
      "id": "IxLkQ3Ia1Nwp"
    },
    {
      "cell_type": "code",
      "execution_count": null,
      "metadata": {
        "id": "98d0d379"
      },
      "outputs": [],
      "source": [
        "df_predict_split_1.to_csv('predictions-split-1.csv',index=False,header=True)"
      ],
      "id": "98d0d379"
    },
    {
      "cell_type": "markdown",
      "source": [
        "### Chuẩn bị hàm để load các thước đó và các model đã được train"
      ],
      "metadata": {
        "id": "6sBGisHV2a3E"
      },
      "id": "6sBGisHV2a3E"
    },
    {
      "cell_type": "code",
      "execution_count": null,
      "metadata": {
        "id": "2dotIBD4qqNK"
      },
      "outputs": [],
      "source": [
        "def extract_number(s):\n",
        "\t\t\t\treturn int(s.split('.')[0].split('_')[1])\n",
        "\n",
        "def load_and_plot_metrics(checkpoint_dir):\n",
        "    train_losses = []\n",
        "    val_losses = []\n",
        "    train_accs = []\n",
        "    val_accs = []\n",
        "    epochs = []\n",
        "    device = \"cpu\"\n",
        "    files_of_models = os.listdir(checkpoint_dir)\n",
        "    files_of_models.remove('best_model.pth')\n",
        "    print(*files_of_models)\n",
        "    files_of_models=sorted(files_of_models,key=extract_number)\n",
        "    if(torch.cuda.is_available()):\n",
        "        device = \"cuda\"\n",
        "    elif(torch_directml.is_available()):\n",
        "        device = torch_directml.device()\n",
        "\n",
        "    for filename in files_of_models:\n",
        "        if filename.endswith('.pth') and (not filename.startswith('best')):\n",
        "            checkpoint_path = os.path.join(checkpoint_dir, filename)\n",
        "            checkpoint = torch.load(checkpoint_path,map_location=device)\n",
        "\n",
        "            epochs.append(int(filename.split('_')[1].split('.')[0]))\n",
        "            train_losses.append(checkpoint['train_loss'])\n",
        "            val_losses.append(checkpoint['val_loss'])\n",
        "            train_accs.append(checkpoint['train_acc'])\n",
        "            val_accs.append(checkpoint['val_acc'])\n",
        "\n",
        "    plot_metrics(epochs, train_losses, val_losses, train_accs, val_accs)\n",
        "    return epochs, train_losses, val_losses, train_accs, val_accs\n",
        "\n",
        "def plot_metrics(epochs, train_losses, val_losses, train_accs, val_accs):\n",
        "    plt.figure(figsize=(12, 5))\n",
        "\n",
        "    # Plot Loss\n",
        "    plt.subplot(1, 2, 1)\n",
        "    plt.plot(epochs, train_losses, label='Train Loss')\n",
        "    plt.plot(epochs, val_losses, label='Validation Loss')\n",
        "    plt.xlabel('Epochs')\n",
        "    plt.ylabel('Loss')\n",
        "    plt.title('Train and Validation Loss Over Time')\n",
        "    plt.legend()\n",
        "\n",
        "    # Plot Accuracy\n",
        "    plt.subplot(1, 2, 2)\n",
        "    plt.plot(epochs, train_accs, label='Train Accuracy')\n",
        "    plt.plot(epochs, val_accs, label='Validation Accuracy')\n",
        "    plt.xlabel('Epochs')\n",
        "    plt.ylabel('Accuracy')\n",
        "    plt.title('Train and Validation Accuracy Over Time')\n",
        "    plt.legend()\n",
        "\n",
        "    plt.tight_layout()\n",
        "    plt.show()\n",
        "\n",
        "# Example usage:\n",
        "\n"
      ],
      "id": "2dotIBD4qqNK"
    },
    {
      "cell_type": "markdown",
      "source": [
        "###Chuẩn bị hàm để tính toán ra các thông số sau khi dự đoán bao gồm\n",
        "* Accuracy: tính theo % số label dự đoán đúng trên tổng số dòng từ file split test tương ứng ban đầu\n",
        "* total: số dòng trong file split test ban đầu\n",
        "\n",
        "Ngoài ra chuẩn bị hàm tiện ích giúp append vào file kết quả chung của cả lớp"
      ],
      "metadata": {
        "id": "KgtzdpJt2kAh"
      },
      "id": "KgtzdpJt2kAh"
    },
    {
      "cell_type": "code",
      "execution_count": null,
      "metadata": {
        "id": "5f8e070c"
      },
      "outputs": [],
      "source": [
        "def compute_matches(csv_file,original_csv_file,label_col='label_idx',prediction_col='predictions'):\n",
        "    # Read the CSV file\n",
        "    data = pd.read_csv(csv_file)\n",
        "\n",
        "    # Ensure the relevant columns are present\n",
        "    if label_col not in data.columns or prediction_col not in data.columns:\n",
        "        raise ValueError(f\"CSV must contain {label_col} and {prediction_col} columns.\")\n",
        "\n",
        "    # Compute the number of matches\n",
        "    data['match'] = data[label_col] == data[prediction_col]\n",
        "    num_matches = data['match'].sum()\n",
        "    total = len(pd.read_csv(original_csv_file))\n",
        "    accuracy = num_matches*100 / total\n",
        "    accuracy = round(accuracy,4)\n",
        "\n",
        "    print(f\"Number of matches: {num_matches}\")\n",
        "    print(f\"Total samples: {total}\")\n",
        "    print(f\"Accuracy: {accuracy:.4f}\")\n",
        "\n",
        "    return accuracy, total, accuracy\n",
        "def append_line_to_csv(file_path,line):\n",
        "    # if not os.path.exists(file_path):\n",
        "    #   with open(file_path, 'w') as f:\n",
        "    #       f.write(line)\n",
        "    #       f.write('\\n')\n",
        "    #       f.close()\n",
        "    with open(file_path, 'a') as f:\n",
        "        f.write(line)\n",
        "        f.write('\\n')\n",
        "        f.close()\n"
      ],
      "id": "5f8e070c"
    },
    {
      "cell_type": "markdown",
      "source": [
        "###Bắt đầu dự đoán"
      ],
      "metadata": {
        "id": "0AuDf3AnoieF"
      },
      "id": "0AuDf3AnoieF"
    },
    {
      "cell_type": "markdown",
      "source": [
        "#### Dự đoán cho split test 1\n",
        "\n",
        "Số dự đoán đúng: 6011\n",
        "<br>\n",
        "Số dòng tất cả: 7010\n",
        "<br>\n",
        "Accuracy: 85.7489 %"
      ],
      "metadata": {
        "id": "xBSYVaNC3B2z"
      },
      "id": "xBSYVaNC3B2z"
    },
    {
      "cell_type": "code",
      "execution_count": null,
      "metadata": {
        "colab": {
          "base_uri": "https://localhost:8080/"
        },
        "id": "7350cd49",
        "outputId": "924ea8e6-807d-4489-f5ab-8f812164040a"
      },
      "outputs": [
        {
          "output_type": "stream",
          "name": "stdout",
          "text": [
            "Number of matches: 6011\n",
            "Total samples: 7010\n",
            "Accuracy: 85.7489\n",
            "--------------------------------------------------\n",
            "2024-07-02 08:25:55,21522458,1,85.7489,MobileNetV3: 80 epochs + No-EarlyStopping + AdamW  + batch_size=32 + img_size=360 + NORMALIZE before training and testing + UPDATELrOnPlateau over val_loss\n"
          ]
        }
      ],
      "source": [
        "formatted_date = (datetime.now()).strftime(\"%Y-%m-%d %H:%M:%S\")\n",
        "\n",
        "mssv = '21522458'\n",
        "SPLIT_1 = 1\n",
        "Desc_1 = \"\"\"MobileNetV3: 80 epochs + No-EarlyStopping + AdamW  + batch_size=32 + img_size=360 + NORMALIZE before training and testing + UPDATELrOnPlateau over val_loss\"\"\"\n",
        "num_matches, total, accuracy = compute_matches(\n",
        "    'predictions-split-1.csv',original_csv_file=f'{ORIGINAL_THAYDUY_DIR}/MotocycleDataset-Splits-1-Test.csv')\n",
        "print(\"-\"*50)\n",
        "line_split_1 = f\"{formatted_date},{mssv},{SPLIT_1},{accuracy},{Desc_1}\"\n",
        "print(line_split_1)"
      ],
      "id": "7350cd49"
    },
    {
      "cell_type": "markdown",
      "source": [
        "### Plot các thước đo được lưu lại sau khi train\n",
        "Thông tin plot bao gồm:\n",
        "* training loss và validation loss over time (epoch)\n",
        "* training accuracy và validation accuracy over time (epoch)"
      ],
      "metadata": {
        "id": "ljuVQFdk3YGf"
      },
      "id": "ljuVQFdk3YGf"
    },
    {
      "cell_type": "markdown",
      "source": [
        "#### Plot các thước đo cho quá trình train"
      ],
      "metadata": {
        "id": "cnQIwVF03fA9"
      },
      "id": "cnQIwVF03fA9"
    },
    {
      "cell_type": "code",
      "execution_count": null,
      "metadata": {
        "id": "58e27e45",
        "outputId": "534bec27-7ca5-4e2e-f699-b82126989486"
      },
      "outputs": [
        {
          "name": "stdout",
          "output_type": "stream",
          "text": [
            "epoch_1.pth epoch_10.pth epoch_11.pth epoch_12.pth epoch_13.pth epoch_14.pth epoch_15.pth epoch_16.pth epoch_17.pth epoch_18.pth epoch_19.pth epoch_2.pth epoch_20.pth epoch_21.pth epoch_22.pth epoch_23.pth epoch_24.pth epoch_25.pth epoch_26.pth epoch_27.pth epoch_28.pth epoch_29.pth epoch_3.pth epoch_30.pth epoch_31.pth epoch_32.pth epoch_33.pth epoch_34.pth epoch_35.pth epoch_36.pth epoch_37.pth epoch_38.pth epoch_39.pth epoch_4.pth epoch_40.pth epoch_41.pth epoch_42.pth epoch_43.pth epoch_44.pth epoch_45.pth epoch_46.pth epoch_47.pth epoch_48.pth epoch_49.pth epoch_5.pth epoch_50.pth epoch_51.pth epoch_52.pth epoch_53.pth epoch_54.pth epoch_55.pth epoch_56.pth epoch_57.pth epoch_58.pth epoch_59.pth epoch_6.pth epoch_60.pth epoch_61.pth epoch_62.pth epoch_63.pth epoch_64.pth epoch_65.pth epoch_66.pth epoch_67.pth epoch_68.pth epoch_69.pth epoch_7.pth epoch_70.pth epoch_71.pth epoch_72.pth epoch_73.pth epoch_74.pth epoch_75.pth epoch_76.pth epoch_77.pth epoch_78.pth epoch_79.pth epoch_8.pth epoch_80.pth epoch_9.pth\n"
          ]
        },
        {
          "data": {
            "image/png": "[encoded data removed]",
            "text/plain": [
              "<Figure size 1200x500 with 2 Axes>"
            ]
          },
          "metadata": {},
          "output_type": "display_data"
        }
      ],
      "source": [
        "checkpoint_dir = 'mobilenet-split-1'\n",
        "epochs, train_losses, val_losses, train_accs, val_accs = load_and_plot_metrics(checkpoint_dir)\n",
        "# plot_metrics(epochs, train_losses, val_losses, train_accs, val_accs)"
      ],
      "id": "58e27e45"
    },
    {
      "cell_type": "markdown",
      "source": [
        "### Plot Confusion matrix"
      ],
      "metadata": {
        "id": "AZboXv49F2la"
      },
      "id": "AZboXv49F2la"
    },
    {
      "cell_type": "markdown",
      "source": [
        "#### Chuẩn bị hàm để plot\n",
        "Mô tả\n",
        "* Hàm sẽ plot ra confusion matrix.\n",
        "* Đồng thời xuất ra bảng giá trị precision, recall, F1 score cho từng label\n",
        "* Sau cùng sẽ in ra accuracy cho danh sách các ảnh đã predict.\n",
        "<br>\n",
        "\n",
        "**Lưu ý: các ảnh không thể load được không được tính trong bảng này**"
      ],
      "metadata": {
        "id": "FVFnDNwlqOeG"
      },
      "id": "FVFnDNwlqOeG"
    },
    {
      "cell_type": "code",
      "execution_count": null,
      "metadata": {
        "id": "c158f7fb"
      },
      "outputs": [],
      "source": [
        "def plot_metrics_and_confusion_matrix(csv_file, reverse_label_mapping):\n",
        "    # Read the CSV file\n",
        "    data = pd.read_csv(csv_file)\n",
        "\n",
        "    # Ensure the relevant columns are present\n",
        "    if 'label_idx' not in data.columns or 'predictions' not in data.columns:\n",
        "        raise ValueError(\"CSV must contain 'label_idx' and 'predictions' columns.\")\n",
        "\n",
        "    # Get the true labels and predictions\n",
        "    y_true = data['label_idx']\n",
        "    y_pred = data['predictions']\n",
        "\n",
        "    # Generate the confusion matrix\n",
        "    conf_matrix = confusion_matrix(y_true, y_pred)\n",
        "\n",
        "    # Get the labels for plotting\n",
        "    labels = [reverse_label_mapping[i] for i in range(len(reverse_label_mapping))]\n",
        "\n",
        "    # Calculate precision, recall, f1 score, and accuracy\n",
        "    precision, recall, f1, _ = precision_recall_fscore_support(y_true, y_pred, average=None, labels=list(reverse_label_mapping.keys()))\n",
        "    accuracy = accuracy_score(y_true, y_pred)\n",
        "\n",
        "    # Create a DataFrame for the metrics\n",
        "    metrics_df = pd.DataFrame({\n",
        "        'Label': labels,\n",
        "        'Precision': [prec.round(4) for prec in precision],\n",
        "        'Recall': [rec.round(4) for rec in recall],\n",
        "        'F1 Score': [f1_score.round(4) for f1_score in f1],\n",
        "    })\n",
        "\n",
        "    # Plot the confusion matrix\n",
        "    plt.figure(figsize=(12, 8))\n",
        "    sns.heatmap(conf_matrix, annot=True, fmt='d', cmap='Blues', xticklabels=labels, yticklabels=labels)\n",
        "    plt.xlabel('Predicted Labels')\n",
        "    plt.ylabel('True Labels')\n",
        "    plt.title('Confusion Matrix')\n",
        "    plt.show()\n",
        "\n",
        "    print(\"Metrics by Class over Loadable Images:\")\n",
        "    print(metrics_df)\n",
        "    print(f\"\\nOverall Accuracy: {(accuracy*100):.4f}\")\n"
      ],
      "id": "c158f7fb"
    },
    {
      "cell_type": "markdown",
      "source": [
        "#### Confusion matrix cho SPLIT 1 và bảng các giá trị thống kê độ chính xác"
      ],
      "metadata": {
        "id": "xAa2QeXe3rmV"
      },
      "id": "xAa2QeXe3rmV"
    },
    {
      "cell_type": "code",
      "execution_count": null,
      "metadata": {
        "id": "cd85488c",
        "outputId": "d158ad88-acb4-4c68-b965-baba0bf6c606"
      },
      "outputs": [
        {
          "data": {
            "image/png": "[encoded data removed]",
            "text/plain": [
              "<Figure size 1200x800 with 2 Axes>"
            ]
          },
          "metadata": {},
          "output_type": "display_data"
        },
        {
          "name": "stdout",
          "output_type": "stream",
          "text": [
            "Metrics by Class over Loadable Images:\n",
            "     Label  Precision  Recall  F1 Score\n",
            "0   Others     0.8337  0.8164    0.8250\n",
            "1    Honda     0.8715  0.8801    0.8758\n",
            "2   Suzuki     0.8776  0.8340    0.8552\n",
            "3   Yamaha     0.8245  0.8567    0.8403\n",
            "4  VinFast     0.9603  0.9715    0.9659\n",
            "\n",
            "Overall Accuracy: 86.4146\n"
          ]
        }
      ],
      "source": [
        "csv_file = 'predictions-split-1.csv'\n",
        "plot_metrics_and_confusion_matrix(csv_file, reverse_label_mapping)"
      ],
      "id": "cd85488c"
    }
  ],
  "metadata": {
    "accelerator": "GPU",
    "colab": {
      "gpuType": "T4",
      "provenance": [],
      "toc_visible": true
    },
    "kernelspec": {
      "display_name": "Python 3",
      "name": "python3"
    },
    "language_info": {
      "codemirror_mode": {
        "name": "ipython",
        "version": 3
      },
      "file_extension": ".py",
      "mimetype": "text/x-python",
      "name": "python",
      "nbconvert_exporter": "python",
      "pygments_lexer": "ipython3",
      "version": "3.12.2"
    }
  },
  "nbformat": 4,
  "nbformat_minor": 5
}